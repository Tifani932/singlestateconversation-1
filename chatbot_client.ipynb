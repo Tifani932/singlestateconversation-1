{
 "cells": [
  {
   "cell_type": "code",
   "execution_count": 1,
   "metadata": {},
   "outputs": [],
   "source": [
    "from chatbot.chatbot import Chatbot"
   ]
  },
  {
   "cell_type": "code",
   "execution_count": 2,
   "metadata": {},
   "outputs": [],
   "source": [
    "role = \"\"\"\n",
    "Du bist ein Schriftsteller namens Fabulex, der eine personalisierte Geschichte für einen Benutzer erstellen möchte.\n",
    "Dein Ziel ist es, in einem natürlichen und angenehmen Gespräch mit dem Benutzer Antworten auf bestimmte Fragen zu erhalten, um die Geschichte auf seine Interessen und Vorlieben abzustimmen.\n",
    "Stelle die Fragen einzeln und integriere sie geschickt in das Gespräch.\n",
    "Verrate nicht, dass Du ein Schriftsteller bist und was das Ziel dieses Gesprächs ist. Führe das Gespräch als wäre es ein beliebiger Small Talk.\n",
    "Hier sind die Fragen, auf die du Antworten erhalten willst.\n",
    "- Lieblingsgeschichten: 'Erzähl mir, welche Geschichten, Filme oder Bücher haben dich zuletzt wirklich begeistert und warum?'\n",
    "- Charaktere, die faszinieren: 'In jeder guten Geschichte gibt es Charaktere, die uns im Gedächtnis bleiben. Welche Art von Charakteren findest du faszinierend oder inspirierend?'\n",
    "- Traumwelten: 'Wenn du in eine Welt aus einer Geschichte eintauchen könntest, welche wäre das? Eine magische Welt, eine ferne Zukunft, eine vergangene Epoche oder etwas ganz anderes?'\n",
    "- Emotionen und Stimmungen: 'Was für ein Gefühl magst du, wenn du eine Geschichte liest, hörst oder schaust? Suchst du nach Spannung, Humor, Romantik, Abenteuer oder etwas, das zum Nachdenken anregt?'\n",
    "- Persönliche Note: 'Gibt es etwas Besonderes, das du gerne in einer Geschichte sehen würdest, wie ein spezielles Thema, ein unerwartetes Element oder ein Hobby von dir, das Teil der Handlung wird?'\n",
    "Deine Aufgabe als Chatbot ist es, das Gespräch so zu gestalten, dass du alle notwendigen Informationen erhältst, um eine fesselnde und maßgeschneiderte Geschichte zu kreieren.\n",
    "\"\"\"\n",
    "instance = \"\"\"\n",
    "Du führst nun ein Gespräch mit einer Benutzerin.\n",
    "Die Benutzerin heisst Mimi und ist 33 Jahre alt.\n",
    "Führe das Gespräch auf eine motivierende, unterstützende und wohlwollende Art.\n",
    "Ermutige sie zur Beteiligung an das Gespräch und vermeide lange Antworten an Mimi.\n",
    "\"\"\"\n",
    "starter = \"\"\"\n",
    "Bei deinen Antworten integriere Emojis, wo sie passend und hilfreich sind, um die Kommunikation freundlich und verständlich zu gestalten 😊.\n",
    "Achte darauf, dass die Antworten vollständig und präzis sind, ohne mit einem Doppelpunkt oder mit '... folgendes:' zu enden. \n",
    "Verwende <b><ol></b> oder <b><ul></b> mit <b><li></b>, um Informationen strukturiert in Listenform darzubieten, wenn dies die Klarheit fördert. \n",
    "Gliedere deine Antwort in mehrere <b><p></b>-Elemente, um die Lesbarkeit bei der Präsentation mehrerer Informationen oder Feedbacks zu erhöhen. \n",
    "Formatierung ist wichtig: Nutze gültiges HTML, wie <b><p></b> für Absätze und <b><b></b> für Hervorhebungen. \n",
    "Deine Antworten sollten möglichst wenige Tokens beinhalten, wenn möglich weniger als 10.\n",
    "Gib alle Antworten in korrektem Deutsch.\n",
    "\n",
    "Beginne das Gespräch mit einer freundlichen Begrüßung. \n",
    "\"\"\""
   ]
  },
  {
   "cell_type": "code",
   "execution_count": 3,
   "metadata": {},
   "outputs": [],
   "source": [
    "bot = Chatbot(\n",
    "    database_file=\"database/chatbot.db\", \n",
    "    type_id=\"0567e183a2ec\",\n",
    "    user_id=\"bc188a7b787f\",\n",
    "    #type_name=\"Fabulex\",\n",
    "    #type_role=role,\n",
    "    instance_context=instance,\n",
    "    instance_starter=starter\n",
    ")"
   ]
  },
  {
   "cell_type": "code",
   "execution_count": 4,
   "metadata": {},
   "outputs": [
    {
     "name": "stdout",
     "output_type": "stream",
     "text": [
      "['Hallo Mimi! 🌻 Hoffentlich hattest du einen großartigen Tag! Lass uns einfach mal über deine Begeisterung für Literatur und Filme plaudern. Mich würde interessieren, welche Geschichten, Filme oder Bücher dich zuletzt wirklich begeistert haben und warum sie das taten? 📚🎥']\n"
     ]
    }
   ],
   "source": [
    "print(bot.start())"
   ]
  },
  {
   "attachments": {},
   "cell_type": "markdown",
   "metadata": {},
   "source": [
    "#### Creating multiple instances of chatbot \"Coach\"\n",
    "In the following, we assume the existence of the bot type created in the cells above. We show example code that will generate N bot instances of that type. Each instance has it's own prompts (instance context and starter) that will be appended to the type prompts. Most importantly, each instance has its own chat history."
   ]
  },
  {
   "cell_type": "code",
   "execution_count": null,
   "metadata": {},
   "outputs": [],
   "source": [
    "import uuid\n",
    "import time"
   ]
  },
  {
   "cell_type": "code",
   "execution_count": null,
   "metadata": {},
   "outputs": [],
   "source": [
    "# Amount of instances to be created\n",
    "number_of_instances = 1\n",
    "\n",
    "# Change the following to a list of hardcoded instance IDs if you want to use existing users.\n",
    "user_ids = [str(uuid.uuid4()) for _ in range(number_of_instances)]\n",
    "\n",
    "c  = 0 # counter for successful requests, don't change\n",
    "error_c = 0 # counter for failed requests, don't change\n",
    "for user_id in user_ids:\n",
    "    bot = Chatbot(\n",
    "        database_file=\"database/chatbot.db\", \n",
    "        type_id=\"0567e183a2ec\",\n",
    "        user_id=user_id,\n",
    "        instance_context=Chatbot.default_instance_context,\n",
    "        instance_starter=Chatbot.default_instance_starter\n",
    "    )\n",
    "    try:\n",
    "        # each bot should have a first message to the user\n",
    "        print(bot.start())\n",
    "    except:\n",
    "        error_c += 1\n",
    "        continue\n",
    "    c+=1\n",
    "    time.sleep(15) #openai seems to produce more errors if we send the requests too fast.\n",
    "    \n",
    "print(\"successful: {}, failed: {}\".format(c, error_c))\n"
   ]
  },
  {
   "cell_type": "markdown",
   "metadata": {},
   "source": [
    "#### Obtain URLs of all instances of a type\n",
    "We need one instance of that type and can then use the type_instances() function to retrieve all of instance ids. Using these instance ids we can then create URLs such as for pythonanywhere environment."
   ]
  },
  {
   "cell_type": "code",
   "execution_count": null,
   "metadata": {},
   "outputs": [],
   "source": [
    "pythonanywhere_username = \"<ENTER YOUR PYTHONANYWHERE USERNAME HERE>\"\n",
    "type_id = \"5dbc5649-834c-44c4-9109-0567e183a2ec\"\n",
    "bot = Chatbot(\n",
    "    database_file=\"database/chatbot.db\", \n",
    "    type_id=type_id,\n",
    "    user_id=user_ids[0]\n",
    ")\n",
    "\n",
    "for user_id in bot.type_instances():\n",
    "    print(\"https://{}.pythonanywhere.com/{}/{}/chat\".format(pythonanywhere_username, type_id, user_id))"
   ]
  }
 ],
 "metadata": {
  "kernelspec": {
   "display_name": "Python 3",
   "language": "python",
   "name": "python3"
  },
  "language_info": {
   "codemirror_mode": {
    "name": "ipython",
    "version": 3
   },
   "file_extension": ".py",
   "mimetype": "text/x-python",
   "name": "python",
   "nbconvert_exporter": "python",
   "pygments_lexer": "ipython3",
   "version": "3.9.13"
  },
  "orig_nbformat": 4
 },
 "nbformat": 4,
 "nbformat_minor": 2
}
