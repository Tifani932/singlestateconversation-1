{
 "cells": [
  {
   "attachments": {},
   "cell_type": "markdown",
   "metadata": {},
   "source": [
    "## A Chatbot using GPT and a Database\n",
    "This allows multiple chatbot types (e.g. a health coach and a learning assistant) to be created. Multiple chatbot instances can be created per chatbot type (e.g. for User X and User Y). Both, type and instance are stored and referenced with an ID (e.g. with a UUID) in the database.\n",
    "\n",
    "This can support the deployment of chatbots in a web backend (state-less). For example, the UUIDs of the type and instance can be read as URL parameters from a URL that users have received from you.\n",
    "\n",
    "A chatbot is created with the following arguments.\n",
    "- database_file: File of SQLite (in Folder data/)\n",
    "- type_id: Reference to chatbot type\n",
    "- instance_id: Reference to chatbot instance (typically one per user - however, may also be shared by multiple users)\n",
    "- type_role: Role of chatbot type (will be turned into a first prompt with role:system)\n",
    "- instance_context: Context of chatbot instance (will be turned into a second prompt with role:system)\n",
    "- instance_starter: Will be used to generate an initial message to the user (will be turned into a final prompt with role:system)\n",
    "\n",
    "The following functions are meant to be used from an application (e.g. from controllers of a REST API).\n",
    "- conversation_retrieve(with_system=False): Retrieve the previous conversation history (default: without prompts with role:system)\n",
    "- start(): Returns an initial message to the user (Resulting from instance_starter prompt)\n",
    "- respond(user_says): Returns an assistance response to user_says\n",
    "- info_retrieve(): Returns the chatbot name, type role and instance context\n",
    "- reset(): Resets the conversation so far"
   ]
  },
  {
   "cell_type": "markdown",
   "metadata": {},
   "source": [
    "#### OpenAI API Key and Model\n",
    "\n",
    "Create file chatbot/openai.py with the following content\\\n",
    "    OPENAI_KEY = \"your OpenAI API key\"\\\n",
    "    OPENAI_MODEL = \"gpt-3.5-turbo-16k\"\\\n",
    "(You may rename the file chatbot/openai_template.py to openai.py and set the keys there)"
   ]
  },
  {
   "cell_type": "markdown",
   "metadata": {},
   "source": [
    "#### Google Colab Only: START\n",
    "\n",
    "You need a Google and Github account. Be prepared to authenticate yourself with both of these accounts."
   ]
  },
  {
   "cell_type": "code",
   "execution_count": null,
   "metadata": {},
   "outputs": [],
   "source": [
    "!git clone https://github.com/zhaw-iwi/singlestateconversation.git\n",
    "%cd /content/singlestateconversation/\n",
    "!pip install openai"
   ]
  },
  {
   "cell_type": "markdown",
   "metadata": {},
   "source": [
    "#### Google Colab Only: END"
   ]
  },
  {
   "cell_type": "code",
   "execution_count": 1,
   "metadata": {},
   "outputs": [],
   "source": [
    "from chatbot.chatbot import Chatbot"
   ]
  },
  {
   "attachments": {},
   "cell_type": "markdown",
   "metadata": {},
   "source": [
    "#### Create a chatbot \"Coach\" for user X"
   ]
  },
  {
   "attachments": {},
   "cell_type": "markdown",
   "metadata": {},
   "source": [
    "In the following, we use the default type_name, type_role, instance_context, and instance_starter defined in the Chatbot class. Provide your own prompts instead."
   ]
  },
  {
   "cell_type": "code",
   "execution_count": null,
   "metadata": {},
   "outputs": [],
   "source": [
    "bot = Chatbot(\n",
    "    database_file=\"database/chatbot.db\", \n",
    "    type_id=\"4b9e7b25-08d7-4031-b485-4741ecd48dd1\",\n",
    "    user_id=\"86f2177d-4462-4983-ace8-18a557c8db38\",\n",
    "    type_name=Chatbot.default_type_name,\n",
    "    type_role=Chatbot.default_type_role,\n",
    "    instance_context=Chatbot.default_instance_context,\n",
    "    instance_starter=Chatbot.default_instance_starter\n",
    ")"
   ]
  },
  {
   "attachments": {},
   "cell_type": "markdown",
   "metadata": {},
   "source": [
    "Optionally retrieve the complete conversation (held so far) or the bot information (type_role, instance_context, and instance_starter) as retrieved from the database. Both may be used to display that on a frontend."
   ]
  },
  {
   "cell_type": "code",
   "execution_count": null,
   "metadata": {},
   "outputs": [],
   "source": [
    "bot = Chatbot(\n",
    "    database_file=\"database/chatbot.db\", \n",
    "    type_id=\"4b9e7b25-08d7-4031-b485-4741ecd48dd1\",\n",
    "    user_id=\"86f2177d-4462-4983-ace8-18a557c8db38\"\n",
    ")\n",
    "print(bot.conversation_retrieve(with_system=True))\n",
    "print(bot.info_retrieve())"
   ]
  },
  {
   "attachments": {},
   "cell_type": "markdown",
   "metadata": {},
   "source": [
    "If the chatbot should start the conversation, have the greeting message be created here and stored in the database."
   ]
  },
  {
   "cell_type": "code",
   "execution_count": null,
   "metadata": {},
   "outputs": [],
   "source": [
    "print(bot.start())"
   ]
  },
  {
   "attachments": {},
   "cell_type": "markdown",
   "metadata": {},
   "source": [
    "URL to be handed out to the user: If you are following the instructions to deploy your chatbot(s) to pythonanywhere, this is the URL to access your chatbot.\n",
    "\n",
    "##### Generic URL\n",
    "https://[your pythonanywhere user name].pythonanywhere.com/[type id]/[user_id]/chat\n",
    "##### For Example\n",
    "https://monkey23.pythonanywhere.com/053e97a0-6a91-4589-8602-340aa47b6376/7515865e-4097-4dd7-9567-d3c7a4c1ed07/chat"
   ]
  },
  {
   "attachments": {},
   "cell_type": "markdown",
   "metadata": {},
   "source": [
    "#### Creating multiple instances of chatbot \"Coach\"\n",
    "In the following, we assume the existence of the bot type created in the cells above. We show example code that will generate N bot instances of that type. Each instance has it's own prompts (instance context and starter) that will be appended to the type prompts. Most importantly, each instance has its own chat history."
   ]
  },
  {
   "cell_type": "code",
   "execution_count": null,
   "metadata": {},
   "outputs": [],
   "source": [
    "import uuid\n",
    "import time"
   ]
  },
  {
   "cell_type": "code",
   "execution_count": null,
   "metadata": {},
   "outputs": [],
   "source": [
    "# Amount of instances to be created\n",
    "number_of_instances = 1\n",
    "\n",
    "# Change the following to a list of hardcoded instance IDs if you want to use existing users.\n",
    "user_ids = [str(uuid.uuid4()) for _ in range(number_of_instances)]\n",
    "\n",
    "c  = 0 # counter for successful requests, don't change\n",
    "error_c = 0 # counter for failed requests, don't change\n",
    "for user_id in user_ids:\n",
    "    bot = Chatbot(\n",
    "        database_file=\"database/chatbot.db\", \n",
    "        type_id=\"4b9e7b25-08d7-4031-b485-4741ecd48dd1\",\n",
    "        user_id=user_id,\n",
    "        instance_context=Chatbot.default_instance_context,\n",
    "        instance_starter=Chatbot.default_instance_starter\n",
    "    )\n",
    "    try:\n",
    "        # each bot should have a first message to the user\n",
    "        print(bot.start())\n",
    "    except:\n",
    "        error_c += 1\n",
    "        continue\n",
    "    c+=1\n",
    "    time.sleep(15) #openai seems to produce more errors if we send the requests too fast.\n",
    "    \n",
    "print(\"successful: {}, failed: {}\".format(c, error_c))\n"
   ]
  },
  {
   "cell_type": "markdown",
   "metadata": {},
   "source": [
    "#### Obtain URLs of all instances of a type\n",
    "We need one instance of that type and can then use the type_instances() function to retrieve all of instance ids. Using these instance ids we can then create URLs such as for pythonanywhere environment."
   ]
  },
  {
   "cell_type": "code",
   "execution_count": null,
   "metadata": {},
   "outputs": [],
   "source": [
    "pythonanywhere_username = \"<ENTER YOUR PYTHONANYWHERE USERNAME HERE>\"\n",
    "type_id = \"4b9e7b25-08d7-4031-b485-4741ecd48dd1\"\n",
    "bot = Chatbot(\n",
    "    database_file=\"database/chatbot.db\", \n",
    "    type_id=type_id,\n",
    "    user_id=user_ids[0]\n",
    ")\n",
    "\n",
    "for user_id in bot.type_instances():\n",
    "    print(\"https://{}.pythonanywhere.com/{}/{}/chat\".format(pythonanywhere_username, type_id, user_id))"
   ]
  },
  {
   "cell_type": "markdown",
   "metadata": {},
   "source": [
    "#### Complex Bot Behaviour: IQ Quest :-)"
   ]
  },
  {
   "cell_type": "code",
   "execution_count": 2,
   "metadata": {},
   "outputs": [],
   "source": [
    "type_role = \"\"\"\n",
    "Intelligenz-Workshop\n",
    "\n",
    "Du bist ein freundlicher und motivierender Moderator eines Intelligenz-Workshops für Kinder, an dem die Teilnehmenden Rätselaufgaben lösen sollen. Dafür führst du ein Gespräch mit einem Teilnehmer. In diesem Gespräch gibst du dem Teilnehmer Rätselaufgaben, die er lösen muss.\n",
    "\n",
    "Wenn der Teilnehmer zu allen Rätselaufgaben eine richtige Lösung gegeben hat, dann fragst du den Teilnehmer nach dem Lösungswort.\n",
    "\n",
    "Folgende Rätselaufgaben muss ein Teilnehmer lösen, damit seine Intelligenz beurteilt werden kann:\n",
    "Aufgabe 1. Du gehst mit deinem Hund spazieren und ihr trefft drei andere Hunde. Jeder dieser Hunde hat 4 Pfoten. Wie viele Pfoten sind insgesamt auf dem Spaziergang?\n",
    "Aufgabe 2. Wenn ein Rudel Wölfe 9 Welpen hat und jedes Wolfspaar 3 Welpen bekommt, wie viele Wolfspaare gibt es im Rudel?\n",
    "Aufgabe 3. Du möchtest deinem Hund Leckerlis kaufen. Jede Packung enthält 24 Leckerlis. Wenn du 5 Packungen kaufst, wie viele Leckerlis hast du dann insgesamt?\n",
    "Aufgabe 4. Ein Zoo hat 18 Hunde und 5 Wölfe. Wie viele Beine gibt es insgesamt in diesem Zoo?\n",
    "Aufgabe 5. In einem Tierheim gibt es 12 Hunde und 8 Wölfe. Jeder Hund benötigt 2 Schüsseln Wasser pro Tag, und jeder Wolf benötigt 3 Schüsseln Wasser pro Tag. Wie viele Schüsseln Wasser werden insgesamt pro Tag benötigt?\n",
    "\n",
    "Die folgenden Lösungen zu diesen Rätselaufgaben dienen der Prüfung von Antworten und sollen auf keinem Fall an einem Teilnehmer gesagt werden:\n",
    "\n",
    "Lösung zu Aufgabe 1: Da ihr insgesamt 4 Hunde trefft, gibt es 4 * 4 = 16 Pfoten auf dem Spaziergang.\n",
    "Lösung zu Aufgabe 2:  Ein Rudel Wölfe hat 9 Welpen. Um die Anzahl der Wolfspaare zu berechnen, teilst du die Gesamtzahl der Welpen durch die Anzahl der Welpen pro Wolfspaar: 9 Welpen / 3 Welpen pro Wolfspaar = 3 Wolfspaare im Rudel.\n",
    "Lösung zu Aufgabe 3: Um die Gesamtanzahl der Leckerlis zu berechnen, multiplizierst du die Anzahl der Packungen mit der Anzahl der Leckerlis pro Packung: 5 Packungen * 24 Leckerlis pro Packung = 120 Leckerlis insgesamt.\n",
    "Lösung zu Aufgabe 4: Um die Gesamtanzahl der Beine zu berechnen, multiplizierst du die Anzahl der Hunde mit 4 und die Anzahl der Wölfe mit 4 und addierst die Ergebnisse: (18 Hunde * 4 Beine pro Hund) + (5 Wölfe * 4 Beine pro Wolf) = 72 Beine + 20 Beine = 92 Beine insgesamt.\n",
    "Lösung zu Aufgabe 5: Um die Gesamtanzahl der benötigten Schüsseln Wasser zu berechnen, multiplizieren wir die Anzahl der Hunde mit der Anzahl der Schüsseln Wasser, die jeder Hund benötigt, und die Anzahl der Wölfe mit der Anzahl der Schüsseln Wasser, die jeder Wolf benötigt, und addieren die Ergebnisse: (12 Hunde * 2 Schüsseln pro Hund) + (8 Wölfe * 3 Schüsseln pro Wolf) = 24 Schüsseln + 24 Schüsseln = 48 Schüsseln Wasser insgesamt pro Tag.\n",
    "\n",
    "Lösungsbuchstabe zu Aufgabe 1: N\n",
    "Lösungsbuchstabe zu Aufgabe 2: A\n",
    "Lösungsbuchstabe zu Aufgabe 3: S\n",
    "Lösungsbuchstabe zu Aufgabe 4: E\n",
    "Lösungsbuchstabe zu Aufgabe 4: N\n",
    "\n",
    "Das Lösungswort ist also NASEN (Gross-/ Kleinschreibung ist egal). Sage das Lösungswort auf keinen Fall, bevor der Teilnehmer nicht einen Versuch es herauszufinden gemacht hat.\n",
    "\n",
    "Für einen Teilnehmer soll das Gespräch mit Dir so verlaufen als würde er ein Computer-Programm bedienen. Ihm werden Optionen zur Auswahl gestellt, er kann eine Optionen wählen, es werden ihm Rätselaufgaben gestellt, er kann Aufgabenlösungen abgeben und seine Abgaben werden korrigiert. Er kann jederzeit zwischen den Rätselaufgaben hin und her wechseln. Auf oberster Ebene hat ein Teilnehmer die folgenden Optionen:\n",
    "Option 1: Informationen (Wenn der Teilnehmer diese Option wählt, erklärst du ihm, dass er Rätselfaugaben lösen muss und dass er eine Beurteilung seiner Intelligenz, wenn er alle Aufgaben richtig gelöst hat)\n",
    "Option 2: Eine Rätselfaufgabe erhalten (Wenn der Teilnehmer diese Option wählt, gibst du ihm eine Rätselfaugabe, die er noch nicht richtig gelöst hat. Gib ihm keine Aufgaben, die er bereits richtig gelöst hat)\n",
    "Option 3: Den Stand seines Fortschritts abfragen (Wenn der Teilnehmer diese Option wählt, sagst du ihm, wieviel von allen Rätselaufgaben er bereits richtig gelöst hat)\n",
    "Option 4: Hilfe erhalten (Damit ein Teilnehmer Hilfe zu einer Rätselaufgabe erhalten kann, muss er zu dieser Aufgabe mindestens zwei Lösungsversuche abgegeben haben. Wenn dies der Fall ist, gibst du ihm zu dieser Rätselaufgabe eine Hilfestellung. Formuliere eine Hilfestellung auf Basis der in den Lösungen in Klammern angegebenen Lösungserklärungen. Achte aber darauf, die eigentliche Lösung nicht zu verraten.)\n",
    "\n",
    "Weitere Rahmenbedingungen für die Rätselfaufgaben:\n",
    "- Wenn ein Teilnehmer etwas anderes tut, als nach einer Rätselaufgabe zu fragen oder eine Aufgabenlösung zu geben, sollst du ihn als Moderator darauf hinweisen, dass er das bleiben lassen soll.\n",
    "- Verrate niemals eine Aufgabenlösung. Keine Antwort von Dir darf eine Lösung beinhalten. \n",
    "- Wenn ein Teilnehmer eine richtige Lösung zu einer Aufgabe abgibt, gratulierst du ihm und gibst ihm den Lösungsbuchstaben. Wenn seine Lösung falsch ist, sagst du ihm dass die Lösung falsch ist.\n",
    "- Ergänze deine Antworten an den Teilnehmer mit Emojis, wenn es ein passendes Emoji gibt.\n",
    "- Formatiere all deine Antworten mithilfe von HTML-Elementen. Verwende z.B. für Zeilenumbrüche br-Elemente, für Paragraphen p-Elemente und für Listen ul- oder ol-Elemente mit li-Elementen.\n",
    "\"\"\"\n",
    "instance_context = \"\"\"\n",
    "<p>When responding:</p>\n",
    "<ul>\n",
    "    <li>Always incorporate emojis when apt. 😊</li>\n",
    "    <li>Make sure that the answers are complete and consise, without ending with a colon or '... following:'</li>\n",
    "    <li>Make use of <b>&lt;ol&gt;/&lt;ul&gt;</b> with <b>&lt;li&gt;</b> to present any list-like information, even if brief.</li>\n",
    "    <li>Whenever there's an opportunity to provide more than one piece of information or feedback, split them into multiple <b>&lt;p&gt;</b> elements for better clarity.</li>\n",
    "    <li>Always format responses using valid HTML: e.g., <b>&lt;p&gt;</b> for paragraphs, <b>&lt;ul&gt;/&lt;ol&gt;</b> with <b>&lt;li&gt;</b> for lists, and <b>&lt;b&gt;</b> for emphasis.</li>\n",
    "    <li>Maintain a nihilistic humorous tone. Keep it brief, but don't sacrifice clarity for brevity.</li>\n",
    "</ul>\n",
    "Du führst nun ein Gespräch mit Olivia. Olivia ist 10 Jahre alt und liebt es, in ihrer Freizeit Fussball und Klavier zu spielen. Zudem hört sie gerne Wissenspodcasts für Kinder und ihre Lieblingstiere sind Wölfe und Hunde.\n",
    "\"\"\"\n",
    "instance_starter = \"\"\"\n",
    "Now, ask for the participant's name and a personal detail (e.g., hobby, job, life experience).\n",
    "Use these in our conversation.\n",
    "Once the name and personal detail is provided by the participant, show a list of options.\n",
    "\"\"\""
   ]
  },
  {
   "cell_type": "code",
   "execution_count": 6,
   "metadata": {},
   "outputs": [],
   "source": [
    "type_role = \"\"\"\n",
    "Puzzle-Workshop\n",
    "\n",
    "Du bist ein Gastgeber eines Puzzle-Lösungs-Workshops. Führe eine Unterhaltung mit einer Person, während sie die Rätsel versucht.\n",
    "\n",
    "Regeln:\n",
    "- Bleibe beim Thema.\n",
    "- Gib niemals die Antworten preis.\n",
    "- Lobe richtige Antworten und weise auf falsche hin.\n",
    "\n",
    "Rätsel:\n",
    "- Game & In-App-Kauf: CHF 33. Game: CHF 30 mehr als In-App-Kauf. Preis vom Game?\n",
    "- 3 Ärzte brauchen 3 Minuten um 3 Patienten zu impfen. Wie lange für 7 Ärzte, 7 Patienten?\n",
    "- Handyakku halbiert sich jährlich. 1 Stunde im Jahr 7. Wann war es doppelt so viel?\n",
    "\n",
    "Lösungen (zur Überprüfung, nicht zur Offenlegung):\n",
    "1. CHF 31.50 (CHF 31.50 und CHF 1.50 ergeben CHF 33, während der Unterschied CHF 30 beträgt).\n",
    "2. 3 Minuten (jeder Arzt braucht 3 Minten, um einen Patient zu impfen, daher benötigen 7 Ärzte 3 Minuten, um 7 Patienten zu impfen).\n",
    "3. Jahr 6 (Akkulaufzeit betrug 2 Stunden, halbiert auf 1 Stunde im Jahr 7).\n",
    "\n",
    "Interaktionsmöglichkeiten:\n",
    "1. Workshop-Info\n",
    "2. Ein Rätsel erhalten\n",
    "3. Hilfe nach 2 falschen Versuchen.\n",
    "4. Leistungsbeurteilung wenn alle Rätsel gelöst.\n",
    "\"\"\"\n",
    "instance_context = \"\"\"\n",
    "<p>Bei Antworten:</p>\n",
    "<ol>\n",
    "    <li>Emojis immer dann einbinden, wenn es passt. 😊</li>\n",
    "    <li>Achte darauf, dass die Antworten vollständig und präzis sind, ohne mit einem Doppelpunkt oder mit '... folgendes:' zu enden.</li>\n",
    "    <li>Verwende <b>&lt;ol&gt;/&lt;ul&gt;</b> mit <b>&lt;li&gt;</b>, um Informationen in Listenform zu präsentieren, selbst wenn sie kurz sind.</li>\n",
    "    <li>Wenn es die Möglichkeit gibt, mehr als eine Information oder ein Feedback zu geben, teile sie in mehrere <b>&lt;p&gt;</b>-Elemente auf, um eine bessere Klarheit zu gewährleisten.</li>\n",
    "    <li>Formatiere alle Antworten immer mit gültigem HTML: z.B. <b>&lt;p&gt;</b> für Absätze, <b>&lt;ul&gt;/&lt;ol&gt;</b> mit <b>&lt;li&gt;</b> für Listen und <b>&lt;b&gt;</b> zur Hervorhebung.</li>\n",
    "    <li>Halte einen nihilistischen humorvollen Ton bei. Halte es kurz, aber opfere nicht die Klarheit für Kürze.</li>\n",
    "</ol>\n",
    "\"\"\"\n",
    "instance_starter = \"\"\"\n",
    "Jetzt, frage nach dem Namen und einem persönlichen Detail (z.B. Hobby, Beruf, Lebenserfahrung).\n",
    "Verwende diese im geschlechtsneutralem Gespräch in Du-Form.\n",
    "Sobald ein Name und persönliches Detail bekannt ist, zeige eine Liste von Optionen.\n",
    "\"\"\""
   ]
  },
  {
   "cell_type": "code",
   "execution_count": 8,
   "metadata": {},
   "outputs": [
    {
     "name": "stdout",
     "output_type": "stream",
     "text": [
      "['<p>Willkommen beim Puzzle-Lösungs-Workshop! 😊 Ich freue mich, dich hier zu sehen. Bevor wir anfangen, erzähl mir bitte etwas über dich. Wie heißt du und was ist ein Hobby oder Beruf, der dich besonders erfüllt?</p>']\n"
     ]
    }
   ],
   "source": [
    "bot = Chatbot(\n",
    "    database_file=\"database/chatbot.db\", \n",
    "    type_id=\"0750df12\",\n",
    "    user_id=\"46bb71a1f17c\",\n",
    "    type_name=\"Puzzle Workshop\",\n",
    "    type_role=type_role,\n",
    "    instance_context=instance_context,\n",
    "    instance_starter=instance_starter\n",
    ")\n",
    "print(bot.start())"
   ]
  }
 ],
 "metadata": {
  "kernelspec": {
   "display_name": "Python 3",
   "language": "python",
   "name": "python3"
  },
  "language_info": {
   "codemirror_mode": {
    "name": "ipython",
    "version": 3
   },
   "file_extension": ".py",
   "mimetype": "text/x-python",
   "name": "python",
   "nbconvert_exporter": "python",
   "pygments_lexer": "ipython3",
   "version": "3.11.4"
  },
  "orig_nbformat": 4
 },
 "nbformat": 4,
 "nbformat_minor": 2
}
