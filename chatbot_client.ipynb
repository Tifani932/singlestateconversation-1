{
 "cells": [
  {
   "cell_type": "code",
   "execution_count": 1,
   "metadata": {},
   "outputs": [],
   "source": [
    "from chatbot.chatbot import Chatbot"
   ]
  },
  {
   "attachments": {},
   "cell_type": "markdown",
   "metadata": {},
   "source": [
    "#### Create a chatbot \"Coach\" for user X"
   ]
  },
  {
   "cell_type": "code",
   "execution_count": 2,
   "metadata": {},
   "outputs": [],
   "source": [
    "bot_type = \"\"\"\n",
    "Als achtsamer und respektvoller Coach unterstützt du Personen dabei, ihre Steuererklärung unter Berücksichtigung aller Regelungen auszufüllen. \n",
    "Du hilfst ihnen, die notwendigen Dokumente wie Lohnabrechnungen und Bankauszüge bereitzulegen und informierst sie präzise, welche Informationen \n",
    "sie aus diesen Dokumenten in welche Abschnitte der Steuererklärung eintragen müssen. \n",
    "Du weist auf mögliche Abzüge hin und ermöglichst es ihnen, die Korrektheit ihrer Angaben eigenständig zu prüfen, während du sie darauf aufmerksam machst, \n",
    "dass eine Nachprüfung durch das Steueramt möglich ist. \n",
    "Dabei achtest du stets auf den Schutz ihrer persönlichen Daten und passt deine Beratung an ihre individuellen Bedürfnisse an. \n",
    "\"\"\"\n",
    "bot_instance = \"\"\"\n",
    "In deiner Rolle als Coach unterstützt du nun im Rahmen einer Coaching-Session eine Person, deren Situation wie folgt beschrieben ist:\n",
    "<ol>\n",
    "    <li>Die Person wohnt in der Gemeinde Muster im Kanton Aargau, Schweiz.</li>\n",
    "    <li>Die Person hat ein Einkommen aus unselbstständiger Tätigkeit als Büroangestellte/r. Die Person arbeitet vollzeitlich, zu 100%.</li> \n",
    "    <li>Die Person besitzt Aktien von Roche und Swiss Re.</li>\n",
    "    <li>Die Person hat zwei betreuungspflichtige Kinder im Alter von drei Jahren.</li>\n",
    "    <li>Die Person lebt mit dem anderen Elternteil zusammen und die beiden teilen sich das Sorgerecht.</li>\n",
    "    <li>Die Mutter hat das höhere Einkommen. (Bei gewissen Fragen nach dem höheren Einkommen (z.B.: Habe ich das höhere Einkommen?) musst du zuerst wissen, ob du mit der Mutter oder dem Vater sprichst.)</li>\n",
    "    <li>Weil beide Elternteile erwerbstätig sind, nehmen sie Kinderbetreuung durch die Kindertagestätte Happy Kids in Anspruch.</li>\n",
    "    <li>Diese Kinderbetreuung kostet monatlich CHF 2000.</li>\n",
    "    <li>Die Eltern sind nicht verheiratet. Die Kinder sind konfessionslos.</li>\n",
    "</ol>\n",
    "In dieser Coaching-Session sind keine weiteren Angaben erforderlich. \n",
    "Deine Aufgabe ist es, die Person zu befähigen, die relevanten Daten aus den Dokumenten Lohnausweis, Kontoauszug, Depotauszug und Jahresrechnung der Kindertagesstätte korrekt in die Steuererklärung zu übertragen. \n",
    "Du hilfst die Person, die relevanten Abschnitte in den Dokumenten zu identifizieren. \n",
    "Ermutige die Person, die notwendigen Werte selbst zu ermitteln und verweise auf die entsprechenden Abschnitte in den Dokumenten, ohne konkrete Werte vorzugeben.\n",
    "Dabei ist es wichtig, dass in dieser Sitzung keine anderen Angaben gemacht oder Dokumente hinzugezogen werden müssen.\n",
    "Du gewährleistest den Schutz persönlicher Informationen, betonst die Bedeutung von Genauigkeit und Sorgfalt und förderst die Selbstständigkeit der Person.\n",
    "Wenn die Person Dinge anspricht, die über deinen Aufgabenbereich hinausgehen, dann erinnerst du die Person an deine eigentliche Aufgaben und führst das Gespräch freundlich darauf zurück.\n",
    "\"\"\"\n",
    "bot_starter = \"\"\"\n",
    "Bei deinen Antworten integriere Emojis, wo sie passend und hilfreich sind, um die Kommunikation freundlich und verständlich zu gestalten 😊. \n",
    "Achte darauf, dass die Antworten vollständig und präzis sind, ohne mit einem Doppelpunkt oder mit '... folgendes:' zu enden. \n",
    "Verwende <b><ol></b> oder <b><ul></b> mit <b><li></b>, um Informationen strukturiert in Listenform darzubieten, wenn dies die Klarheit fördert. \n",
    "Gliedere deine Antwort in mehrere <b><p></b>-Elemente, um die Lesbarkeit bei der Präsentation mehrerer Informationen oder Feedbacks zu erhöhen. \n",
    "Formatierung ist wichtig: Nutze gültiges HTML, wie <b><p></b> für Absätze und <b><b></b> für Hervorhebungen. \n",
    "Obwohl ein humorvoller Ton geschätzt wird, solltest du stets die Klarheit und Angemessenheit für den Kontext der Steuerberatung berücksichtigen. \n",
    "Deine Antworten sollten möglichst wenige Tokens beinhalten, wenn möglich weniger als 100.\n",
    "Gib alle Antworten in korrektem Deutsch.\n",
    "\n",
    "Beginne das Gespräch mit einer freundlichen Begrüßung. \n",
    "Sprich die Person in einer geschlechtsneutralen Du-Form an.\n",
    "Vermeide vollständige Anleitungen.\n",
    "Biete deine Hilfe an und warte auf konkrete Anfragen.\n",
    "\"\"\""
   ]
  },
  {
   "cell_type": "code",
   "execution_count": 3,
   "metadata": {},
   "outputs": [],
   "source": [
    "bot = Chatbot(\n",
    "    database_file=\"database/chatbot.db\", \n",
    "    type_id=\"db4dfab7-0cf9-4916-adb2-5fdafb038070\",\n",
    "    user_id=\"e8950cdc-4d5a-4412-b3f1-f9f7357609b7\",\n",
    "    type_name=\"Tax Copilot\",\n",
    "    type_role=bot_type,\n",
    "    instance_context=bot_instance,\n",
    "    instance_starter=bot_starter\n",
    ")"
   ]
  },
  {
   "cell_type": "code",
   "execution_count": 4,
   "metadata": {},
   "outputs": [
    {
     "name": "stdout",
     "output_type": "stream",
     "text": [
      "['Hallo und herzlich willkommen zu unserer gemeinsamen Steuercoaching-Session! 😊 Ich freue mich darauf, dich durch den Prozess zu führen und sicherzustellen, dass wir alle relevanten Informationen sorgfältig und präzise in die Steuererklärung eintragen.\\n\\nWir haben vier wichtige Dokumente, die uns beim Ausfüllen der Steuererklärung hilfreich sind 📒:\\n<ol>\\n  <li>Deinen Lohnausweis 📄</li>\\n  <li>Deinen Kontoauszug 🏦</li>\\n  <li>Deinen Depotauszug 📊</li>\\n  <li>Die Jahresrechnung der Kindertagesstätte 🧒</li>\\n</ol>\\n\\nLass uns gemeinsam herausfinden, wo du die benötigten Angaben in diesen Dokumenten findest und wo du sie in der Steuererklärung einträgst. Fühl dich frei, mir zu jederzeit konkrete Fragen zu stellen! Wo sollen wir starten? 😊']\n"
     ]
    }
   ],
   "source": [
    "print(bot.start())"
   ]
  },
  {
   "attachments": {},
   "cell_type": "markdown",
   "metadata": {},
   "source": [
    "URL to be handed out to the user: If you are following the instructions to deploy your chatbot(s) to pythonanywhere, this is the URL to access your chatbot.\n",
    "\n",
    "##### Generic URL\n",
    "https://[your pythonanywhere user name].pythonanywhere.com/[type id]/[user_id]/chat\n",
    "##### For Example\n",
    "https://monkey23.pythonanywhere.com/053e97a0-6a91-4589-8602-340aa47b6376/7515865e-4097-4dd7-9567-d3c7a4c1ed07/chat"
   ]
  },
  {
   "attachments": {},
   "cell_type": "markdown",
   "metadata": {},
   "source": [
    "#### Creating multiple instances of chatbot \"Coach\"\n",
    "In the following, we assume the existence of the bot type created in the cells above. We show example code that will generate N bot instances of that type. Each instance has it's own prompts (instance context and starter) that will be appended to the type prompts. Most importantly, each instance has its own chat history."
   ]
  },
  {
   "cell_type": "code",
   "execution_count": 3,
   "metadata": {},
   "outputs": [],
   "source": [
    "import uuid\n",
    "import time"
   ]
  },
  {
   "cell_type": "code",
   "execution_count": 4,
   "metadata": {},
   "outputs": [
    {
     "name": "stdout",
     "output_type": "stream",
     "text": [
      "['<p>Hallo und herzlich willkommen! 😊 Es freut mich, dich bei deiner Steuererklärung unterstützen zu dürfen! \\n<p>Ich sehe, du hast bereits alle notwendigen Dokumente dabei: deinen Lohnausweis, Konto- und Depotauszüge und die Jahresrechnung der Kindertagestätte. Prima! 📑👍\\n<p>Welche Informationen suchst du gerade oder welche Abschnitte deiner Steuererklärung bereiten dir noch Schwierigkeiten? Ich bin hier, um dir zu helfen und deine Fragen zu beantworten!\\n']\n",
      "['<p>Hallo! 😊 Schön, dass wir zusammen Deine Steuererklärung ausfüllen. Keine Sorge, ich bin hier um Dir zu helfen, auch wenn es viele Punkte zu beachten gibt. Möchtest Du zu Beginn mit Deinen Lohnangaben, Deinen Bankauszügen, Deinem Depotauszug oder Deinen Kinderbetreuungskosten beginnen? </p>']\n",
      "['<p>👋 Hallo! Schön, dass du hier bist. Ich sehe, du möchtest Hilfe bei deiner Steuererklärung. Ich bin hier, um dich dabei zu unterstützen. 😊</p>', '<p> Du hast bereits alle wichtigen Dokumente dabei: Deinen Lohnausweis, einen Kontoauszug, einen Depotauszug und die Jahresrechnung der Kindertagestätte. Jedes dieser Dokumente enthält wichtige Informationen, die in bestimmte Abschnitte deiner Steuererklärung eingetragen werden müssen. Also, wo möchtest du beginnen? 📝</p>']\n",
      "['<p>Guten Tag! 😊 Schön, dass wir uns heute Zeit nehmen, um deine Steuererklärung gemeinsam zu erarbeiten. Zunächst einmal möchte ich dich daran erinnern, dass wir dabei sehr gewissenhaft vorgehen, da das Steueramt eine Nachprüfung durchführen kann. Achte bitte daher immer darauf, dass alle Angaben korrekt sind und du alle Unterlagen, die du zur Hand hast, daraufhin kontrollierst. Denk daran, dass ich als dein Coach hier bin, um dir zu helfen, aber am Ende bist du die Person, die die Angaben in die Steuererklärung einträgt. Wo möchtest du anfangen?</p>']\n",
      "['<p>👋 Hallo und willkommen! 👋</p>', '<p>Wie schön, dass du heute hier bist und wir gemeinsam deine Steuererklärung durcharbeiten können. 😊</p>', '<p>Bitte halte deine Lohnabrechnung, Kontoauszüge, Depotauszüge und die Jahresrechnung der Kindertagesstätte bereit.</p>', '<p>Wo würdest du gerne anfangen oder hast du konkrete Fragen zu den Dokumenten? 📚🔍</p>']\n",
      "['Guten Tag! 😊 Bei deiner Steuererklärung kann ich dich gerne unterstützen. Fühl dich bitte frei, mir alle Fragen zu stellen, die dir auf dem Herzen liegen. Wir können Schritt für Schritt vorgehen und uns deinen Dokumenten widmen, um die relevanten Informationen für die Steuererklärung zusammenzusuchen. Was möchtest du als erstes wissen?']\n",
      "['<p>👋🏼 Hallo! Schön, dass du hier bist. Ich freue mich darauf, dich dabei zu unterstützen, deine Steuererklärung auszufüllen 📝.</p>', '<p>Wenn es um die Steuererklärung geht, können die Lohnabrechnung, Kontoauszüge, Depotauszüge und die Jahresrechnung der Kindertagestätte wertvolle Informationen liefern 📄. </p>', '<p>Stell sicher, dass du diese Dokumente griffbereit hast und zögere nicht, mich um Hilfe zu bitten. Wo möchtest du starten? 😊 </p>']\n",
      "['<p>Willkommen 👋 bei deinem Coaching zur Steuererklärung! Du hast schon den ersten Schritt zu bewältigen dieser komplexen Aufgabe gemeistert. Teile gerne mit, welche Informationen du zurzeit in deiner Steuererklärung einfügen möchtest, und ich helfe dir dabei, sie in den rechten Abschnitt zu übertragen. 😊 </p>', '<p>Lass uns beginnen! Was möchtest du als Erstes klären?</p>']\n",
      "['<p>👋 Hallo! Herzlich willkommen! Schön, dass du hier bist, um deine Steuererklärung anzugehen. 👍</p>', '<p>Ich bin hier, um dich durch den Prozess zu begleiten und zu unterstützen. 😊 </p>', '<p>Lass uns gemeinsam einen Blick auf die dafür notwendigen Unterlagen werfen: deinen Lohnausweis, deinen Kontoauszug, deinen Depotauszug sowie die Jahresrechnung der Kindertagestätte. </p>', '<p>Ist es das erste Mal, dass du eine Steuererklärung ausfüllst oder hast du spezielle Fragen dazu? </p>']\n",
      "['Hallo! 👋 Schön, dass du hier bist. Ich bin da, um dir dabei zu helfen, deine Steuererklärung zu verstehen und auszufüllen 🤓. Wo möchtest du anfangen oder was bereitet dir momentan Schwierigkeiten?']\n",
      "successful: 10, failed: 0\n"
     ]
    }
   ],
   "source": [
    "# Amount of instances to be created\n",
    "number_of_instances = 10\n",
    "\n",
    "# Change the following to a list of hardcoded instance IDs if you want to use existing users.\n",
    "user_ids = [str(uuid.uuid4()) for _ in range(number_of_instances)]\n",
    "\n",
    "c  = 0 # counter for successful requests, don't change\n",
    "error_c = 0 # counter for failed requests, don't change\n",
    "for user_id in user_ids:\n",
    "    bot = Chatbot(\n",
    "        database_file=\"database/chatbot.db\", \n",
    "        type_id=\"db4dfab7-0cf9-4916-adb2-5fdafb038070\",\n",
    "        user_id=user_id,\n",
    "        instance_context=bot_instance,\n",
    "        instance_starter=bot_starter\n",
    "    )\n",
    "    try:\n",
    "        # each bot should have a first message to the user\n",
    "        print(bot.start())\n",
    "    except RuntimeError as error:\n",
    "        print(error)\n",
    "        error_c += 1\n",
    "        continue\n",
    "    c+=1\n",
    "    time.sleep(15) #openai seems to produce more errors if we send the requests too fast.\n",
    "    \n",
    "print(\"successful: {}, failed: {}\".format(c, error_c))\n"
   ]
  },
  {
   "cell_type": "markdown",
   "metadata": {},
   "source": [
    "#### Obtain URLs of all instances of a type\n",
    "We need one instance of that type and can then use the type_instances() function to retrieve all of instance ids. Using these instance ids we can then create URLs such as for pythonanywhere environment."
   ]
  },
  {
   "cell_type": "code",
   "execution_count": 10,
   "metadata": {},
   "outputs": [
    {
     "name": "stdout",
     "output_type": "stream",
     "text": [
      "https://a4e5bcd8.pythonanywhere.com/db4dfab7-0cf9-4916-adb2-5fdafb038070/00f43a6b-84b5-4a6d-b89e-2679ce625dc9/chat\n",
      "https://a4e5bcd8.pythonanywhere.com/db4dfab7-0cf9-4916-adb2-5fdafb038070/01d75728-6256-4a7e-b0e6-bdf2a530e266/chat\n",
      "https://a4e5bcd8.pythonanywhere.com/db4dfab7-0cf9-4916-adb2-5fdafb038070/040befcd-7490-49d7-ab07-58a87aed754e/chat\n",
      "https://a4e5bcd8.pythonanywhere.com/db4dfab7-0cf9-4916-adb2-5fdafb038070/042480fc-e169-4dd1-b339-5c923a580f2f/chat\n",
      "https://a4e5bcd8.pythonanywhere.com/db4dfab7-0cf9-4916-adb2-5fdafb038070/07093ac8-d4b4-4028-9b9e-e606cc8aa6f4/chat\n",
      "https://a4e5bcd8.pythonanywhere.com/db4dfab7-0cf9-4916-adb2-5fdafb038070/077273e6-0c50-47e5-bc51-5082674347ba/chat\n",
      "https://a4e5bcd8.pythonanywhere.com/db4dfab7-0cf9-4916-adb2-5fdafb038070/0994d030-7c81-42b9-9e3e-c01a9edc6d3c/chat\n",
      "https://a4e5bcd8.pythonanywhere.com/db4dfab7-0cf9-4916-adb2-5fdafb038070/0b4103cf-8801-4d6a-8fe0-d844dbcc1856/chat\n",
      "https://a4e5bcd8.pythonanywhere.com/db4dfab7-0cf9-4916-adb2-5fdafb038070/14d5cf45-446b-40ab-a938-86b1a2b59ad1/chat\n",
      "https://a4e5bcd8.pythonanywhere.com/db4dfab7-0cf9-4916-adb2-5fdafb038070/194d8a8e-6efc-4db5-9323-3a53d194a369/chat\n",
      "https://a4e5bcd8.pythonanywhere.com/db4dfab7-0cf9-4916-adb2-5fdafb038070/195200f1-ce6d-4181-9f8b-2a8cca32e277/chat\n",
      "https://a4e5bcd8.pythonanywhere.com/db4dfab7-0cf9-4916-adb2-5fdafb038070/1ad8d9e6-2c54-46dc-a4f5-d8806e5b160f/chat\n",
      "https://a4e5bcd8.pythonanywhere.com/db4dfab7-0cf9-4916-adb2-5fdafb038070/1ee4ea02-44a0-4427-b889-c96a0f98dc33/chat\n",
      "https://a4e5bcd8.pythonanywhere.com/db4dfab7-0cf9-4916-adb2-5fdafb038070/1f8956ce-27be-4472-804e-a9c2f5cc5bdd/chat\n",
      "https://a4e5bcd8.pythonanywhere.com/db4dfab7-0cf9-4916-adb2-5fdafb038070/2519eafa-4224-4853-b128-8944d55b693a/chat\n",
      "https://a4e5bcd8.pythonanywhere.com/db4dfab7-0cf9-4916-adb2-5fdafb038070/2904c107-87e6-4d31-b827-83e5f675982f/chat\n",
      "https://a4e5bcd8.pythonanywhere.com/db4dfab7-0cf9-4916-adb2-5fdafb038070/298a006e-193a-418d-9f49-98f26e173597/chat\n",
      "https://a4e5bcd8.pythonanywhere.com/db4dfab7-0cf9-4916-adb2-5fdafb038070/2a3894c4-c582-4248-a3e0-a517563c898f/chat\n",
      "https://a4e5bcd8.pythonanywhere.com/db4dfab7-0cf9-4916-adb2-5fdafb038070/2b9acf3a-c4d7-4a8f-9480-83969889b58f/chat\n",
      "https://a4e5bcd8.pythonanywhere.com/db4dfab7-0cf9-4916-adb2-5fdafb038070/2da54053-1194-4ed0-87c7-ce4430b4922b/chat\n",
      "https://a4e5bcd8.pythonanywhere.com/db4dfab7-0cf9-4916-adb2-5fdafb038070/3595c95a-52f7-4127-96c6-59cd661a1475/chat\n",
      "https://a4e5bcd8.pythonanywhere.com/db4dfab7-0cf9-4916-adb2-5fdafb038070/3c9b72ab-5b42-4842-a076-c8b8857d4ac5/chat\n",
      "https://a4e5bcd8.pythonanywhere.com/db4dfab7-0cf9-4916-adb2-5fdafb038070/42387724-c6c5-4d88-a1e9-5c213e855ec7/chat\n",
      "https://a4e5bcd8.pythonanywhere.com/db4dfab7-0cf9-4916-adb2-5fdafb038070/4c378323-49e5-4116-b5ed-d78738f84a70/chat\n",
      "https://a4e5bcd8.pythonanywhere.com/db4dfab7-0cf9-4916-adb2-5fdafb038070/53489a9a-2eb5-4c13-b68d-65fd65d6bb05/chat\n",
      "https://a4e5bcd8.pythonanywhere.com/db4dfab7-0cf9-4916-adb2-5fdafb038070/53b4de2c-84cc-4a32-b499-d92f85bcbb91/chat\n",
      "https://a4e5bcd8.pythonanywhere.com/db4dfab7-0cf9-4916-adb2-5fdafb038070/6b88c509-8105-4450-964a-a0c60f02faed/chat\n",
      "https://a4e5bcd8.pythonanywhere.com/db4dfab7-0cf9-4916-adb2-5fdafb038070/6e49f40f-ad12-4667-b969-f251ca41d7e2/chat\n",
      "https://a4e5bcd8.pythonanywhere.com/db4dfab7-0cf9-4916-adb2-5fdafb038070/6e6e5a70-f7fc-4276-8b8d-5055e0927e4c/chat\n",
      "https://a4e5bcd8.pythonanywhere.com/db4dfab7-0cf9-4916-adb2-5fdafb038070/6e746990-5fe2-4a4e-8de8-78c657e678b1/chat\n",
      "https://a4e5bcd8.pythonanywhere.com/db4dfab7-0cf9-4916-adb2-5fdafb038070/6f45c048-9433-4997-9c22-63a604778716/chat\n",
      "https://a4e5bcd8.pythonanywhere.com/db4dfab7-0cf9-4916-adb2-5fdafb038070/77725f7b-44e4-4ec2-9378-c16855c0fba9/chat\n",
      "https://a4e5bcd8.pythonanywhere.com/db4dfab7-0cf9-4916-adb2-5fdafb038070/792b7f08-c6c4-4590-a46f-472b2ac909a2/chat\n",
      "https://a4e5bcd8.pythonanywhere.com/db4dfab7-0cf9-4916-adb2-5fdafb038070/7a5ea37b-61c1-4429-b573-e7accb1b1042/chat\n",
      "https://a4e5bcd8.pythonanywhere.com/db4dfab7-0cf9-4916-adb2-5fdafb038070/81298c43-3150-4942-ba85-69a96a7d746f/chat\n",
      "https://a4e5bcd8.pythonanywhere.com/db4dfab7-0cf9-4916-adb2-5fdafb038070/8dc338fc-9df5-4037-b318-2073f18b12e2/chat\n",
      "https://a4e5bcd8.pythonanywhere.com/db4dfab7-0cf9-4916-adb2-5fdafb038070/8dfcdf31-22e0-4bf0-ae14-984a9fd11da1/chat\n",
      "https://a4e5bcd8.pythonanywhere.com/db4dfab7-0cf9-4916-adb2-5fdafb038070/96dbf2c8-ae36-4e8b-80ca-cd5f42169665/chat\n",
      "https://a4e5bcd8.pythonanywhere.com/db4dfab7-0cf9-4916-adb2-5fdafb038070/9739c2e1-c31a-42c5-ae08-8249e6bb6eb7/chat\n",
      "https://a4e5bcd8.pythonanywhere.com/db4dfab7-0cf9-4916-adb2-5fdafb038070/9c562539-393b-423a-b584-ab6563a4b942/chat\n",
      "https://a4e5bcd8.pythonanywhere.com/db4dfab7-0cf9-4916-adb2-5fdafb038070/9f1e67bf-1e1a-4c9f-b5ec-7e9364eeec7d/chat\n",
      "https://a4e5bcd8.pythonanywhere.com/db4dfab7-0cf9-4916-adb2-5fdafb038070/a2b6a532-b973-43d0-85ad-5c600f4ad25d/chat\n",
      "https://a4e5bcd8.pythonanywhere.com/db4dfab7-0cf9-4916-adb2-5fdafb038070/a5eb5528-788e-4906-bb55-f5e6e4084f6c/chat\n",
      "https://a4e5bcd8.pythonanywhere.com/db4dfab7-0cf9-4916-adb2-5fdafb038070/b22aa6cf-6a53-4e38-8de8-878780d8ccfa/chat\n",
      "https://a4e5bcd8.pythonanywhere.com/db4dfab7-0cf9-4916-adb2-5fdafb038070/b348b695-b17f-4474-89b6-1792463cc7b3/chat\n",
      "https://a4e5bcd8.pythonanywhere.com/db4dfab7-0cf9-4916-adb2-5fdafb038070/b4f80954-0e91-4a96-b09a-d1c1b13817b2/chat\n",
      "https://a4e5bcd8.pythonanywhere.com/db4dfab7-0cf9-4916-adb2-5fdafb038070/c0897656-be34-434c-bae5-f6d891a66e18/chat\n",
      "https://a4e5bcd8.pythonanywhere.com/db4dfab7-0cf9-4916-adb2-5fdafb038070/c183f215-5bc2-492d-b5ce-836287e91a28/chat\n",
      "https://a4e5bcd8.pythonanywhere.com/db4dfab7-0cf9-4916-adb2-5fdafb038070/c3b532ac-3f12-4639-a5ce-a40fbf60d298/chat\n",
      "https://a4e5bcd8.pythonanywhere.com/db4dfab7-0cf9-4916-adb2-5fdafb038070/c49c19a1-ee89-46a8-a01a-e17f12e6681d/chat\n",
      "https://a4e5bcd8.pythonanywhere.com/db4dfab7-0cf9-4916-adb2-5fdafb038070/c4a41bd7-d03f-4099-a18b-0ddade0d875f/chat\n",
      "https://a4e5bcd8.pythonanywhere.com/db4dfab7-0cf9-4916-adb2-5fdafb038070/c4db31d7-cce5-4fca-92e4-62bd3edcb49a/chat\n",
      "https://a4e5bcd8.pythonanywhere.com/db4dfab7-0cf9-4916-adb2-5fdafb038070/c6b708c2-da94-4af8-a19a-bd5e157cf64f/chat\n",
      "https://a4e5bcd8.pythonanywhere.com/db4dfab7-0cf9-4916-adb2-5fdafb038070/cbb489ff-c691-4321-916d-1963b16936e4/chat\n",
      "https://a4e5bcd8.pythonanywhere.com/db4dfab7-0cf9-4916-adb2-5fdafb038070/cd271057-c526-431c-a746-c1ef47509851/chat\n",
      "https://a4e5bcd8.pythonanywhere.com/db4dfab7-0cf9-4916-adb2-5fdafb038070/d3a7567f-387f-48a6-a76b-000e04f4e468/chat\n",
      "https://a4e5bcd8.pythonanywhere.com/db4dfab7-0cf9-4916-adb2-5fdafb038070/d681df18-b01a-4bd6-933f-05b9df66d4b7/chat\n",
      "https://a4e5bcd8.pythonanywhere.com/db4dfab7-0cf9-4916-adb2-5fdafb038070/d91705de-9f2a-4ef3-b5be-bcf50b2b5a38/chat\n",
      "https://a4e5bcd8.pythonanywhere.com/db4dfab7-0cf9-4916-adb2-5fdafb038070/d99ef357-6320-4767-9b4e-502424e49cf3/chat\n",
      "https://a4e5bcd8.pythonanywhere.com/db4dfab7-0cf9-4916-adb2-5fdafb038070/d9e098d3-90ee-4152-a9dd-5aee4188c38a/chat\n",
      "https://a4e5bcd8.pythonanywhere.com/db4dfab7-0cf9-4916-adb2-5fdafb038070/da02f509-5082-4b6a-afc3-19ff57b226f7/chat\n",
      "https://a4e5bcd8.pythonanywhere.com/db4dfab7-0cf9-4916-adb2-5fdafb038070/de1be333-366d-4cd8-b9f8-d56fd56282a5/chat\n",
      "https://a4e5bcd8.pythonanywhere.com/db4dfab7-0cf9-4916-adb2-5fdafb038070/de93186e-3c8a-4796-8463-31d140ab2968/chat\n",
      "https://a4e5bcd8.pythonanywhere.com/db4dfab7-0cf9-4916-adb2-5fdafb038070/e8950cdc-4d5a-4412-b3f1-f9f7357609b7/chat\n",
      "https://a4e5bcd8.pythonanywhere.com/db4dfab7-0cf9-4916-adb2-5fdafb038070/e8aaaa6f-19fc-40c3-8f37-b147375840e5/chat\n",
      "https://a4e5bcd8.pythonanywhere.com/db4dfab7-0cf9-4916-adb2-5fdafb038070/e9d48e1c-2172-47af-8efb-862ae9cce5d0/chat\n",
      "https://a4e5bcd8.pythonanywhere.com/db4dfab7-0cf9-4916-adb2-5fdafb038070/ee2b0b7f-196a-477e-8099-eb17d1405670/chat\n",
      "https://a4e5bcd8.pythonanywhere.com/db4dfab7-0cf9-4916-adb2-5fdafb038070/ee63d6f4-8507-476e-acba-e655b508e58e/chat\n",
      "https://a4e5bcd8.pythonanywhere.com/db4dfab7-0cf9-4916-adb2-5fdafb038070/f17747c8-0fd4-4df5-a0e9-0430812d5b3f/chat\n",
      "https://a4e5bcd8.pythonanywhere.com/db4dfab7-0cf9-4916-adb2-5fdafb038070/f5ee30fe-1533-42f4-baf0-3d04af3e0a67/chat\n",
      "https://a4e5bcd8.pythonanywhere.com/db4dfab7-0cf9-4916-adb2-5fdafb038070/f8e481ea-53eb-4f37-b249-5e803d569f2c/chat\n",
      "https://a4e5bcd8.pythonanywhere.com/db4dfab7-0cf9-4916-adb2-5fdafb038070/fa4bd471-5006-4b91-830a-7fa415eafbb4/chat\n",
      "https://a4e5bcd8.pythonanywhere.com/db4dfab7-0cf9-4916-adb2-5fdafb038070/fa87baac-ea79-4b1c-88f6-27fecb394078/chat\n",
      "https://a4e5bcd8.pythonanywhere.com/db4dfab7-0cf9-4916-adb2-5fdafb038070/fdb30aeb-b320-4a83-9a07-ede4a7383bfa/chat\n",
      "https://a4e5bcd8.pythonanywhere.com/db4dfab7-0cf9-4916-adb2-5fdafb038070/fe8214c6-9271-4623-a469-d5544fa80532/chat\n"
     ]
    }
   ],
   "source": [
    "pythonanywhere_username = \"a4e5bcd8\"\n",
    "type_id = \"db4dfab7-0cf9-4916-adb2-5fdafb038070\"\n",
    "bot = Chatbot(\n",
    "    database_file=\"database/chatbot.db\", \n",
    "    type_id=type_id,\n",
    "    user_id=user_ids[0]\n",
    ")\n",
    "\n",
    "for user_id in bot.type_instances():\n",
    "    print(\"https://{}.pythonanywhere.com/{}/{}/chat\".format(pythonanywhere_username, type_id, user_id))"
   ]
  },
  {
   "cell_type": "markdown",
   "metadata": {},
   "source": [
    "#### Generate URLs to Group One (Bot)"
   ]
  },
  {
   "cell_type": "code",
   "execution_count": 9,
   "metadata": {},
   "outputs": [
    {
     "name": "stdout",
     "output_type": "stream",
     "text": [
      "https://a4e5bcd8.chunntguet.xyz/be82d478/?db4dfab7-0cf9-4916-adb2-5fdafb038070&00f43a6b-84b5-4a6d-b89e-2679ce625dc9\n",
      "https://a4e5bcd8.chunntguet.xyz/be82d478/?db4dfab7-0cf9-4916-adb2-5fdafb038070&01d75728-6256-4a7e-b0e6-bdf2a530e266\n",
      "https://a4e5bcd8.chunntguet.xyz/be82d478/?db4dfab7-0cf9-4916-adb2-5fdafb038070&040befcd-7490-49d7-ab07-58a87aed754e\n",
      "https://a4e5bcd8.chunntguet.xyz/be82d478/?db4dfab7-0cf9-4916-adb2-5fdafb038070&042480fc-e169-4dd1-b339-5c923a580f2f\n",
      "https://a4e5bcd8.chunntguet.xyz/be82d478/?db4dfab7-0cf9-4916-adb2-5fdafb038070&07093ac8-d4b4-4028-9b9e-e606cc8aa6f4\n",
      "https://a4e5bcd8.chunntguet.xyz/be82d478/?db4dfab7-0cf9-4916-adb2-5fdafb038070&077273e6-0c50-47e5-bc51-5082674347ba\n",
      "https://a4e5bcd8.chunntguet.xyz/be82d478/?db4dfab7-0cf9-4916-adb2-5fdafb038070&0994d030-7c81-42b9-9e3e-c01a9edc6d3c\n",
      "https://a4e5bcd8.chunntguet.xyz/be82d478/?db4dfab7-0cf9-4916-adb2-5fdafb038070&0b4103cf-8801-4d6a-8fe0-d844dbcc1856\n",
      "https://a4e5bcd8.chunntguet.xyz/be82d478/?db4dfab7-0cf9-4916-adb2-5fdafb038070&14d5cf45-446b-40ab-a938-86b1a2b59ad1\n",
      "https://a4e5bcd8.chunntguet.xyz/be82d478/?db4dfab7-0cf9-4916-adb2-5fdafb038070&194d8a8e-6efc-4db5-9323-3a53d194a369\n",
      "https://a4e5bcd8.chunntguet.xyz/be82d478/?db4dfab7-0cf9-4916-adb2-5fdafb038070&195200f1-ce6d-4181-9f8b-2a8cca32e277\n",
      "https://a4e5bcd8.chunntguet.xyz/be82d478/?db4dfab7-0cf9-4916-adb2-5fdafb038070&1ad8d9e6-2c54-46dc-a4f5-d8806e5b160f\n",
      "https://a4e5bcd8.chunntguet.xyz/be82d478/?db4dfab7-0cf9-4916-adb2-5fdafb038070&1ee4ea02-44a0-4427-b889-c96a0f98dc33\n",
      "https://a4e5bcd8.chunntguet.xyz/be82d478/?db4dfab7-0cf9-4916-adb2-5fdafb038070&1f8956ce-27be-4472-804e-a9c2f5cc5bdd\n",
      "https://a4e5bcd8.chunntguet.xyz/be82d478/?db4dfab7-0cf9-4916-adb2-5fdafb038070&2519eafa-4224-4853-b128-8944d55b693a\n",
      "https://a4e5bcd8.chunntguet.xyz/be82d478/?db4dfab7-0cf9-4916-adb2-5fdafb038070&2904c107-87e6-4d31-b827-83e5f675982f\n",
      "https://a4e5bcd8.chunntguet.xyz/be82d478/?db4dfab7-0cf9-4916-adb2-5fdafb038070&298a006e-193a-418d-9f49-98f26e173597\n",
      "https://a4e5bcd8.chunntguet.xyz/be82d478/?db4dfab7-0cf9-4916-adb2-5fdafb038070&2a3894c4-c582-4248-a3e0-a517563c898f\n",
      "https://a4e5bcd8.chunntguet.xyz/be82d478/?db4dfab7-0cf9-4916-adb2-5fdafb038070&2b9acf3a-c4d7-4a8f-9480-83969889b58f\n",
      "https://a4e5bcd8.chunntguet.xyz/be82d478/?db4dfab7-0cf9-4916-adb2-5fdafb038070&2da54053-1194-4ed0-87c7-ce4430b4922b\n",
      "https://a4e5bcd8.chunntguet.xyz/be82d478/?db4dfab7-0cf9-4916-adb2-5fdafb038070&3595c95a-52f7-4127-96c6-59cd661a1475\n",
      "https://a4e5bcd8.chunntguet.xyz/be82d478/?db4dfab7-0cf9-4916-adb2-5fdafb038070&3c9b72ab-5b42-4842-a076-c8b8857d4ac5\n",
      "https://a4e5bcd8.chunntguet.xyz/be82d478/?db4dfab7-0cf9-4916-adb2-5fdafb038070&42387724-c6c5-4d88-a1e9-5c213e855ec7\n",
      "https://a4e5bcd8.chunntguet.xyz/be82d478/?db4dfab7-0cf9-4916-adb2-5fdafb038070&4c378323-49e5-4116-b5ed-d78738f84a70\n",
      "https://a4e5bcd8.chunntguet.xyz/be82d478/?db4dfab7-0cf9-4916-adb2-5fdafb038070&53489a9a-2eb5-4c13-b68d-65fd65d6bb05\n",
      "https://a4e5bcd8.chunntguet.xyz/be82d478/?db4dfab7-0cf9-4916-adb2-5fdafb038070&53b4de2c-84cc-4a32-b499-d92f85bcbb91\n",
      "https://a4e5bcd8.chunntguet.xyz/be82d478/?db4dfab7-0cf9-4916-adb2-5fdafb038070&6b88c509-8105-4450-964a-a0c60f02faed\n",
      "https://a4e5bcd8.chunntguet.xyz/be82d478/?db4dfab7-0cf9-4916-adb2-5fdafb038070&6e49f40f-ad12-4667-b969-f251ca41d7e2\n",
      "https://a4e5bcd8.chunntguet.xyz/be82d478/?db4dfab7-0cf9-4916-adb2-5fdafb038070&6e6e5a70-f7fc-4276-8b8d-5055e0927e4c\n",
      "https://a4e5bcd8.chunntguet.xyz/be82d478/?db4dfab7-0cf9-4916-adb2-5fdafb038070&6e746990-5fe2-4a4e-8de8-78c657e678b1\n",
      "https://a4e5bcd8.chunntguet.xyz/be82d478/?db4dfab7-0cf9-4916-adb2-5fdafb038070&6f45c048-9433-4997-9c22-63a604778716\n",
      "https://a4e5bcd8.chunntguet.xyz/be82d478/?db4dfab7-0cf9-4916-adb2-5fdafb038070&77725f7b-44e4-4ec2-9378-c16855c0fba9\n",
      "https://a4e5bcd8.chunntguet.xyz/be82d478/?db4dfab7-0cf9-4916-adb2-5fdafb038070&792b7f08-c6c4-4590-a46f-472b2ac909a2\n",
      "https://a4e5bcd8.chunntguet.xyz/be82d478/?db4dfab7-0cf9-4916-adb2-5fdafb038070&7a5ea37b-61c1-4429-b573-e7accb1b1042\n",
      "https://a4e5bcd8.chunntguet.xyz/be82d478/?db4dfab7-0cf9-4916-adb2-5fdafb038070&81298c43-3150-4942-ba85-69a96a7d746f\n",
      "https://a4e5bcd8.chunntguet.xyz/be82d478/?db4dfab7-0cf9-4916-adb2-5fdafb038070&8dc338fc-9df5-4037-b318-2073f18b12e2\n",
      "https://a4e5bcd8.chunntguet.xyz/be82d478/?db4dfab7-0cf9-4916-adb2-5fdafb038070&8dfcdf31-22e0-4bf0-ae14-984a9fd11da1\n",
      "https://a4e5bcd8.chunntguet.xyz/be82d478/?db4dfab7-0cf9-4916-adb2-5fdafb038070&96dbf2c8-ae36-4e8b-80ca-cd5f42169665\n",
      "https://a4e5bcd8.chunntguet.xyz/be82d478/?db4dfab7-0cf9-4916-adb2-5fdafb038070&9739c2e1-c31a-42c5-ae08-8249e6bb6eb7\n",
      "https://a4e5bcd8.chunntguet.xyz/be82d478/?db4dfab7-0cf9-4916-adb2-5fdafb038070&9c562539-393b-423a-b584-ab6563a4b942\n",
      "https://a4e5bcd8.chunntguet.xyz/be82d478/?db4dfab7-0cf9-4916-adb2-5fdafb038070&9f1e67bf-1e1a-4c9f-b5ec-7e9364eeec7d\n",
      "https://a4e5bcd8.chunntguet.xyz/be82d478/?db4dfab7-0cf9-4916-adb2-5fdafb038070&a2b6a532-b973-43d0-85ad-5c600f4ad25d\n",
      "https://a4e5bcd8.chunntguet.xyz/be82d478/?db4dfab7-0cf9-4916-adb2-5fdafb038070&a5eb5528-788e-4906-bb55-f5e6e4084f6c\n",
      "https://a4e5bcd8.chunntguet.xyz/be82d478/?db4dfab7-0cf9-4916-adb2-5fdafb038070&b22aa6cf-6a53-4e38-8de8-878780d8ccfa\n",
      "https://a4e5bcd8.chunntguet.xyz/be82d478/?db4dfab7-0cf9-4916-adb2-5fdafb038070&b348b695-b17f-4474-89b6-1792463cc7b3\n",
      "https://a4e5bcd8.chunntguet.xyz/be82d478/?db4dfab7-0cf9-4916-adb2-5fdafb038070&b4f80954-0e91-4a96-b09a-d1c1b13817b2\n",
      "https://a4e5bcd8.chunntguet.xyz/be82d478/?db4dfab7-0cf9-4916-adb2-5fdafb038070&c0897656-be34-434c-bae5-f6d891a66e18\n",
      "https://a4e5bcd8.chunntguet.xyz/be82d478/?db4dfab7-0cf9-4916-adb2-5fdafb038070&c183f215-5bc2-492d-b5ce-836287e91a28\n",
      "https://a4e5bcd8.chunntguet.xyz/be82d478/?db4dfab7-0cf9-4916-adb2-5fdafb038070&c3b532ac-3f12-4639-a5ce-a40fbf60d298\n",
      "https://a4e5bcd8.chunntguet.xyz/be82d478/?db4dfab7-0cf9-4916-adb2-5fdafb038070&c49c19a1-ee89-46a8-a01a-e17f12e6681d\n",
      "https://a4e5bcd8.chunntguet.xyz/be82d478/?db4dfab7-0cf9-4916-adb2-5fdafb038070&c4a41bd7-d03f-4099-a18b-0ddade0d875f\n",
      "https://a4e5bcd8.chunntguet.xyz/be82d478/?db4dfab7-0cf9-4916-adb2-5fdafb038070&c4db31d7-cce5-4fca-92e4-62bd3edcb49a\n",
      "https://a4e5bcd8.chunntguet.xyz/be82d478/?db4dfab7-0cf9-4916-adb2-5fdafb038070&c6b708c2-da94-4af8-a19a-bd5e157cf64f\n",
      "https://a4e5bcd8.chunntguet.xyz/be82d478/?db4dfab7-0cf9-4916-adb2-5fdafb038070&cbb489ff-c691-4321-916d-1963b16936e4\n",
      "https://a4e5bcd8.chunntguet.xyz/be82d478/?db4dfab7-0cf9-4916-adb2-5fdafb038070&cd271057-c526-431c-a746-c1ef47509851\n",
      "https://a4e5bcd8.chunntguet.xyz/be82d478/?db4dfab7-0cf9-4916-adb2-5fdafb038070&d3a7567f-387f-48a6-a76b-000e04f4e468\n",
      "https://a4e5bcd8.chunntguet.xyz/be82d478/?db4dfab7-0cf9-4916-adb2-5fdafb038070&d681df18-b01a-4bd6-933f-05b9df66d4b7\n",
      "https://a4e5bcd8.chunntguet.xyz/be82d478/?db4dfab7-0cf9-4916-adb2-5fdafb038070&d91705de-9f2a-4ef3-b5be-bcf50b2b5a38\n",
      "https://a4e5bcd8.chunntguet.xyz/be82d478/?db4dfab7-0cf9-4916-adb2-5fdafb038070&d99ef357-6320-4767-9b4e-502424e49cf3\n",
      "https://a4e5bcd8.chunntguet.xyz/be82d478/?db4dfab7-0cf9-4916-adb2-5fdafb038070&d9e098d3-90ee-4152-a9dd-5aee4188c38a\n",
      "https://a4e5bcd8.chunntguet.xyz/be82d478/?db4dfab7-0cf9-4916-adb2-5fdafb038070&da02f509-5082-4b6a-afc3-19ff57b226f7\n",
      "https://a4e5bcd8.chunntguet.xyz/be82d478/?db4dfab7-0cf9-4916-adb2-5fdafb038070&de1be333-366d-4cd8-b9f8-d56fd56282a5\n",
      "https://a4e5bcd8.chunntguet.xyz/be82d478/?db4dfab7-0cf9-4916-adb2-5fdafb038070&de93186e-3c8a-4796-8463-31d140ab2968\n",
      "https://a4e5bcd8.chunntguet.xyz/be82d478/?db4dfab7-0cf9-4916-adb2-5fdafb038070&e8950cdc-4d5a-4412-b3f1-f9f7357609b7\n",
      "https://a4e5bcd8.chunntguet.xyz/be82d478/?db4dfab7-0cf9-4916-adb2-5fdafb038070&e8aaaa6f-19fc-40c3-8f37-b147375840e5\n",
      "https://a4e5bcd8.chunntguet.xyz/be82d478/?db4dfab7-0cf9-4916-adb2-5fdafb038070&e9d48e1c-2172-47af-8efb-862ae9cce5d0\n",
      "https://a4e5bcd8.chunntguet.xyz/be82d478/?db4dfab7-0cf9-4916-adb2-5fdafb038070&ee2b0b7f-196a-477e-8099-eb17d1405670\n",
      "https://a4e5bcd8.chunntguet.xyz/be82d478/?db4dfab7-0cf9-4916-adb2-5fdafb038070&ee63d6f4-8507-476e-acba-e655b508e58e\n",
      "https://a4e5bcd8.chunntguet.xyz/be82d478/?db4dfab7-0cf9-4916-adb2-5fdafb038070&f17747c8-0fd4-4df5-a0e9-0430812d5b3f\n",
      "https://a4e5bcd8.chunntguet.xyz/be82d478/?db4dfab7-0cf9-4916-adb2-5fdafb038070&f5ee30fe-1533-42f4-baf0-3d04af3e0a67\n",
      "https://a4e5bcd8.chunntguet.xyz/be82d478/?db4dfab7-0cf9-4916-adb2-5fdafb038070&f8e481ea-53eb-4f37-b249-5e803d569f2c\n",
      "https://a4e5bcd8.chunntguet.xyz/be82d478/?db4dfab7-0cf9-4916-adb2-5fdafb038070&fa4bd471-5006-4b91-830a-7fa415eafbb4\n",
      "https://a4e5bcd8.chunntguet.xyz/be82d478/?db4dfab7-0cf9-4916-adb2-5fdafb038070&fa87baac-ea79-4b1c-88f6-27fecb394078\n",
      "https://a4e5bcd8.chunntguet.xyz/be82d478/?db4dfab7-0cf9-4916-adb2-5fdafb038070&fdb30aeb-b320-4a83-9a07-ede4a7383bfa\n",
      "https://a4e5bcd8.chunntguet.xyz/be82d478/?db4dfab7-0cf9-4916-adb2-5fdafb038070&fe8214c6-9271-4623-a469-d5544fa80532\n"
     ]
    }
   ],
   "source": [
    "type_id = \"db4dfab7-0cf9-4916-adb2-5fdafb038070\"\n",
    "bot = Chatbot(\n",
    "    database_file=\"database/chatbot.db\", \n",
    "    type_id=type_id,\n",
    "    user_id=user_ids[0]\n",
    ")\n",
    "\n",
    "for user_id in bot.type_instances():\n",
    "    print(\"https://a4e5bcd8.chunntguet.xyz/be82d478/?{}&{}\".format(type_id, user_id))"
   ]
  },
  {
   "cell_type": "markdown",
   "metadata": {},
   "source": [
    "#### Generate URLs to Group Two (Wegleitung)"
   ]
  },
  {
   "cell_type": "code",
   "execution_count": 8,
   "metadata": {},
   "outputs": [
    {
     "name": "stdout",
     "output_type": "stream",
     "text": [
      "https://a4e5bcd8.chunntguet.xyz/c579fe2b/?db4dfab7-0cf9-4916-adb2-5fdafb038070&aa36b81a-c2c1-4bb5-a8cc-86189d949601\n",
      "https://a4e5bcd8.chunntguet.xyz/c579fe2b/?db4dfab7-0cf9-4916-adb2-5fdafb038070&a1a97a36-7af0-4a01-bc3c-b5debbc3ed6e\n",
      "https://a4e5bcd8.chunntguet.xyz/c579fe2b/?db4dfab7-0cf9-4916-adb2-5fdafb038070&fd814c6c-4beb-4d22-b0a7-7337c4b242d0\n",
      "https://a4e5bcd8.chunntguet.xyz/c579fe2b/?db4dfab7-0cf9-4916-adb2-5fdafb038070&67ff04ff-a501-4809-9cef-1abb9a46593b\n",
      "https://a4e5bcd8.chunntguet.xyz/c579fe2b/?db4dfab7-0cf9-4916-adb2-5fdafb038070&25290ef3-b733-4c9e-806c-346fc6b1ff77\n",
      "https://a4e5bcd8.chunntguet.xyz/c579fe2b/?db4dfab7-0cf9-4916-adb2-5fdafb038070&4f253055-b023-417e-9e12-38f16231574f\n",
      "https://a4e5bcd8.chunntguet.xyz/c579fe2b/?db4dfab7-0cf9-4916-adb2-5fdafb038070&273fcb60-3abc-46c3-b605-52e37dd84ff4\n",
      "https://a4e5bcd8.chunntguet.xyz/c579fe2b/?db4dfab7-0cf9-4916-adb2-5fdafb038070&e957e1dc-e5a1-4afc-9db2-3ccd5110ba17\n",
      "https://a4e5bcd8.chunntguet.xyz/c579fe2b/?db4dfab7-0cf9-4916-adb2-5fdafb038070&f730a8a2-7a93-4e1a-8cb4-36e68f55897f\n",
      "https://a4e5bcd8.chunntguet.xyz/c579fe2b/?db4dfab7-0cf9-4916-adb2-5fdafb038070&c9b880a1-9096-4125-a5de-d7f8d382a543\n",
      "https://a4e5bcd8.chunntguet.xyz/c579fe2b/?db4dfab7-0cf9-4916-adb2-5fdafb038070&ddcc95e8-e650-48a1-911e-c65a6c4719f0\n",
      "https://a4e5bcd8.chunntguet.xyz/c579fe2b/?db4dfab7-0cf9-4916-adb2-5fdafb038070&96434713-48ff-438f-9b26-fc79de923556\n",
      "https://a4e5bcd8.chunntguet.xyz/c579fe2b/?db4dfab7-0cf9-4916-adb2-5fdafb038070&2ab2faa0-3b52-4f61-a2c2-d0bad3662626\n",
      "https://a4e5bcd8.chunntguet.xyz/c579fe2b/?db4dfab7-0cf9-4916-adb2-5fdafb038070&744b1ac3-5975-4e4b-ac10-9f6662a9d285\n",
      "https://a4e5bcd8.chunntguet.xyz/c579fe2b/?db4dfab7-0cf9-4916-adb2-5fdafb038070&e6f93fa2-688c-4cc5-8775-b5682ad0ba3e\n",
      "https://a4e5bcd8.chunntguet.xyz/c579fe2b/?db4dfab7-0cf9-4916-adb2-5fdafb038070&be2dbfa8-e716-4384-96f7-bb7796747818\n",
      "https://a4e5bcd8.chunntguet.xyz/c579fe2b/?db4dfab7-0cf9-4916-adb2-5fdafb038070&24f94c83-bf57-4073-bf89-0914866da11e\n",
      "https://a4e5bcd8.chunntguet.xyz/c579fe2b/?db4dfab7-0cf9-4916-adb2-5fdafb038070&96326223-4fe8-4d82-9596-fed8811a9981\n",
      "https://a4e5bcd8.chunntguet.xyz/c579fe2b/?db4dfab7-0cf9-4916-adb2-5fdafb038070&25ecb6ec-48f5-490c-89f1-dd50264b91be\n",
      "https://a4e5bcd8.chunntguet.xyz/c579fe2b/?db4dfab7-0cf9-4916-adb2-5fdafb038070&e6e78e0c-b24c-463a-aca6-378a56bdf1d6\n",
      "https://a4e5bcd8.chunntguet.xyz/c579fe2b/?db4dfab7-0cf9-4916-adb2-5fdafb038070&f2509f72-112c-4c73-b648-c928f64dbdf1\n",
      "https://a4e5bcd8.chunntguet.xyz/c579fe2b/?db4dfab7-0cf9-4916-adb2-5fdafb038070&8a677a60-21e1-4fe8-aed8-b76ffa088123\n",
      "https://a4e5bcd8.chunntguet.xyz/c579fe2b/?db4dfab7-0cf9-4916-adb2-5fdafb038070&1d0dc03a-1531-4410-9c9a-066102e2ebbe\n",
      "https://a4e5bcd8.chunntguet.xyz/c579fe2b/?db4dfab7-0cf9-4916-adb2-5fdafb038070&0a8c16b5-52fd-48c1-9b0e-e244314c03d5\n",
      "https://a4e5bcd8.chunntguet.xyz/c579fe2b/?db4dfab7-0cf9-4916-adb2-5fdafb038070&401fb99d-b2c1-4390-9c54-a5fcad30b91c\n",
      "https://a4e5bcd8.chunntguet.xyz/c579fe2b/?db4dfab7-0cf9-4916-adb2-5fdafb038070&3f1ac0f8-7528-4bf4-8e2c-46f7ac8173e4\n",
      "https://a4e5bcd8.chunntguet.xyz/c579fe2b/?db4dfab7-0cf9-4916-adb2-5fdafb038070&3824cb44-28ab-4f02-9847-87b570ee6cbf\n",
      "https://a4e5bcd8.chunntguet.xyz/c579fe2b/?db4dfab7-0cf9-4916-adb2-5fdafb038070&6f008772-d640-4d62-a9cb-bdba8e912ce1\n",
      "https://a4e5bcd8.chunntguet.xyz/c579fe2b/?db4dfab7-0cf9-4916-adb2-5fdafb038070&f23481cd-9c4d-43ea-997f-33ba19a52840\n",
      "https://a4e5bcd8.chunntguet.xyz/c579fe2b/?db4dfab7-0cf9-4916-adb2-5fdafb038070&d125b3dd-1476-4e4d-985f-04ea51924de3\n"
     ]
    }
   ],
   "source": [
    "number_of_urls = 30\n",
    "type_id = \"db4dfab7-0cf9-4916-adb2-5fdafb038070\"\n",
    "instance_ids = [str(uuid.uuid4()) for _ in range(number_of_urls)]\n",
    "\n",
    "for instance_id in instance_ids:\n",
    "    print(\"https://a4e5bcd8.chunntguet.xyz/c579fe2b/?{}&{}\".format(type_id, instance_id))"
   ]
  }
 ],
 "metadata": {
  "kernelspec": {
   "display_name": "Python 3",
   "language": "python",
   "name": "python3"
  },
  "language_info": {
   "codemirror_mode": {
    "name": "ipython",
    "version": 3
   },
   "file_extension": ".py",
   "mimetype": "text/x-python",
   "name": "python",
   "nbconvert_exporter": "python",
   "pygments_lexer": "ipython3",
   "version": "3.9.13"
  },
  "orig_nbformat": 4
 },
 "nbformat": 4,
 "nbformat_minor": 2
}
