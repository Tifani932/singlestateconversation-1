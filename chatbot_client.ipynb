{
 "cells": [
  {
   "attachments": {},
   "cell_type": "markdown",
   "metadata": {},
   "source": [
    "## A Chatbot using GPT and a Database\n",
    "This allows multiple chatbot types (e.g. a health coach and a learning assistant) to be created. Multiple chatbot instances can be created per chatbot type (e.g. for User X and User Y). Both, type and instance are stored and referenced with an ID (e.g. with a UUID) in the database.\n",
    "\n",
    "This can support the deployment of chatbots in a web backend (state-less). For example, the UUIDs of the type and instance can be read as URL parameters from a URL that users have received from you.\n",
    "\n",
    "A chatbot is created with the following arguments.\n",
    "- database_file: File of SQLite (in Folder data/)\n",
    "- type_id: Reference to chatbot type\n",
    "- instance_id: Reference to chatbot instance (typically one per user - however, may also be shared by multiple users)\n",
    "- type_role: Role of chatbot type (will be turned into a first prompt with role:system)\n",
    "- instance_context: Context of chatbot instance (will be turned into a second prompt with role:system)\n",
    "- instance_starter: Will be used to generate an initial message to the user (will be turned into a final prompt with role:system)\n",
    "\n",
    "The following functions are meant to be used from an application (e.g. from controllers of a REST API).\n",
    "- conversation_retrieve(with_system=False): Retrieve the previous conversation history (default: without prompts with role:system)\n",
    "- start(): Returns an initial message to the user (Resulting from instance_starter prompt)\n",
    "- respond(user_says): Returns an assistance response to user_says\n",
    "- info_retrieve(): Returns the chatbot name, type role and instance context\n",
    "- reset(): Resets the conversation so far"
   ]
  },
  {
   "cell_type": "markdown",
   "metadata": {},
   "source": [
    "#### OpenAI API Key and Model\n",
    "\n",
    "Create file chatbot/openai.py with the following content\\\n",
    "    OPENAI_KEY = \"your OpenAI API key\"\\\n",
    "    OPENAI_MODEL = \"gpt-3.5-turbo-16k\"\\\n",
    "(You may rename the file chatbot/openai_template.py to openai.py and set the keys there)"
   ]
  },
  {
   "cell_type": "code",
   "execution_count": 1,
   "metadata": {},
   "outputs": [],
   "source": [
    "from chatbot.chatbot import Chatbot"
   ]
  },
  {
   "attachments": {},
   "cell_type": "markdown",
   "metadata": {},
   "source": [
    "#### Create a chatbot \"Coach\" for user X"
   ]
  },
  {
   "cell_type": "code",
   "execution_count": 2,
   "metadata": {},
   "outputs": [],
   "source": [
    "bot_type = \"\"\"\n",
    "Als achtsamer und respektvoller Coach unterstützt du Personen dabei, ihre Steuererklärung unter Berücksichtigung aller Regelungen auszufüllen. \n",
    "Du hilfst ihnen, die notwendigen Dokumente wie Lohnabrechnungen und Bankauszüge bereitzulegen und informierst sie präzise, welche Informationen \n",
    "sie aus diesen Dokumenten in welche Abschnitte der Steuererklärung eintragen müssen. \n",
    "Du weist auf mögliche Abzüge hin und ermöglichst es ihnen, die Korrektheit ihrer Angaben eigenständig zu prüfen, während du sie darauf aufmerksam machst, \n",
    "dass eine Nachprüfung durch das Steueramt möglich ist. \n",
    "Dabei achtest du stets auf den Schutz ihrer persönlichen Daten und passt deine Beratung an ihre individuellen Bedürfnisse an. \n",
    "\"\"\"\n",
    "bot_instance = \"\"\"\n",
    "In deiner Rolle als Coach unterstützt du nun im Rahmen einer Coaching-Session eine Person, deren Situation wie folgt beschrieben ist:\n",
    "<ol>\n",
    "    <li>Die Person wohnt in der Gemeinde Muster im Kanton Aargau, Schweiz.</li>\n",
    "    <li>Die Person hat ein Einkommen aus unselbstständiger Tätigkeit als Büroangestellte/r. Die Person arbeitet vollzeitlich, zu 100%.</li> \n",
    "    <li>Die Person besitzt Aktien von Roche und Swiss Re.</li>\n",
    "    <li>Die Person hat zwei betreuungspflichtige Kinder im Alter von drei Jahren.</li>\n",
    "    <li>Die Person lebt mit dem anderen Elternteil zusammen und die beiden teilen sich das Sorgerecht.</li>\n",
    "    <li>Die Mutter hat das höhere Einkommen. (Bei gewissen Fragen nach dem höheren Einkommen (z.B.: Habe ich das höhere Einkommen?) musst du zuerst wissen, ob du mit der Mutter oder dem Vater sprichst.)</li>\n",
    "    <li>Weil beide Elternteile erwerbstätig sind, nehmen sie Kinderbetreuung durch die Kindertagestätte Happy Kids in Anspruch.</li>\n",
    "    <li>Diese Kinderbetreuung kostet monatlich CHF 2000.</li>\n",
    "    <li>Die Eltern sind nicht verheiratet. Die Kinder sind konfessionslos.</li>\n",
    "</ol>\n",
    "In dieser Coaching-Session sind keine weiteren Angaben erforderlich. \n",
    "Deine Aufgabe ist es, die Person zu befähigen, die relevanten Daten aus den Dokumenten Lohnausweis, Kontoauszug, Depotauszug und Jahresrechnung der Kindertagesstätte korrekt in die Steuererklärung zu übertragen. \n",
    "Du hilfst die Person, die relevanten Abschnitte in den Dokumenten zu identifizieren. \n",
    "Ermutige die Person, die notwendigen Werte selbst zu ermitteln und verweise auf die entsprechenden Abschnitte in den Dokumenten, ohne konkrete Werte vorzugeben.\n",
    "Dabei ist es wichtig, dass in dieser Sitzung keine anderen Angaben gemacht oder Dokumente hinzugezogen werden müssen.\n",
    "Du gewährleistest den Schutz persönlicher Informationen, betonst die Bedeutung von Genauigkeit und Sorgfalt und förderst die Selbstständigkeit der Person.\n",
    "Wenn die Person Dinge anspricht, die über deinen Aufgabenbereich hinausgehen, dann erinnerst du die Person an deine eigentliche Aufgaben und führst das Gespräch freundlich darauf zurück.\n",
    "\"\"\"\n",
    "bot_starter = \"\"\"\n",
    "Bei deinen Antworten integriere Emojis, wo sie passend und hilfreich sind, um die Kommunikation freundlich und verständlich zu gestalten 😊. \n",
    "Achte darauf, dass die Antworten vollständig und präzis sind, ohne mit einem Doppelpunkt oder mit '... folgendes:' zu enden. \n",
    "Verwende <b><ol></b> oder <b><ul></b> mit <b><li></b>, um Informationen strukturiert in Listenform darzubieten, wenn dies die Klarheit fördert. \n",
    "Gliedere deine Antwort in mehrere <b><p></b>-Elemente, um die Lesbarkeit bei der Präsentation mehrerer Informationen oder Feedbacks zu erhöhen. \n",
    "Formatierung ist wichtig: Nutze gültiges HTML, wie <b><p></b> für Absätze und <b><b></b> für Hervorhebungen. \n",
    "Obwohl ein humorvoller Ton geschätzt wird, solltest du stets die Klarheit und Angemessenheit für den Kontext der Steuerberatung berücksichtigen. \n",
    "Deine Antworten sollten möglichst wenige Tokens beinhalten, wenn möglich weniger als 100.\n",
    "Gib alle Antworten in korrektem Deutsch.\n",
    "\n",
    "Beginne das Gespräch mit einer freundlichen Begrüßung. \n",
    "Sprich die Person in einer geschlechtsneutralen Du-Form an.\n",
    "Vermeide vollständige Anleitungen.\n",
    "Biete deine Hilfe an und warte auf konkrete Anfragen.\n",
    "\"\"\""
   ]
  },
  {
   "cell_type": "code",
   "execution_count": 3,
   "metadata": {},
   "outputs": [],
   "source": [
    "bot = Chatbot(\n",
    "    database_file=\"database/chatbot.db\", \n",
    "    type_id=\"db4dfab7-0cf9-4916-adb2-5fdafb038070\",\n",
    "    user_id=\"e8950cdc-4d5a-4412-b3f1-f9f7357609b7\",\n",
    "    type_name=\"Tax Copilot\",\n",
    "    type_role=bot_type,\n",
    "    instance_context=bot_instance,\n",
    "    instance_starter=bot_starter\n",
    ")"
   ]
  },
  {
   "cell_type": "code",
   "execution_count": 4,
   "metadata": {},
   "outputs": [
    {
     "name": "stdout",
     "output_type": "stream",
     "text": [
      "['Hallo und herzlich willkommen zu unserer gemeinsamen Steuercoaching-Session! 😊 Ich freue mich darauf, dich durch den Prozess zu führen und sicherzustellen, dass wir alle relevanten Informationen sorgfältig und präzise in die Steuererklärung eintragen.\\n\\nWir haben vier wichtige Dokumente, die uns beim Ausfüllen der Steuererklärung hilfreich sind 📒:\\n<ol>\\n  <li>Deinen Lohnausweis 📄</li>\\n  <li>Deinen Kontoauszug 🏦</li>\\n  <li>Deinen Depotauszug 📊</li>\\n  <li>Die Jahresrechnung der Kindertagesstätte 🧒</li>\\n</ol>\\n\\nLass uns gemeinsam herausfinden, wo du die benötigten Angaben in diesen Dokumenten findest und wo du sie in der Steuererklärung einträgst. Fühl dich frei, mir zu jederzeit konkrete Fragen zu stellen! Wo sollen wir starten? 😊']\n"
     ]
    }
   ],
   "source": [
    "print(bot.start())"
   ]
  },
  {
   "attachments": {},
   "cell_type": "markdown",
   "metadata": {},
   "source": [
    "URL to be handed out to the user: If you are following the instructions to deploy your chatbot(s) to pythonanywhere, this is the URL to access your chatbot.\n",
    "\n",
    "##### Generic URL\n",
    "https://[your pythonanywhere user name].pythonanywhere.com/[type id]/[user_id]/chat\n",
    "##### For Example\n",
    "https://monkey23.pythonanywhere.com/053e97a0-6a91-4589-8602-340aa47b6376/7515865e-4097-4dd7-9567-d3c7a4c1ed07/chat"
   ]
  },
  {
   "attachments": {},
   "cell_type": "markdown",
   "metadata": {},
   "source": [
    "#### Creating multiple instances of chatbot \"Coach\"\n",
    "In the following, we assume the existence of the bot type created in the cells above. We show example code that will generate N bot instances of that type. Each instance has it's own prompts (instance context and starter) that will be appended to the type prompts. Most importantly, each instance has its own chat history."
   ]
  },
  {
   "cell_type": "code",
   "execution_count": 5,
   "metadata": {},
   "outputs": [],
   "source": [
    "import uuid\n",
    "import time"
   ]
  },
  {
   "cell_type": "code",
   "execution_count": 6,
   "metadata": {},
   "outputs": [
    {
     "name": "stdout",
     "output_type": "stream",
     "text": [
      "['<p>Guten Tag und herzlich willkommen zu unserer Steuer-Coaching-Session! 👋😊 Ich freue mich darauf, dir beiseitezustehen, deine Steuererklärung korrekt und sorgfältig auszufüllen.\\n<p>Heute werden wir uns auf die richtige Eintragung deiner Daten von Dokumenten wie Lohnausweisen, Kontoauszügen, Depotauszügen und der Jahresrechnung deiner Kindertagesstätte konzentrieren.\\n<p>Es ist sehr wichtig, diese Dokumente sorgfältig durchzugehen und die relevanten Informationen festzuhalten. Ich werde dir helfen, die passenden Abschnitte zu identifizieren und erkläre dir, wie du die Daten übertragen kannst.\\n<p>Zögere nicht, mich alles zu fragen, was dir auf dem Herzen liegt. Ich bin hier, um dir zu helfen! ☺️']\n"
     ]
    }
   ],
   "source": [
    "# Amount of instances to be created\n",
    "number_of_instances = 60\n",
    "\n",
    "# Change the following to a list of hardcoded instance IDs if you want to use existing users.\n",
    "user_ids = [str(uuid.uuid4()) for _ in range(number_of_instances)]\n",
    "\n",
    "c  = 0 # counter for successful requests, don't change\n",
    "error_c = 0 # counter for failed requests, don't change\n",
    "for user_id in user_ids:\n",
    "    bot = Chatbot(\n",
    "        database_file=\"database/chatbot.db\", \n",
    "        type_id=\"db4dfab7-0cf9-4916-adb2-5fdafb038070\",\n",
    "        user_id=user_id,\n",
    "        instance_context=bot_instance,\n",
    "        instance_starter=bot_starter\n",
    "    )\n",
    "    try:\n",
    "        # each bot should have a first message to the user\n",
    "        print(bot.start())\n",
    "    except RuntimeError as error:\n",
    "        print(error)\n",
    "        error_c += 1\n",
    "        continue\n",
    "    c+=1\n",
    "    time.sleep(15) #openai seems to produce more errors if we send the requests too fast.\n",
    "    \n",
    "print(\"successful: {}, failed: {}\".format(c, error_c))\n"
   ]
  },
  {
   "cell_type": "markdown",
   "metadata": {},
   "source": [
    "#### Obtain URLs of all instances of a type\n",
    "We need one instance of that type and can then use the type_instances() function to retrieve all of instance ids. Using these instance ids we can then create URLs such as for pythonanywhere environment."
   ]
  },
  {
   "cell_type": "code",
   "execution_count": 7,
   "metadata": {},
   "outputs": [
    {
     "name": "stdout",
     "output_type": "stream",
     "text": [
      "https://a4e5bcd8.pythonanywhere.com/db4dfab7-0cf9-4916-adb2-5fdafb038070/1cbb6381-e993-4207-ae71-1803c6c7a594/chat\n",
      "https://a4e5bcd8.pythonanywhere.com/db4dfab7-0cf9-4916-adb2-5fdafb038070/31f438d8-ab91-4af3-9e50-7fe13958bd97/chat\n",
      "https://a4e5bcd8.pythonanywhere.com/db4dfab7-0cf9-4916-adb2-5fdafb038070/36451f74-d024-469f-b28d-4e66aa9266a3/chat\n",
      "https://a4e5bcd8.pythonanywhere.com/db4dfab7-0cf9-4916-adb2-5fdafb038070/8b604c85-8fa1-4d08-b7cf-1c87c83b0624/chat\n",
      "https://a4e5bcd8.pythonanywhere.com/db4dfab7-0cf9-4916-adb2-5fdafb038070/8c21b119-611a-4a11-9a0f-42ba591108a3/chat\n",
      "https://a4e5bcd8.pythonanywhere.com/db4dfab7-0cf9-4916-adb2-5fdafb038070/93c4538f-60a0-4241-a0f8-625a13978bec/chat\n",
      "https://a4e5bcd8.pythonanywhere.com/db4dfab7-0cf9-4916-adb2-5fdafb038070/a0075cbe-ed59-40f2-a789-df44e696f8c3/chat\n",
      "https://a4e5bcd8.pythonanywhere.com/db4dfab7-0cf9-4916-adb2-5fdafb038070/b03f7655-4688-4113-8bee-5b0755aa2712/chat\n",
      "https://a4e5bcd8.pythonanywhere.com/db4dfab7-0cf9-4916-adb2-5fdafb038070/bc327a19-b41e-4b38-83f2-ae9d65a5a02c/chat\n",
      "https://a4e5bcd8.pythonanywhere.com/db4dfab7-0cf9-4916-adb2-5fdafb038070/de9136e8-383f-4455-ba4d-0a2a5da0c375/chat\n",
      "https://a4e5bcd8.pythonanywhere.com/db4dfab7-0cf9-4916-adb2-5fdafb038070/e8950cdc-4d5a-4412-b3f1-f9f7357609b7/chat\n",
      "https://a4e5bcd8.pythonanywhere.com/db4dfab7-0cf9-4916-adb2-5fdafb038070/fc51cb59-af7d-4859-baf2-74835e6beaa4/chat\n"
     ]
    }
   ],
   "source": [
    "pythonanywhere_username = \"a4e5bcd8\"\n",
    "type_id = \"db4dfab7-0cf9-4916-adb2-5fdafb038070\"\n",
    "bot = Chatbot(\n",
    "    database_file=\"database/chatbot.db\", \n",
    "    type_id=type_id,\n",
    "    user_id=user_ids[0]\n",
    ")\n",
    "\n",
    "for user_id in bot.type_instances():\n",
    "    print(\"https://{}.pythonanywhere.com/{}/{}/chat\".format(pythonanywhere_username, type_id, user_id))"
   ]
  },
  {
   "cell_type": "markdown",
   "metadata": {},
   "source": [
    "#### Generate URLs to Group One (Bot)"
   ]
  },
  {
   "cell_type": "code",
   "execution_count": 10,
   "metadata": {},
   "outputs": [
    {
     "name": "stdout",
     "output_type": "stream",
     "text": [
      "https://a4e5bcd8.chunntguet.xyz/be82d478/?db4dfab7-0cf9-4916-adb2-5fdafb038070&1cbb6381-e993-4207-ae71-1803c6c7a594\n",
      "https://a4e5bcd8.chunntguet.xyz/be82d478/?db4dfab7-0cf9-4916-adb2-5fdafb038070&31f438d8-ab91-4af3-9e50-7fe13958bd97\n",
      "https://a4e5bcd8.chunntguet.xyz/be82d478/?db4dfab7-0cf9-4916-adb2-5fdafb038070&36451f74-d024-469f-b28d-4e66aa9266a3\n",
      "https://a4e5bcd8.chunntguet.xyz/be82d478/?db4dfab7-0cf9-4916-adb2-5fdafb038070&8b604c85-8fa1-4d08-b7cf-1c87c83b0624\n",
      "https://a4e5bcd8.chunntguet.xyz/be82d478/?db4dfab7-0cf9-4916-adb2-5fdafb038070&8c21b119-611a-4a11-9a0f-42ba591108a3\n",
      "https://a4e5bcd8.chunntguet.xyz/be82d478/?db4dfab7-0cf9-4916-adb2-5fdafb038070&93c4538f-60a0-4241-a0f8-625a13978bec\n",
      "https://a4e5bcd8.chunntguet.xyz/be82d478/?db4dfab7-0cf9-4916-adb2-5fdafb038070&a0075cbe-ed59-40f2-a789-df44e696f8c3\n",
      "https://a4e5bcd8.chunntguet.xyz/be82d478/?db4dfab7-0cf9-4916-adb2-5fdafb038070&b03f7655-4688-4113-8bee-5b0755aa2712\n",
      "https://a4e5bcd8.chunntguet.xyz/be82d478/?db4dfab7-0cf9-4916-adb2-5fdafb038070&bc327a19-b41e-4b38-83f2-ae9d65a5a02c\n",
      "https://a4e5bcd8.chunntguet.xyz/be82d478/?db4dfab7-0cf9-4916-adb2-5fdafb038070&de9136e8-383f-4455-ba4d-0a2a5da0c375\n",
      "https://a4e5bcd8.chunntguet.xyz/be82d478/?db4dfab7-0cf9-4916-adb2-5fdafb038070&e8950cdc-4d5a-4412-b3f1-f9f7357609b7\n",
      "https://a4e5bcd8.chunntguet.xyz/be82d478/?db4dfab7-0cf9-4916-adb2-5fdafb038070&fc51cb59-af7d-4859-baf2-74835e6beaa4\n"
     ]
    }
   ],
   "source": [
    "type_id = \"db4dfab7-0cf9-4916-adb2-5fdafb038070\"\n",
    "bot = Chatbot(\n",
    "    database_file=\"database/chatbot.db\", \n",
    "    type_id=type_id,\n",
    "    user_id=user_ids[0]\n",
    ")\n",
    "\n",
    "for user_id in bot.type_instances():\n",
    "    print(\"https://a4e5bcd8.chunntguet.xyz/be82d478/?{}&{}\".format(type_id, user_id))"
   ]
  },
  {
   "cell_type": "markdown",
   "metadata": {},
   "source": [
    "#### Generate URLs to Group Two (Wegleitung)"
   ]
  },
  {
   "cell_type": "code",
   "execution_count": 12,
   "metadata": {},
   "outputs": [
    {
     "name": "stdout",
     "output_type": "stream",
     "text": [
      "https://a4e5bcd8.chunntguet.xyz/c579fe2b/?db4dfab7-0cf9-4916-adb2-5fdafb038070&8d97aa4d-5894-4f75-8f2a-96f9631ed408\n",
      "https://a4e5bcd8.chunntguet.xyz/c579fe2b/?db4dfab7-0cf9-4916-adb2-5fdafb038070&4afa9cc1-a445-4ac8-91ca-232a80714c57\n",
      "https://a4e5bcd8.chunntguet.xyz/c579fe2b/?db4dfab7-0cf9-4916-adb2-5fdafb038070&84f446ab-d4dd-4ccb-ad94-46ffff32b264\n",
      "https://a4e5bcd8.chunntguet.xyz/c579fe2b/?db4dfab7-0cf9-4916-adb2-5fdafb038070&3ae8d65e-27c4-40fd-acb8-df2ae3323aa3\n",
      "https://a4e5bcd8.chunntguet.xyz/c579fe2b/?db4dfab7-0cf9-4916-adb2-5fdafb038070&2ba4080b-90ca-4786-ad55-31c3bd3d9465\n",
      "https://a4e5bcd8.chunntguet.xyz/c579fe2b/?db4dfab7-0cf9-4916-adb2-5fdafb038070&a22dc4e4-a4ff-45df-81fc-dec5cfa1ef74\n",
      "https://a4e5bcd8.chunntguet.xyz/c579fe2b/?db4dfab7-0cf9-4916-adb2-5fdafb038070&a1762178-cf5a-45f4-b1cf-657db1423751\n",
      "https://a4e5bcd8.chunntguet.xyz/c579fe2b/?db4dfab7-0cf9-4916-adb2-5fdafb038070&f73ba6c4-b7a4-457b-9b3a-07bbc31c4b53\n",
      "https://a4e5bcd8.chunntguet.xyz/c579fe2b/?db4dfab7-0cf9-4916-adb2-5fdafb038070&187bfb9c-3609-4dd4-8d01-9b0e8f24b85d\n",
      "https://a4e5bcd8.chunntguet.xyz/c579fe2b/?db4dfab7-0cf9-4916-adb2-5fdafb038070&7c01ed39-70aa-43f9-baa5-ddacb190a3e5\n",
      "https://a4e5bcd8.chunntguet.xyz/c579fe2b/?db4dfab7-0cf9-4916-adb2-5fdafb038070&ea2962ee-5699-427f-b0ec-7484e88d0d68\n",
      "https://a4e5bcd8.chunntguet.xyz/c579fe2b/?db4dfab7-0cf9-4916-adb2-5fdafb038070&25850167-4960-42c4-b44a-ffad5fb060b4\n"
     ]
    }
   ],
   "source": [
    "number_of_urls = 12\n",
    "type_id = \"db4dfab7-0cf9-4916-adb2-5fdafb038070\"\n",
    "instance_ids = [str(uuid.uuid4()) for _ in range(number_of_urls)]\n",
    "\n",
    "for instance_id in instance_ids:\n",
    "    print(\"https://a4e5bcd8.chunntguet.xyz/c579fe2b/?{}&{}\".format(type_id, instance_id))"
   ]
  }
 ],
 "metadata": {
  "kernelspec": {
   "display_name": "Python 3",
   "language": "python",
   "name": "python3"
  },
  "language_info": {
   "codemirror_mode": {
    "name": "ipython",
    "version": 3
   },
   "file_extension": ".py",
   "mimetype": "text/x-python",
   "name": "python",
   "nbconvert_exporter": "python",
   "pygments_lexer": "ipython3",
   "version": "3.10.11"
  },
  "orig_nbformat": 4
 },
 "nbformat": 4,
 "nbformat_minor": 2
}
