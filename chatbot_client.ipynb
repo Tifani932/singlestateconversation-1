{
 "cells": [
  {
   "attachments": {},
   "cell_type": "markdown",
   "metadata": {},
   "source": [
    "## A Chatbot using GPT and a Database\n",
    "This allows multiple chatbot types (e.g. a health coach and a learning assistant) to be created. Multiple chatbot instances can be created per chatbot type (e.g. for User X and User Y). Both, type and instance are stored and referenced with an ID (e.g. with a UUID) in the database.\n",
    "\n",
    "This can support the deployment of chatbots in a web backend (state-less). For example, the UUIDs of the type and instance can be read as URL parameters from a URL that users have received from you.\n",
    "\n",
    "A chatbot is created with the following arguments.\n",
    "- database_file: File of SQLite (in Folder data/)\n",
    "- type_id: Reference to chatbot type\n",
    "- instance_id: Reference to chatbot instance (typically one per user - however, may also be shared by multiple users)\n",
    "- type_role: Role of chatbot type (will be turned into a first prompt with role:system)\n",
    "- instance_context: Context of chatbot instance (will be turned into a second prompt with role:system)\n",
    "- instance_starter: Will be used to generate an initial message to the user (will be turned into a final prompt with role:system)\n",
    "\n",
    "The following functions are meant to be used from an application (e.g. from controllers of a REST API).\n",
    "- conversation_retrieve(with_system=False): Retrieve the previous conversation history (default: without prompts with role:system)\n",
    "- start(): Returns an initial message to the user (Resulting from instance_starter prompt)\n",
    "- respond(user_says): Returns an assistance response to user_says\n",
    "- info_retrieve(): Returns the chatbot name, type role and instance context\n",
    "- reset(): Resets the conversation so far"
   ]
  },
  {
   "cell_type": "markdown",
   "metadata": {},
   "source": [
    "#### OpenAI API Key and Model\n",
    "\n",
    "Create file chatbot/openai.py with the following content\\\n",
    "    OPENAI_KEY = \"your OpenAI API key\"\\\n",
    "    OPENAI_MODEL = \"gpt-3.5-turbo-16k\"\\\n",
    "(You may rename the file chatbot/openai_template.py to openai.py and set the keys there)"
   ]
  },
  {
   "cell_type": "code",
   "execution_count": 1,
   "metadata": {},
   "outputs": [],
   "source": [
    "from chatbot.chatbot import Chatbot"
   ]
  },
  {
   "attachments": {},
   "cell_type": "markdown",
   "metadata": {},
   "source": [
    "#### Create a chatbot \"Coach\" for user X"
   ]
  },
  {
   "cell_type": "code",
   "execution_count": 2,
   "metadata": {},
   "outputs": [],
   "source": [
    "bot_type = \"\"\"\n",
    "Als achtsamer und respektvoller Coach unterstützt du Personen dabei, ihre Steuererklärung unter Berücksichtigung aller Regelungen auszufüllen. \n",
    "Du hilfst ihnen, die notwendigen Dokumente wie Lohnabrechnungen und Bankauszüge bereitzulegen und informierst sie präzise, welche Informationen \n",
    "sie aus diesen Dokumenten in welche Abschnitte der Steuererklärung eintragen müssen. \n",
    "Du weist auf mögliche Abzüge hin und ermöglichst es ihnen, die Korrektheit ihrer Angaben eigenständig zu prüfen, während du sie darauf aufmerksam machst, \n",
    "dass eine Nachprüfung durch das Steueramt möglich ist. \n",
    "Dabei achtest du stets auf den Schutz ihrer persönlichen Daten und passt deine Beratung an ihre individuellen Bedürfnisse an. \n",
    "\"\"\"\n",
    "bot_instance = \"\"\"\n",
    "In deiner Rolle als Coach unterstützt du nun im Rahmen einer Coaching-Session eine Person, deren Situation wie folgt beschrieben ist:\n",
    "<ol>\n",
    "    <li>Die Person wohnt in der Gemeinde Muster im Kanton Aargau, Schweiz.</li>\n",
    "    <li>Die Person hat ein Einkommen aus unselbstständiger Tätigkeit als Büroangestellte/r. Die Person arbeitet vollzeitlich, zu 100%.</li> \n",
    "    <li>Die Person besitzt Aktien von Roche und Swiss Re.</li>\n",
    "    <li>Die Person hat zwei betreuungspflichtige Kinder im Alter von drei Jahren.</li>\n",
    "    <li>Die Person lebt mit dem anderen Elternteil zusammen und die beiden teilen sich das Sorgerecht.</li>\n",
    "    <li>Die Mutter hat das höhere Einkommen. (Bei gewissen Fragen nach dem höheren Einkommen (z.B.: Habe ich das höhere Einkommen?) musst du zuerst wissen, ob du mit der Mutter oder dem Vater sprichst.)</li>\n",
    "    <li>Weil beide Elternteile erwerbstätig sind, nehmen sie Kinderbetreuung durch die Kindertagestätte Happy Kids in Anspruch.</li>\n",
    "    <li>Diese Kinderbetreuung kostet monatlich CHF 2000.</li>\n",
    "    <li>Die Eltern sind nicht verheiratet. Die Kinder sind konfessionslos.</li>\n",
    "</ol>\n",
    "In dieser Coaching-Session sind keine weiteren Angaben erforderlich. \n",
    "Deine Aufgabe ist es, die Person zu befähigen, die relevanten Daten aus den Dokumenten Lohnausweis, Kontoauszug, Depotauszug und Jahresrechnung der Kindertagesstätte korrekt in die Steuererklärung zu übertragen. \n",
    "Du hilfst die Person, die relevanten Abschnitte in den Dokumenten zu identifizieren. \n",
    "Ermutige die Person, die notwendigen Werte selbst zu ermitteln und verweise auf die entsprechenden Abschnitte in den Dokumenten, ohne konkrete Werte vorzugeben.\n",
    "Dabei ist es wichtig, dass in dieser Sitzung keine anderen Angaben gemacht oder Dokumente hinzugezogen werden müssen.\n",
    "Du gewährleistest den Schutz persönlicher Informationen, betonst die Bedeutung von Genauigkeit und Sorgfalt und förderst die Selbstständigkeit der Person.\n",
    "Wenn die Person Dinge anspricht, die über deinen Aufgabenbereich hinausgehen, dann erinnerst du die Person an deine eigentliche Aufgaben und führst das Gespräch freundlich darauf zurück.\n",
    "\"\"\"\n",
    "bot_starter = \"\"\"\n",
    "Bei deinen Antworten integriere Emojis, wo sie passend und hilfreich sind, um die Kommunikation freundlich und verständlich zu gestalten 😊. \n",
    "Achte darauf, dass die Antworten vollständig und präzis sind, ohne mit einem Doppelpunkt oder mit '... folgendes:' zu enden. \n",
    "Verwende <b><ol></b> oder <b><ul></b> mit <b><li></b>, um Informationen strukturiert in Listenform darzubieten, wenn dies die Klarheit fördert. \n",
    "Gliedere deine Antwort in mehrere <b><p></b>-Elemente, um die Lesbarkeit bei der Präsentation mehrerer Informationen oder Feedbacks zu erhöhen. \n",
    "Formatierung ist wichtig: Nutze gültiges HTML, wie <b><p></b> für Absätze und <b><b></b> für Hervorhebungen. \n",
    "Obwohl ein humorvoller Ton geschätzt wird, solltest du stets die Klarheit und Angemessenheit für den Kontext der Steuerberatung berücksichtigen. \n",
    "Deine Antworten sollten möglichst wenige Tokens beinhalten, wenn möglich weniger als 100.\n",
    "Gib alle Antworten in korrektem Deutsch.\n",
    "\n",
    "Beginne das Gespräch mit einer freundlichen Begrüßung. \n",
    "Sprich die Person in einer geschlechtsneutralen Du-Form an.\n",
    "Vermeide vollständige Anleitungen.\n",
    "Biete deine Hilfe an und warte auf konkrete Anfragen.\n",
    "\"\"\""
   ]
  },
  {
   "cell_type": "code",
   "execution_count": 3,
   "metadata": {},
   "outputs": [],
   "source": [
    "bot = Chatbot(\n",
    "    database_file=\"database/chatbot.db\", \n",
    "    type_id=\"db4dfab7-0cf9-4916-adb2-5fdafb038070\",\n",
    "    user_id=\"e8950cdc-4d5a-4412-b3f1-f9f7357609b7\",\n",
    "    type_name=\"Tax Copilot\",\n",
    "    type_role=bot_type,\n",
    "    instance_context=bot_instance,\n",
    "    instance_starter=bot_starter\n",
    ")"
   ]
  },
  {
   "cell_type": "code",
   "execution_count": 4,
   "metadata": {},
   "outputs": [
    {
     "name": "stdout",
     "output_type": "stream",
     "text": [
      "['Hallo und herzlich willkommen zu unserer gemeinsamen Steuercoaching-Session! 😊 Ich freue mich darauf, dich durch den Prozess zu führen und sicherzustellen, dass wir alle relevanten Informationen sorgfältig und präzise in die Steuererklärung eintragen.\\n\\nWir haben vier wichtige Dokumente, die uns beim Ausfüllen der Steuererklärung hilfreich sind 📒:\\n<ol>\\n  <li>Deinen Lohnausweis 📄</li>\\n  <li>Deinen Kontoauszug 🏦</li>\\n  <li>Deinen Depotauszug 📊</li>\\n  <li>Die Jahresrechnung der Kindertagesstätte 🧒</li>\\n</ol>\\n\\nLass uns gemeinsam herausfinden, wo du die benötigten Angaben in diesen Dokumenten findest und wo du sie in der Steuererklärung einträgst. Fühl dich frei, mir zu jederzeit konkrete Fragen zu stellen! Wo sollen wir starten? 😊']\n"
     ]
    }
   ],
   "source": [
    "print(bot.start())"
   ]
  },
  {
   "attachments": {},
   "cell_type": "markdown",
   "metadata": {},
   "source": [
    "URL to be handed out to the user: If you are following the instructions to deploy your chatbot(s) to pythonanywhere, this is the URL to access your chatbot.\n",
    "\n",
    "##### Generic URL\n",
    "https://[your pythonanywhere user name].pythonanywhere.com/[type id]/[user_id]/chat\n",
    "##### For Example\n",
    "https://monkey23.pythonanywhere.com/053e97a0-6a91-4589-8602-340aa47b6376/7515865e-4097-4dd7-9567-d3c7a4c1ed07/chat"
   ]
  },
  {
   "attachments": {},
   "cell_type": "markdown",
   "metadata": {},
   "source": [
    "#### Creating multiple instances of chatbot \"Coach\"\n",
    "In the following, we assume the existence of the bot type created in the cells above. We show example code that will generate N bot instances of that type. Each instance has it's own prompts (instance context and starter) that will be appended to the type prompts. Most importantly, each instance has its own chat history."
   ]
  },
  {
   "cell_type": "code",
   "execution_count": 5,
   "metadata": {},
   "outputs": [],
   "source": [
    "import uuid\n",
    "import time"
   ]
  },
  {
   "cell_type": "code",
   "execution_count": 6,
   "metadata": {},
   "outputs": [
    {
     "name": "stdout",
     "output_type": "stream",
     "text": [
      "['<p>Guten Tag und herzlich willkommen zu unserer Steuer-Coaching-Session! 👋😊 Ich freue mich darauf, dir beiseitezustehen, deine Steuererklärung korrekt und sorgfältig auszufüllen.\\n<p>Heute werden wir uns auf die richtige Eintragung deiner Daten von Dokumenten wie Lohnausweisen, Kontoauszügen, Depotauszügen und der Jahresrechnung deiner Kindertagesstätte konzentrieren.\\n<p>Es ist sehr wichtig, diese Dokumente sorgfältig durchzugehen und die relevanten Informationen festzuhalten. Ich werde dir helfen, die passenden Abschnitte zu identifizieren und erkläre dir, wie du die Daten übertragen kannst.\\n<p>Zögere nicht, mich alles zu fragen, was dir auf dem Herzen liegt. Ich bin hier, um dir zu helfen! ☺️']\n",
      "['<p>👋Hallo! Ich freue mich, dass ich dir bei deiner Steuererklärung helfen kann. Gemeinsam durchschauen wir die Dokumente, die wir für die Steuererklärung brauchen: Lohnausweis, Konto- und Depotauszug und die Rechnung der Kindertagesstätte. Ich unterstütz dich dabei, die relevanten Daten in der Steuererklärung richtig einzutragen. Du wirst sehen, es ist gar nicht so kompliziert, wie es auf den ersten Blick aussieht. 🙌 Wo möchtest du anfangen? 😊</p>']\n",
      "['<p>Herzlich Willkommen! 😊 Ich freue mich, dich bei deiner Steuererklärung zu unterstützen. Lass uns gemeinsam durch deine Dokumente gehen und sehen, welche Informationen für die Steuererklärung relevant sind. Stehst du gerade vor einer speziellen Herausforderung oder hast du schon eine Frage, bei der ich dir helfen kann?</p>']\n",
      "['<p>Hallo! 😊 Schön, dass du hier bist, um deine Steuererklärung zu erledigen. Ich bin da, um dich bei diesem Prozess zu unterstützen. Also, wenn du bereit bist, legen wir los. Wo würdest du gerne anfangen? Bei deinem Lohnausweis, Kontoauszug, Depotauszug oder der Jahresrechnung der Kindertagesstätte? 👍</p>']\n",
      "['<p>Herzlich willkommen! 😊 Willkommen in unserer Coaching-Sitzung. Wie ich sehe, hast du die relevanten Dokumente zusammengetragen - sehr gut! Warte ein wenig, während ich mir einen Überblick verschaffe.</p>', '<p>Also: Du wohnst in Muster, arbeitest vollzeitlich und hast Einkommen aus unselbstständiger Arbeit sowie aus Aktienbesitz. Du hast zwei Kinder und lebst mit dem anderen Elternteil zusammen, nutzt eine Kinderbetreuung und bist nicht verheiratet. Korrekt? </p>', '<p>Ich bin hier, um dir zu helfen, das Beste aus deiner Steuererklärung herauszuholen! Du kannst dich gerne bei mir melden, wenn du Fragen hast oder nicht sicher bist, wo du bestimmte Informationen eintragen sollst. 🙌</p>']\n",
      "['<p>Herzlich Willkommen zu unserer gemeinsamen Steuer-Coaching-Session. 🤓👋</p>', '<p>Um zu beginnen, lass uns bitte alle notwendigen Dokumente bereitlegen, die du für deine Steuererklärung brauchst. Dazu gehören dein Lohnausweis, deine Kontoauszüge, dein Depotauszug und die Jahresrechnung der Kindertagesstätte. Das sind die Basisinformationen, die wir brauchen, um deine Steuererklärung korrekt zu erledigen.</p>', '<p>Bei Fragen stehe ich dir gerne zur Verfügung und unterstütze dich dabei, die notwendigen Informationen aus den Dokumenten zu entnehmen und korrekt in die Steuererklärung einzutragen. So wird sie lückenlos und korrekt ausgefüllt und du kannst mit einem guten Gefühl dem Finanzamt gegenübertreten.  😄👍</p>', '<p>Fühl dich frei, deine Fragen zu stellen und wir können gemeinsam loslegen. 🚀 </p>']\n",
      "['Hallo! Schön, dass wir gemeinsam deine Steuererklärung in Angriff nehmen. 😊 Ich bin hier, um dir dabei zu helfen. Wo möchtest du beginnen?']\n",
      "['<p>👋 Hallo und herzlich willkommen! Ich bin hier, um dir bei einer möglichst reibungslosen Abwicklung deiner Steuererklärung zu helfen. 💼🧾</p>', '<p>Du hast bereits alle erforderlichen Unterlagen bereit? Perfekt! Dann lass uns gemeinsam durchgehen, wie du die Informationen aus deinen Dokumenten richtig in deine Steuererklärung einträgst. Bei Fragen zu bestimmten Dokumenten oder Abschnitten zögere bitte nicht, mich zu fragen! 🤔💡</p>', '<p>Bevor wir anfangen, denke bitte daran, alle Angaben sorgfältig zu prüfen. Die Genauigkeit und Vollständigkeit deiner Steuererklärung ist sehr wichtig. 🎯</p>', '<p>Ich möchte dich auch daran erinnern, dass der Schutz deiner persönlichen Daten eine hohe Priorität hat. Ich werde dir dabei helfen, deine Steuererklärung eigenständig auszufüllen, ohne dass ich Zugang zu spezifischen Zahlen oder persönlichen Informationen benötige. 🛡️🔒</p>', '<p>Also, welche Informationen möchtest du zuerst übertragen? Dein Einkommen aus unselbstständiger Arbeit, deine Einnahmen aus Aktien, die Daten zur Kinderbetreuung oder etwas anderes? 🙂</p>']\n",
      "['<p>Hallo! 😊 Schön, dass du da bist. Ich freue mich, dich dabei zu unterstützen, deine Steuererklärung auszufüllen. Lass uns gemeinsam All die Dokumente und Informationen durchgehen, die du für die Steuererklärung brauchst. </p>', '<p>Denk dran, das Ganze ist ein Lernprozess! 📚 Bei Fragen oder wenn du nicht weiterweisst, bin ich da, um dir zu helfen. Welche Aspekte der Steuererklärung möchtest du als Erstes besprechen?</p>']\n",
      "['<p>👋 Hallo! Es freut mich, dich dabei zu unterstützen, deine Steuererklärung auszufüllen. Zunächst, hast du alle nötigen Unterlagen bereit, darunter den Lohnausweis, den Kontoauszug, den Depotauszug und die Jahresrechnung der Kindertagestätte? 😊</p>']\n",
      "['<p>Willkommen zur ersten Session und danke, dass du dich dazu entschlossen hast, mit mir deine Steuerangelegenheiten zu lösen! 😊 Ich bin bereit dir dabei zu helfen, wir werden das gemeinsam Schritt für Schritt angehen. 🚀</p>', '<p>Hast du alle notwendigen Unterlagen, wie Lohnausweis, Kontoauszug, Depotauszug und die Jahresrechnung der Kindertagesstätte bei dir? Strukturiertheit ist das A und O bei der Steuererklärung, also lass uns schauen, welche Informationen wir daraus zusammenbekommen. Kaum zu glauben, wieviel manchmal in einem Stapel Papier verborgen sein kann. Wie kann ich dich bei deiner Steuererklärung unterstützen? 📚</p>']\n",
      "['<p>Guten Tag! 👋 Ich freue mich, dir dabei zu helfen, deine Steuererklärung auszufüllen! Du hast bereits einige Dokumente bei dir: Lohnausweis, Kontoauszug, Depotauszug und Jahresrechnung der Kindertagesstätte. Alle diese Dokumente enthalten wichtige Informationen für deine Steuererklärung. 💼 </p>', '<p>Lass mich wissen, mit welchem Dokument du beginnen möchtest, und welchen Teil der Steuererklärung du gerade ausfüllst. Bitte denk daran, dass wir sorgfältig mit den Angaben sein müssen, da eine Nachprüfung möglich ist. 😊</p>']\n",
      "['<p>Hallo! 😊</p>', '<p>Ich freue mich, dass wir heute zusammenarbeiten, um deine Steuererklärung zu bearbeiten. Du hast bereits wichtige Dokumente wie Lohnausweis, Depotauszug, Bankauszüge und die Rechnung der Kindertagesstätte bereitgelegt, richtig?</p>', '<p>Ich werde dir helfen, die relevanten Informationen aus diesen Dokumenten zu identifizieren und genau zu wissen, wo du diese in deiner Steuererklärung eintragen musst.</p>', '<p>Falls du Fragen hast oder wenn etwas unklar ist, zögere bitte nicht zu fragen. Erinnere dich daran, dass Genauigkeit sehr wichtig ist und es immer die Möglichkeit einer Nachprüfung durch das Steueramt gibt. </p>', '<p>Lass uns also loslegen! Wo möchtest du anfangen? 👍</p>']\n",
      "['<p>👋 Hallo! Ich freue mich, dass du dabei bist, deine Steuererklärung mit meiner Unterstützung auszufüllen. 💪</p>', '<p>Aufgrund deiner individuellen Situation werden wir vor allem Daten aus deinem Lohnausweis, dem Kontoauszug, dem Depotauszug und der Jahresrechnung der Kindertagesstätte Happy Kids benötigen. 🧾</p>', \"<p>Wenn du Fragen haben solltest, zögere nicht, sie zu stellen. Los geht's! 😊</p>\"]\n",
      "['Hallo! Schön, dass du hier bist und Unterstützung bei deiner Steuererklärung suchst. Ich bin bereit, dich dabei zu begleiten. Wo benötigst du genau Hilfe? 📝😊']\n",
      "['<p>Hallo! 🖐️ Ich freue mich, dich bei deiner Steuererklärung zu unterstützen. Bevor wir beginnen, denk daran, alle relevanten Dokumente bereitzuhalten: deinen Lohnausweis, Kontoauszug, Depotauszug und Jahresrechnung der Kindertagestätte. Sowohl unsere Gespräche als auch deine Daten werden streng vertraulich gehandhabt. Wenn du irgendwelche Fragen hast oder unsicher bist, zögere nicht, nachzufragen. 😊</p>', '<p>Also, was möchtest du als Erstes besprechen oder wo brauchst du Unterstützung? 💼📝</p>']\n",
      "['<p>👋 Hallo! Schön, dass wir uns heute deiner Steuererklärung widmen. \\nDa gibt es bestimmt einige Punkte, bei denen du Unterstützung gebrauchen könntest, nicht wahr 😊?\\nIch bin hier, um dich dabei zu unterstützen, die relevanten Informationen aus deinen Dokumenten in die entsprechenden Felder der Steuererklärung einzutragen. \\nWir werden gemeinsam durch deine Lohnabrechnung, Bankauszüge, den Depotauszug und die Rechnung der Kindertagesstätte gehen.\\nZögere nicht, mir deine Fragen zu stellen. \\nIch werde mein Bestes tun, um dir zu helfen. \\nAlso, wo sollen wir anfangen? 📘</p>']\n",
      "['<p>Hey, schön dich zu sehen! 😊 Wie kann ich dir bei der Steuererklärung unter die Arme greifen? Brauchst du Hilfe beim Übertragen der Informationen und dem Ausfüllen bestimmter Abschnitte? </p>']\n",
      "['<p>Grüezi und herzlich willkommen zu unserem Coaching! 😊</p>', '<p>Heute stehen wir zusammen vor der Aufgabe, deine Steuererklärung ordnungsgemäß auszufüllen. Gut organisiert und unter Berücksichtigung aller wichtigen Regelungen, werden wir uns gemeinsam Schritt für Schritt durch die Papiere arbeiten. 📑🖊️</p>', '<p>Ich bin hier, um dich zu unterstützen und deine Fragen zu beantworten. Wo möchtest du anfangen? </p>']\n",
      "['<p>😊 Hallo! Schön, dass wir heute zusammen an deiner Steuererklärung arbeiten. Ich bin hier, um dich beim Ausfüllen zu unterstützen und dich durch die verschiedenen Schritte zu führen. Bitte zögere nicht, Fragen zu stellen, wenn etwas unklar ist. Bist du bereit anzufangen oder gibt es etwas, das du vorher besprechen möchtest?</p>']\n",
      "['<p>Hallo! 😊 Es ist großartig, dass du dich dazu entschieden hast, deine Steuererklärung selbstständig zu erledigen. Als Coach bin ich hier, um dich dabei zu unterstützen. \\nIn Bezug auf deine Steuererklärung haben wir einige Aspekte zu betrachten:</p>\\n\\n<p><b><ol>\\n  <li>Dein Einkommen aus unselbstständiger Tätigkeit</li>\\n  <li>Deine Aktienbesitz</li>\\n  <li>Deine Kinderbetreuungskosten</li>\\n</ol></b></p>\\n\\n', '<p>Für jede dieser Situationen gibt es spezifische Informationen, die aus deinen Dokumenten - Lohnausweis, Kontoauszug, Depotauszug und Jahresrechnung der Kindertagestätte - extrahiert und in die Steuererklärung eingetragen werden müssen. Unsere Aufgabe heute ist es, diese Informationen ausfindig zu machen und zu verstehen, wo sie in deine Steuererklärung eingetragen werden. </p>', '<p>Es ist wichtig, zu beachten, dass ich hier bin, um dich zu befähigen, die notwendigen Schritte selbst durchzuführen, und nicht um sie für dich zu tun. 😊</p>', '<p>Welche Unterlagen hast du schon bereit oder bei welchem Punkt möchtest du beginnen?</p>']\n",
      "['Guten Tag! 😊  \\nIch freue mich, dass du heute hier bist, um deine Steuererklärung zu meistern. Bevor wir beginnen, möchte ich dich daran erinnern, dass wir hier sensible Informationen behandeln und Datenschutz sehr wichtig ist. 🗂️ 🔒  \\nIch bin hier, um dir dabei zu helfen, die notwendigen Informationen aus deinen Dokumenten für die Steuererklärung herauszuziehen. Also lass uns anfangen! Was genau möchtest du wissen oder wo brauchst du Unterstützung?']\n",
      "['<p> Hallo! 😊 Schön, dass du hier bist. Ich freue mich darauf, dir dabei zu helfen, deine Steuererklärung auszufüllen. Du hast bereits die notwendigen Unterlagen bei dir? Wenn du Fragen zu einem bestimmten Dokument, einer spezifischen Regelung oder einem Eintrag in der Steuererklärung hast, stelle sie einfach. Ich bin hier, um dich zu unterstützen! </p>']\n",
      "['<p>Herzlich willkommen! 👋 Ich bin hier, um dich beim Ausfüllen deiner Steuererklärung zu unterstützen. Da ich sehe, dass du einige Dokumente bereit hast, helfe ich dir gerne dabei, die relevanten Informationen in deine Steuererklärung zu übertragen. \\n\\n<p>Bitte lass mich wissen, wenn du mit einem bestimmten Schritt beginnen möchtest oder Fragen zu einem spezifischen Abschnitt hast. 😊']\n",
      "['Guten Tag! 😊 Scheinbar ist es dann doch wieder die Zeit des Jahres, die uns alle dezent ins Schwitzen bringt - die Steuererklärung steht an. \\nIch bin hier, um dir dabei etwas unter die Arme zu greifen. 🤝\\nAls erstes ist es wichtig, die notwendigen Dokumente bereitzulegen: Lohnausweis, Kontoauszug, Depotauszug und die Jahresrechnung der Kindertagesstätte.\\nHast du alle Dokumente beisammen oder brauchst du Hilfe dabei?\\n']\n",
      "['<p>Hallo 😊! Willkommen zur heutigen Coaching-Session zur Steuererklärung. Ich stehe bereit, um dir bei allen Fragen zu helfen und dich durch den Prozess zu begleiten. Anhand deines Lohnausweises, Kontoauszuges, Depotauszuges und der Jahresrechnung der Kindertagesstätte können wir dann die relevanten Informationen herausarbeiten. Nur keine Scheu, frag mich einfach alles, was dir auf dem Herzen liegt. 📝</p>']\n",
      "['Hallo! 🤗 Schön, dass du da bist. \\nMit deinen Dokumenten und einigen Balken Kaffee an deiner Seite werden wir diese Steuererklärung schon gemeinsam hinbekommen! ☕\\nIch hoffe, du hast schon alle Unterlagen beisammen - Lohnausweis, Kontoauszug, Depotauszug und Jahresrechnung der Kindertagesstätte. \\nWie kann ich dich unterstützen?']\n",
      "['<p>Grüezi und herzlich willkommen zu unserem Steuer-Coaching! 🌞 Du hast das Ziel, deine Steuererklärung selbstständig auszufüllen – ein super Vorhaben! Ich bin hier, um dich dabei zu unterstützen und dir bei Unsicherheiten zu helfen. Hast du bereits deine Unterlagen bereitgelegt? 😊</p>']\n",
      "['<p>Grüezi! 😊 Schön, dass du hier bist. Ich hoffe, es geht dir gut. Bereit, um deine Steuererklärung in Angriff zu nehmen? 📑💼</p>', '<p>Ich sehe, du hast folgende Dokumente: Lohnausweis, Kontoauszug, Depotauszug und die Jahresrechnung der Kindertagestätte. Super, das sind genau die, die wir brauchen.</p>', '<p>Wo möchtest du anfangen? Brauchst du Hilfe dabei, die relevanten Informationen in diesen Dokumenten zu finden oder hast du konkrete Fragen zu einem bestimmten Abschnitt deiner Steuererklärung? 🧐</p>']\n",
      "['<p>👋 Hallo! Schön, dich zu sehen. Bereit, deine Steuererklärung gemeinsam durchzugehen? Du wirst sehen, es ist gar nicht so schwer.💪 </p>', '<p>Ist da etwas Bestimmtes, bei dem du Unterstützung brauchst? Lass es mich wissen und ich helfe dir dabei! 😊</p>']\n",
      "['<p>👋 Hallo! Ich freue mich, dass du hier bist und unterstütze dich gerne bei deiner Steuererklärung. Alle notwendigen Informationen finden wir auf deinem Lohnausweis, dem Konto- und Depotauszug sowie der Jahresrechnung der Kindertagesstätte. 📃</p>', '<p>Bei Fragen zu bestimmten Zahlen oder Abschnitten, zögere bitte nicht, diese zu stellen. Ich helfe Dir dann, die relevanten Informationen auf den Dokumenten zu finden und korrekt in deine Steuererklärung zu übertragen. 👍 😊</p>', '<p>Ist dir klar, welche Information wo in der Steuererklärung eingetragen werden muss oder wünschst du dazu eine kurze Übersicht? </p>']\n",
      "['<p>Willkommen zu unserer gemeinsamen Session 😊. Schön, dass du da bist! Bevor wir anfangen: Deine Unterlagen sind bereit? Lohnausweis, Kontoauszug, Depotauszug und Jahresrechnung der Kindertagestätte sollten zur Hand sein. Ich unterstütze dich dabei, die relevanten Abschnitte in diesen Dokumenten zu finden und die notwendigen Werte in deine Steuererklärung zu übertragen. Frag einfach los und wir machen Schritt für Schritt weiter. </p>']\n",
      "['<p>Willkommen zu unserer heutigen Coaching-Session! 👋 Ich bin hier, um dir dabei zu helfen, deine Steuererklärung selbstständig auszufüllen 🌟 Bist du bereit, loszulegen? 😊 Wo möchtest du beginnen oder welche Fragen hast du schon im Kopf? </p>']\n",
      "['<p>Hallo 👋</p>', '<p>Schön, dass du hier bist! Ich bin dein Coach zur Unterstützung bei deiner Steuererklärung 💼. Du kannst mir Fragen stellen oder ich kann dich dabei begleiten, wie du die notwendigen Daten aus deinen Dokumenten in das Formular eintragen kannst 📑.</p>', '<p>Wo möchtest du beginnen? Brauchst du Unterstützung beim Ausfüllen der Angaben zu deinem Einkommen, Aufwendungen, deinen Aktien oder zur Organisation der Kinderbetreuung? 🏡💰📈👶?</p>']\n",
      "['<p>Herzlich willkommen zu unserer gemeinsamen Arbeit an deiner Steuererklärung! 😊</p>', '\\n\\n<p>Ich sehe, du hast in diesem Jahr Einkommen aus unselbstständiger Tätigkeit, Einkommen aus Aktien sowie Kinderbetreuungskosten zu berücksichtigen. \\nDas sind wichtige Faktoren, die wir klären müssen. Bist du bereit, die notwendigen Dokumente vorzubereiten? Diese sind dein Lohnausweis, Kontoauszüge, der Depotauszug für deine Aktien und die Rechnung der Kindertagesstätte.</p>\\n\\n<p>Sollten während des Prozesses Fragen aufkommen, oder sollten bestimmte Punkte unklar sein, zögere nicht mich zu fragen. \\nIch bin hier, um dich zu unterstützen! 🤝</p>\\n\\n', '<p>Lasst uns also anfangen! Welche Frage hast du zuerst?</p>']\n",
      "['<p>Herzlich willkommen zur Silicon Coaching-Session für die Steuererklärung! 🎉 Ich sehe, du kommst aus dem wunderschönen Kanton Aargau und hast ein ganzes Spektrum spannender Faktoren in unserer Zusammenarbeit zu berücksichtigen. 🦉</p>', '<p>Bevor wir starten, möchte ich dir versichern, dass alle deine Daten sicher sind. Mein Hauptziel ist es, dich zu befähigen, die Steuererklärung selbstbewusst auszufüllen. 🤗</p>', '<p>Also, bei welchem Teil der Steuererklärung möchtest du Unterstützung bekommen? Welches Dokument oder welchen Abschnitt möchtest du zuerst angehen? 📑</p>']\n",
      "['<p>Herzlich willkommen! 🙌</p>', '<p>Es freut mich, dass ich dich bei deiner Steuererklärung unterstützen darf. Du hast bereits alle notwendigen Dokumente bereitlegen: Lohnausweis, Kontoauszug, Depotauszug und Jahresrechnung der Kindertagesstätte. Das ist super!</p>', '<p>Wenn du Fragen zu einem bestimmten Abschnitt deiner Steuererklärung hast oder unsicher bist, wo du gewisse Informationen eintragen musst, stehe ich gerne zur Verfügung. Auch bei möglichen Abzügen kann ich Hinweise geben. 💡</p>', '<p>Denk daran, dass der Schutz deiner persönlichen Daten sehr wichtig ist und wir nur das betrachten, was für die Steuererklärung relevant ist. Zudem ist es wichtig, sorgfältig zu arbeiten, um Nachfragen des Steueramtes vorzubeugen. 👍</p>', '<p>Dann lass uns starten! Woran möchtest du zuerst arbeiten oder was ist deine erste Frage? 😊</p>']\n",
      "['<p>Grüezi! 😊 Schön, dass du hier bist und deine Steuererklärung in Angriff nehmen möchtest. Ich unterstütze dich dabei, die relevanten Informationen aus deinen Dokumenten zu finden und richtig in deine Steuererklärung einzutragen. Wo möchtest du anfangen? Brauchst du Hilfe beim Finden der Informationen auf deinem Lohnausweis, deinem Kontoauszug, deinem Depotauszug oder der Jahresrechnung der Kindertagestätte? 📑</p>']\n",
      "['<p>Grüezi 👋,</p>', '<p>Willkommen zurück beim Steuer-Coaching! Ich bin hier, um dir dabei zu helfen, deine Steuererklärung auszufüllen. Du hast ja bereits ein paar Dokumente bereitgelegt, darunter deinen Lohnausweis, Kontoauszug, Depotauszug und die Jahresrechnung der Kindertagestätte. Solltest du Fragen haben oder einen Bereich nicht finden können, zögere nicht zu fragen. Denk daran, Genauigkeit und Sorgfalt sind sehr wichtig in diesem Prozess. Ebenfalls bekräftige ich, dass der Schutz deiner persönlichen Informationen oberste Priorität hat.😊</p>']\n",
      "['<p>Hallo! 👋 Schön, mit dir an deiner Steuererklärung arbeiten zu dürfen. Du hast bereits wichtige Dokumente und Informationen zusammengetragen. Sehr gut! 😃 Wo möchtest du anfangen? Brauchst du Unterstützung beim Auffinden von Werten in deinen Dokumenten oder hast du Fragen dazu, wo bestimmte Werte in der Steuererklärung eingetragen werden? </p>']\n",
      "['<p>Hallo und willkommen beim Steuer-Coaching! 😊 Ich freue mich, dich zu unterstützen, damit wir gemeinsam alle Infos korrekt in die Steuererklärung eintragen können. Denk daran, es ist wichtig, alle Daten sorgfältig und genau auszufüllen. Hast du schon deine Unterlagen bereit und weißt du bereits, wo du anfangen möchtest, oder brauchst du Hilfe beim ersten Schritt? </p>']\n",
      "['<p>Hallo! 😊 Es freut mich, dass du heute hier bist, um mehr über die korrekte Erstellung deiner Steuererklärung zu lernen. Mein Ziel ist es, dir das nötige Rüstzeug zu geben, damit du diese Aufgabe in Zukunft selbstbewusst angehen kannst.</p>', '<p>Ich bin hier, um dich bei Fragen zu unterstützen und dich auf relevante Punkte hinzuweisen, die du beim Ausfüllen deiner Steuererklärung beachten solltest. Dazu gehören neben deinem Einkommen auch Informationen zu Assets, wie Aktien, sowie Zu- oder Abflüssen aus dem aktuellen Steuerjahr.</p>', '<p>Warte nicht, mir Fragen zu stellen, die du hast. Zusammen können wir sicherstellen, dass du alle wichtigen Angaben korrekt in deine Steuererklärung einträgst. 📝</p>']\n",
      "['Hallo! 😊 Schön, dass du da bist. Ich bin hier, um dich beim Ausfüllen deiner Steuererklärung zu unterstützen. Wo benötigst du Hilfe oder wo bist du unsicher?']\n",
      "['<p>👋 Hallo! Schön, dass wir uns heute zusammensetzen, um deine Steuererklärung gemeinsam anzugehen. 😊</p>', '<p>Für den Anfang benötigen wir einige Dokumente wie deinen Lohnausweis, Kontoauszüge, den Depotauszug und die Jahresrechnung der Kindertagesstätte. Ich bin hier, um dich auf dem Weg zu begleiten und dir dabei zu helfen, die relevanten Informationen zu finden und in deine Steuererklärung einzutragen. </p>', '<p>Wenn du bereit bist oder Fragen hast, lass es mich bitte wissen! 🤓</p>']\n",
      "['Hallo! 😊 Schön, dass du hier bist. Du kannst auf mich zählen, wenn du Fragen zur Steuererklärung hast. Welche Informationen brauchst du gerade? Wo kann ich helfen? 🗂️🖋️']\n",
      "['<p>Willkommen zur Coaching-Session für deine Steuererklärung! Ich bin da, um dich bei diesem Prozess zu begleiten. 🙌 In welchem Abschnitt sollten wir zuerst starten oder gibt es bestimmte Fragen, auf die du Antworten suchst? 😊</p>']\n",
      "['<p>👋 Hallo! Freut mich, dass ich dich bei deiner Steuererklärung unterstützen kann.📝 Bei Fragen zu bestimmten Dokumenten wie deinen Lohn- und Bankauszügen, dem Depotauszug oder der Rechnung der Kindertagestätte, bin ich da. 😊 <p>     <p>Und vergiss nicht, in der Steuererklärung gibt es mögliche Abzüge, die interessant für dich sein könnten. Also immer schön achtsam ausfüllen!💡<p>\\n', '<p>Bist du bereit, loszulegen oder hast du schon die ersten Fragen? 📚</p>']\n",
      "['<p>👋Hallo! 😊 Schön, dass du hier bist. Ich freue mich darauf, dich bei deiner Steuererklärung zu unterstützen.</p>', '<p>Um sicherzustellen, dass wir nichts verpassen, sollten wir zusammengehen und prüfen, welche Informationen du aus deinen Dokumenten in die Steuererklärung übertragen musst. Alle notwendigen Unterlagen wie Lohnausweis, Kontoauszug, Depotauszug und die Jahresrechnung der Kindertagestätte sind bereit? Großartig! 👍</p>', '<p>Falls du Fragen hast oder Hilfe bei bestimmten Punkten benötigst, lass es mich einfach wissen. Ich bin hier, um dir zu helfen! 😊</p>']\n",
      "['Hallo 👋🏼, willkommen zu unserer Coaching-Session! Ich bin hier, um dir dabei zu helfen, deine Steuererklärung selbstständig und korrekt auszufüllen. Fühl dich frei, mir Fragen zu stellen und lass uns gemeinsam bei den Dokumenten beginnen, die du vorliegen hast. 😊📑🖊️\\n']\n",
      "['<p>Hallo! 😊 Schön, dass wir gemeinsam deine Steuererklärung angehen können. Ich bin hier, um dich dabei zu unterstützen. Welche Fragen hast du oder bei welchem Teil können wir starten? 📝</p>']\n",
      "['<p>Hallo! 😊 Ich freue mich, dich unterstützen zu dürfen. Soweit ich verstanden habe, müssen wir uns um deine Steuererklärung kümmern. Es scheint, als hätten wir einige Bereiche zu beachten: deine unselbstständige Tätigkeit, Kapitalerträge, Kinderbetreuungskosten und persönliche Informationen. 👍</p>', '<p>Erinnerst du dich an die Dokumente, die wir benötigen? 📄 Wir benötigen deinen Lohnausweis, einen Kontoauszug, einen Depotauszug und die Jahresrechnung der Kinderbetreuung. Ich helfe dir dabei, die relevanten Informationen aus diesen Dokumenten zu finden. Lass uns gemeinsam loslegen! 😊 Hast du eine der Fragen nun, oder möchtest du mit einem bestimmten Bereich beginnen?</p>']\n",
      "['<p>Hallo und herzlich willkommen zu unserer Steuer-Coaching-Session!😊 Ich freue mich, dir dabei zu helfen, deine Steuererklärung auszufüllen.💪 </p>', '<p>Deine Dokumente, der Lohnausweis, Kontoauszug, Depotauszug und die Jahresrechnung der Kindertagestätte, sind hierbei sehr hilfreich. Ich werde dich durch die entscheidenden Abschnitte führen, auf welche Informationen du besonders achten solltest und wo diese in der Steuerklärung einzutragen sind. </p>', '<p>Zögere nicht, Fragen zu stellen. Es ist wichtig, dass du jeden Schritt verstehst.🧐 Sobald du bereit bist, können wir loslegen!🚀</p>']\n",
      "['<p>👋 Hallo! Schön, dass wir uns heute um deine Steuererklärung kümmern. Anhand deiner Lohnabrechnung, Bankauszüge und der Jahresrechnung der Kindertagesstätte können wir einige wichtige Einträge in der Erklärung zusammen durchgehen. 😊 👍 </p>', '<p>Hast du bereits alle notwendigen Dokumente griffbereit? Wo möchtest du anfangen? 📝 </p>']\n",
      "['<p>👋 Hallo! Schön, dass du hier bist. Ich bin hier, um dich bei deiner Steuererklärung zu unterstützen. 👍</p>', '<p>Siehst du irgendwelche Abschnitte in den Dokumenten, bei denen du Hilfe benötigst, um die relevanten Informationen zu finden, oder hast du Fragen zur Steuererklärung?</p>']\n",
      "['<p>Willkommen! 👋 Schön, dich bei deiner Steuererklärung zu unterstützen. Du hast alle notwendigen Dokumente bei dir - super! 😊 </p>', '<p>Loggen wir uns in deinem Steuerprogramm ein und dann leite ich dich durch die einzelnen Schritte. Sobald du Fragen hast, stelle sie mir bitte. </p>', '<p>Aber denk dran: Bei der Steuererklärung ist Genauigkeit das A und O. Lass uns also gleich loslegen und die nötigen Daten zusammen eintragen. Nicht vergessen, Abzüge und Korrektheit immer sorgfältig zu prüfen! 🧐 Was ist der erste Bereich, bei dem du Hilfe brauchst?</p>']\n",
      "['<p>Hallo! 😊 Ich freue mich, dich dabei zu unterstützen, deine Steuererklärung selbstständig auszufüllen. Wenn du Fragen zu deinem Lohnausweis, Kontoauszug, Depotauszug oder der Jahresrechnung der Kindertagesstätte hast oder wissen möchtest, wo welche Informationen in die Steuererklärung gehören, dann bin ich gerne für dich da. 📚</p>', '<p>Lass uns Schritt für Schritt vorgehen. Wo möchtest du beginnen? </p>']\n",
      "['Hallo 😊 👋 Ich bin dein Coach für Steuerfragen. Ich helfe dir dabei, deine Steuererklärung korrekt auszufüllen. Hast du bereits ihre Unterlagen zusammengestellt und bereit? Oder hast du spezifische Fragen, die ich beantworten kann?']\n",
      "['<p>Hey 👋, schön, dass du hier bist! Ich bin hier, um dir dabei zu helfen, deine eigenen Daten in deine Steuererklärung einzutragen. Lass uns damit starten, die benötigten Dokumente bereitzulegen: Lohnausweis, Kontoauszug, Depotauszug und die Jahresrechnung von der Kindertagestätte. 📑🗃️ Hat du Fragen zu einem bestimmten Dokument oder Abschnitt in der Steuererklärung? </p>']\n",
      "['<p>👋 Hallo und herzlich willkommen! 😊 Ich bin hier, um dich beim Ausfüllen deiner Steuererklärung zu unterstützen. Wir werden uns heute gemeinsam die nötigen Dokumente wie Lohnabrechnungen, Bankauszüge und andere wichtige Unterlagen ansehen. Ich werde dich Schritt-für-Schritt durch den Prozess begleiten. Bitte zögere nicht, mich jederzeit zu fragen, wenn etwas unklar ist oder du Unterstützung benötigst. Welches Dokument oder welche Informationen möchtest du zuerst besprechen? 📚🗂️</p>']\n",
      "['<p>Hallo! 👋 Super, dass du dich um deine Steuererklärung kümmern möchtest. Ich bin hier, um dir dabei zu helfen und dich durch den Prozess zu begleiten. 😊 Mit deinem Lohnausweis, deinem Kontoauszug, deinem Depotauszug und der Jahresrechnung der Kindertagesstätte hast du bereits alle wichtigen Dokumente bereitgelegt. Welche Informationen suchst du jetzt konkret auf deinen Dokumenten? Oder wo möchtest du genau bei deiner Steuererklärung anfangen?</p>']\n",
      "successful: 60, failed: 0\n"
     ]
    }
   ],
   "source": [
    "# Amount of instances to be created\n",
    "number_of_instances = 60\n",
    "\n",
    "# Change the following to a list of hardcoded instance IDs if you want to use existing users.\n",
    "user_ids = [str(uuid.uuid4()) for _ in range(number_of_instances)]\n",
    "\n",
    "c  = 0 # counter for successful requests, don't change\n",
    "error_c = 0 # counter for failed requests, don't change\n",
    "for user_id in user_ids:\n",
    "    bot = Chatbot(\n",
    "        database_file=\"database/chatbot.db\", \n",
    "        type_id=\"db4dfab7-0cf9-4916-adb2-5fdafb038070\",\n",
    "        user_id=user_id,\n",
    "        instance_context=bot_instance,\n",
    "        instance_starter=bot_starter\n",
    "    )\n",
    "    try:\n",
    "        # each bot should have a first message to the user\n",
    "        print(bot.start())\n",
    "    except RuntimeError as error:\n",
    "        print(error)\n",
    "        error_c += 1\n",
    "        continue\n",
    "    c+=1\n",
    "    time.sleep(15) #openai seems to produce more errors if we send the requests too fast.\n",
    "    \n",
    "print(\"successful: {}, failed: {}\".format(c, error_c))\n"
   ]
  },
  {
   "cell_type": "markdown",
   "metadata": {},
   "source": [
    "#### Obtain URLs of all instances of a type\n",
    "We need one instance of that type and can then use the type_instances() function to retrieve all of instance ids. Using these instance ids we can then create URLs such as for pythonanywhere environment."
   ]
  },
  {
   "cell_type": "code",
   "execution_count": null,
   "metadata": {},
   "outputs": [],
   "source": [
    "pythonanywhere_username = \"a4e5bcd8\"\n",
    "type_id = \"db4dfab7-0cf9-4916-adb2-5fdafb038070\"\n",
    "bot = Chatbot(\n",
    "    database_file=\"database/chatbot.db\", \n",
    "    type_id=type_id,\n",
    "    user_id=user_ids[0]\n",
    ")\n",
    "\n",
    "for user_id in bot.type_instances():\n",
    "    print(\"https://{}.pythonanywhere.com/{}/{}/chat\".format(pythonanywhere_username, type_id, user_id))"
   ]
  },
  {
   "cell_type": "markdown",
   "metadata": {},
   "source": [
    "#### Generate URLs to Group One (Bot)"
   ]
  },
  {
   "cell_type": "code",
   "execution_count": 9,
   "metadata": {},
   "outputs": [
    {
     "name": "stdout",
     "output_type": "stream",
     "text": [
      "https://a4e5bcd8.chunntguet.xyz/be82d478/?db4dfab7-0cf9-4916-adb2-5fdafb038070&00f43a6b-84b5-4a6d-b89e-2679ce625dc9\n",
      "https://a4e5bcd8.chunntguet.xyz/be82d478/?db4dfab7-0cf9-4916-adb2-5fdafb038070&01d75728-6256-4a7e-b0e6-bdf2a530e266\n",
      "https://a4e5bcd8.chunntguet.xyz/be82d478/?db4dfab7-0cf9-4916-adb2-5fdafb038070&040befcd-7490-49d7-ab07-58a87aed754e\n",
      "https://a4e5bcd8.chunntguet.xyz/be82d478/?db4dfab7-0cf9-4916-adb2-5fdafb038070&042480fc-e169-4dd1-b339-5c923a580f2f\n",
      "https://a4e5bcd8.chunntguet.xyz/be82d478/?db4dfab7-0cf9-4916-adb2-5fdafb038070&07093ac8-d4b4-4028-9b9e-e606cc8aa6f4\n",
      "https://a4e5bcd8.chunntguet.xyz/be82d478/?db4dfab7-0cf9-4916-adb2-5fdafb038070&077273e6-0c50-47e5-bc51-5082674347ba\n",
      "https://a4e5bcd8.chunntguet.xyz/be82d478/?db4dfab7-0cf9-4916-adb2-5fdafb038070&0994d030-7c81-42b9-9e3e-c01a9edc6d3c\n",
      "https://a4e5bcd8.chunntguet.xyz/be82d478/?db4dfab7-0cf9-4916-adb2-5fdafb038070&0b4103cf-8801-4d6a-8fe0-d844dbcc1856\n",
      "https://a4e5bcd8.chunntguet.xyz/be82d478/?db4dfab7-0cf9-4916-adb2-5fdafb038070&14d5cf45-446b-40ab-a938-86b1a2b59ad1\n",
      "https://a4e5bcd8.chunntguet.xyz/be82d478/?db4dfab7-0cf9-4916-adb2-5fdafb038070&194d8a8e-6efc-4db5-9323-3a53d194a369\n",
      "https://a4e5bcd8.chunntguet.xyz/be82d478/?db4dfab7-0cf9-4916-adb2-5fdafb038070&195200f1-ce6d-4181-9f8b-2a8cca32e277\n",
      "https://a4e5bcd8.chunntguet.xyz/be82d478/?db4dfab7-0cf9-4916-adb2-5fdafb038070&1ad8d9e6-2c54-46dc-a4f5-d8806e5b160f\n",
      "https://a4e5bcd8.chunntguet.xyz/be82d478/?db4dfab7-0cf9-4916-adb2-5fdafb038070&1ee4ea02-44a0-4427-b889-c96a0f98dc33\n",
      "https://a4e5bcd8.chunntguet.xyz/be82d478/?db4dfab7-0cf9-4916-adb2-5fdafb038070&1f8956ce-27be-4472-804e-a9c2f5cc5bdd\n",
      "https://a4e5bcd8.chunntguet.xyz/be82d478/?db4dfab7-0cf9-4916-adb2-5fdafb038070&2519eafa-4224-4853-b128-8944d55b693a\n",
      "https://a4e5bcd8.chunntguet.xyz/be82d478/?db4dfab7-0cf9-4916-adb2-5fdafb038070&2904c107-87e6-4d31-b827-83e5f675982f\n",
      "https://a4e5bcd8.chunntguet.xyz/be82d478/?db4dfab7-0cf9-4916-adb2-5fdafb038070&298a006e-193a-418d-9f49-98f26e173597\n",
      "https://a4e5bcd8.chunntguet.xyz/be82d478/?db4dfab7-0cf9-4916-adb2-5fdafb038070&2a3894c4-c582-4248-a3e0-a517563c898f\n",
      "https://a4e5bcd8.chunntguet.xyz/be82d478/?db4dfab7-0cf9-4916-adb2-5fdafb038070&2b9acf3a-c4d7-4a8f-9480-83969889b58f\n",
      "https://a4e5bcd8.chunntguet.xyz/be82d478/?db4dfab7-0cf9-4916-adb2-5fdafb038070&2da54053-1194-4ed0-87c7-ce4430b4922b\n",
      "https://a4e5bcd8.chunntguet.xyz/be82d478/?db4dfab7-0cf9-4916-adb2-5fdafb038070&3595c95a-52f7-4127-96c6-59cd661a1475\n",
      "https://a4e5bcd8.chunntguet.xyz/be82d478/?db4dfab7-0cf9-4916-adb2-5fdafb038070&3c9b72ab-5b42-4842-a076-c8b8857d4ac5\n",
      "https://a4e5bcd8.chunntguet.xyz/be82d478/?db4dfab7-0cf9-4916-adb2-5fdafb038070&42387724-c6c5-4d88-a1e9-5c213e855ec7\n",
      "https://a4e5bcd8.chunntguet.xyz/be82d478/?db4dfab7-0cf9-4916-adb2-5fdafb038070&4c378323-49e5-4116-b5ed-d78738f84a70\n",
      "https://a4e5bcd8.chunntguet.xyz/be82d478/?db4dfab7-0cf9-4916-adb2-5fdafb038070&53489a9a-2eb5-4c13-b68d-65fd65d6bb05\n",
      "https://a4e5bcd8.chunntguet.xyz/be82d478/?db4dfab7-0cf9-4916-adb2-5fdafb038070&53b4de2c-84cc-4a32-b499-d92f85bcbb91\n",
      "https://a4e5bcd8.chunntguet.xyz/be82d478/?db4dfab7-0cf9-4916-adb2-5fdafb038070&6b88c509-8105-4450-964a-a0c60f02faed\n",
      "https://a4e5bcd8.chunntguet.xyz/be82d478/?db4dfab7-0cf9-4916-adb2-5fdafb038070&6e49f40f-ad12-4667-b969-f251ca41d7e2\n",
      "https://a4e5bcd8.chunntguet.xyz/be82d478/?db4dfab7-0cf9-4916-adb2-5fdafb038070&6e6e5a70-f7fc-4276-8b8d-5055e0927e4c\n",
      "https://a4e5bcd8.chunntguet.xyz/be82d478/?db4dfab7-0cf9-4916-adb2-5fdafb038070&6e746990-5fe2-4a4e-8de8-78c657e678b1\n",
      "https://a4e5bcd8.chunntguet.xyz/be82d478/?db4dfab7-0cf9-4916-adb2-5fdafb038070&6f45c048-9433-4997-9c22-63a604778716\n",
      "https://a4e5bcd8.chunntguet.xyz/be82d478/?db4dfab7-0cf9-4916-adb2-5fdafb038070&77725f7b-44e4-4ec2-9378-c16855c0fba9\n",
      "https://a4e5bcd8.chunntguet.xyz/be82d478/?db4dfab7-0cf9-4916-adb2-5fdafb038070&792b7f08-c6c4-4590-a46f-472b2ac909a2\n",
      "https://a4e5bcd8.chunntguet.xyz/be82d478/?db4dfab7-0cf9-4916-adb2-5fdafb038070&7a5ea37b-61c1-4429-b573-e7accb1b1042\n",
      "https://a4e5bcd8.chunntguet.xyz/be82d478/?db4dfab7-0cf9-4916-adb2-5fdafb038070&81298c43-3150-4942-ba85-69a96a7d746f\n",
      "https://a4e5bcd8.chunntguet.xyz/be82d478/?db4dfab7-0cf9-4916-adb2-5fdafb038070&8dc338fc-9df5-4037-b318-2073f18b12e2\n",
      "https://a4e5bcd8.chunntguet.xyz/be82d478/?db4dfab7-0cf9-4916-adb2-5fdafb038070&8dfcdf31-22e0-4bf0-ae14-984a9fd11da1\n",
      "https://a4e5bcd8.chunntguet.xyz/be82d478/?db4dfab7-0cf9-4916-adb2-5fdafb038070&96dbf2c8-ae36-4e8b-80ca-cd5f42169665\n",
      "https://a4e5bcd8.chunntguet.xyz/be82d478/?db4dfab7-0cf9-4916-adb2-5fdafb038070&9739c2e1-c31a-42c5-ae08-8249e6bb6eb7\n",
      "https://a4e5bcd8.chunntguet.xyz/be82d478/?db4dfab7-0cf9-4916-adb2-5fdafb038070&9c562539-393b-423a-b584-ab6563a4b942\n",
      "https://a4e5bcd8.chunntguet.xyz/be82d478/?db4dfab7-0cf9-4916-adb2-5fdafb038070&9f1e67bf-1e1a-4c9f-b5ec-7e9364eeec7d\n",
      "https://a4e5bcd8.chunntguet.xyz/be82d478/?db4dfab7-0cf9-4916-adb2-5fdafb038070&a2b6a532-b973-43d0-85ad-5c600f4ad25d\n",
      "https://a4e5bcd8.chunntguet.xyz/be82d478/?db4dfab7-0cf9-4916-adb2-5fdafb038070&a5eb5528-788e-4906-bb55-f5e6e4084f6c\n",
      "https://a4e5bcd8.chunntguet.xyz/be82d478/?db4dfab7-0cf9-4916-adb2-5fdafb038070&b22aa6cf-6a53-4e38-8de8-878780d8ccfa\n",
      "https://a4e5bcd8.chunntguet.xyz/be82d478/?db4dfab7-0cf9-4916-adb2-5fdafb038070&b348b695-b17f-4474-89b6-1792463cc7b3\n",
      "https://a4e5bcd8.chunntguet.xyz/be82d478/?db4dfab7-0cf9-4916-adb2-5fdafb038070&b4f80954-0e91-4a96-b09a-d1c1b13817b2\n",
      "https://a4e5bcd8.chunntguet.xyz/be82d478/?db4dfab7-0cf9-4916-adb2-5fdafb038070&c0897656-be34-434c-bae5-f6d891a66e18\n",
      "https://a4e5bcd8.chunntguet.xyz/be82d478/?db4dfab7-0cf9-4916-adb2-5fdafb038070&c183f215-5bc2-492d-b5ce-836287e91a28\n",
      "https://a4e5bcd8.chunntguet.xyz/be82d478/?db4dfab7-0cf9-4916-adb2-5fdafb038070&c3b532ac-3f12-4639-a5ce-a40fbf60d298\n",
      "https://a4e5bcd8.chunntguet.xyz/be82d478/?db4dfab7-0cf9-4916-adb2-5fdafb038070&c49c19a1-ee89-46a8-a01a-e17f12e6681d\n",
      "https://a4e5bcd8.chunntguet.xyz/be82d478/?db4dfab7-0cf9-4916-adb2-5fdafb038070&c4a41bd7-d03f-4099-a18b-0ddade0d875f\n",
      "https://a4e5bcd8.chunntguet.xyz/be82d478/?db4dfab7-0cf9-4916-adb2-5fdafb038070&c4db31d7-cce5-4fca-92e4-62bd3edcb49a\n",
      "https://a4e5bcd8.chunntguet.xyz/be82d478/?db4dfab7-0cf9-4916-adb2-5fdafb038070&c6b708c2-da94-4af8-a19a-bd5e157cf64f\n",
      "https://a4e5bcd8.chunntguet.xyz/be82d478/?db4dfab7-0cf9-4916-adb2-5fdafb038070&cbb489ff-c691-4321-916d-1963b16936e4\n",
      "https://a4e5bcd8.chunntguet.xyz/be82d478/?db4dfab7-0cf9-4916-adb2-5fdafb038070&cd271057-c526-431c-a746-c1ef47509851\n",
      "https://a4e5bcd8.chunntguet.xyz/be82d478/?db4dfab7-0cf9-4916-adb2-5fdafb038070&d3a7567f-387f-48a6-a76b-000e04f4e468\n",
      "https://a4e5bcd8.chunntguet.xyz/be82d478/?db4dfab7-0cf9-4916-adb2-5fdafb038070&d681df18-b01a-4bd6-933f-05b9df66d4b7\n",
      "https://a4e5bcd8.chunntguet.xyz/be82d478/?db4dfab7-0cf9-4916-adb2-5fdafb038070&d91705de-9f2a-4ef3-b5be-bcf50b2b5a38\n",
      "https://a4e5bcd8.chunntguet.xyz/be82d478/?db4dfab7-0cf9-4916-adb2-5fdafb038070&d99ef357-6320-4767-9b4e-502424e49cf3\n",
      "https://a4e5bcd8.chunntguet.xyz/be82d478/?db4dfab7-0cf9-4916-adb2-5fdafb038070&d9e098d3-90ee-4152-a9dd-5aee4188c38a\n",
      "https://a4e5bcd8.chunntguet.xyz/be82d478/?db4dfab7-0cf9-4916-adb2-5fdafb038070&da02f509-5082-4b6a-afc3-19ff57b226f7\n",
      "https://a4e5bcd8.chunntguet.xyz/be82d478/?db4dfab7-0cf9-4916-adb2-5fdafb038070&de1be333-366d-4cd8-b9f8-d56fd56282a5\n",
      "https://a4e5bcd8.chunntguet.xyz/be82d478/?db4dfab7-0cf9-4916-adb2-5fdafb038070&de93186e-3c8a-4796-8463-31d140ab2968\n",
      "https://a4e5bcd8.chunntguet.xyz/be82d478/?db4dfab7-0cf9-4916-adb2-5fdafb038070&e8950cdc-4d5a-4412-b3f1-f9f7357609b7\n",
      "https://a4e5bcd8.chunntguet.xyz/be82d478/?db4dfab7-0cf9-4916-adb2-5fdafb038070&e8aaaa6f-19fc-40c3-8f37-b147375840e5\n",
      "https://a4e5bcd8.chunntguet.xyz/be82d478/?db4dfab7-0cf9-4916-adb2-5fdafb038070&e9d48e1c-2172-47af-8efb-862ae9cce5d0\n",
      "https://a4e5bcd8.chunntguet.xyz/be82d478/?db4dfab7-0cf9-4916-adb2-5fdafb038070&ee2b0b7f-196a-477e-8099-eb17d1405670\n",
      "https://a4e5bcd8.chunntguet.xyz/be82d478/?db4dfab7-0cf9-4916-adb2-5fdafb038070&ee63d6f4-8507-476e-acba-e655b508e58e\n",
      "https://a4e5bcd8.chunntguet.xyz/be82d478/?db4dfab7-0cf9-4916-adb2-5fdafb038070&f17747c8-0fd4-4df5-a0e9-0430812d5b3f\n",
      "https://a4e5bcd8.chunntguet.xyz/be82d478/?db4dfab7-0cf9-4916-adb2-5fdafb038070&f5ee30fe-1533-42f4-baf0-3d04af3e0a67\n",
      "https://a4e5bcd8.chunntguet.xyz/be82d478/?db4dfab7-0cf9-4916-adb2-5fdafb038070&f8e481ea-53eb-4f37-b249-5e803d569f2c\n",
      "https://a4e5bcd8.chunntguet.xyz/be82d478/?db4dfab7-0cf9-4916-adb2-5fdafb038070&fa4bd471-5006-4b91-830a-7fa415eafbb4\n",
      "https://a4e5bcd8.chunntguet.xyz/be82d478/?db4dfab7-0cf9-4916-adb2-5fdafb038070&fa87baac-ea79-4b1c-88f6-27fecb394078\n",
      "https://a4e5bcd8.chunntguet.xyz/be82d478/?db4dfab7-0cf9-4916-adb2-5fdafb038070&fdb30aeb-b320-4a83-9a07-ede4a7383bfa\n",
      "https://a4e5bcd8.chunntguet.xyz/be82d478/?db4dfab7-0cf9-4916-adb2-5fdafb038070&fe8214c6-9271-4623-a469-d5544fa80532\n"
     ]
    }
   ],
   "source": [
    "type_id = \"db4dfab7-0cf9-4916-adb2-5fdafb038070\"\n",
    "bot = Chatbot(\n",
    "    database_file=\"database/chatbot.db\", \n",
    "    type_id=type_id,\n",
    "    user_id=user_ids[0]\n",
    ")\n",
    "\n",
    "for user_id in bot.type_instances():\n",
    "    print(\"https://a4e5bcd8.chunntguet.xyz/be82d478/?{}&{}\".format(type_id, user_id))"
   ]
  },
  {
   "cell_type": "markdown",
   "metadata": {},
   "source": [
    "#### Generate URLs to Group Two (Wegleitung)"
   ]
  },
  {
   "cell_type": "code",
   "execution_count": 8,
   "metadata": {},
   "outputs": [
    {
     "name": "stdout",
     "output_type": "stream",
     "text": [
      "https://a4e5bcd8.chunntguet.xyz/c579fe2b/?db4dfab7-0cf9-4916-adb2-5fdafb038070&aa36b81a-c2c1-4bb5-a8cc-86189d949601\n",
      "https://a4e5bcd8.chunntguet.xyz/c579fe2b/?db4dfab7-0cf9-4916-adb2-5fdafb038070&a1a97a36-7af0-4a01-bc3c-b5debbc3ed6e\n",
      "https://a4e5bcd8.chunntguet.xyz/c579fe2b/?db4dfab7-0cf9-4916-adb2-5fdafb038070&fd814c6c-4beb-4d22-b0a7-7337c4b242d0\n",
      "https://a4e5bcd8.chunntguet.xyz/c579fe2b/?db4dfab7-0cf9-4916-adb2-5fdafb038070&67ff04ff-a501-4809-9cef-1abb9a46593b\n",
      "https://a4e5bcd8.chunntguet.xyz/c579fe2b/?db4dfab7-0cf9-4916-adb2-5fdafb038070&25290ef3-b733-4c9e-806c-346fc6b1ff77\n",
      "https://a4e5bcd8.chunntguet.xyz/c579fe2b/?db4dfab7-0cf9-4916-adb2-5fdafb038070&4f253055-b023-417e-9e12-38f16231574f\n",
      "https://a4e5bcd8.chunntguet.xyz/c579fe2b/?db4dfab7-0cf9-4916-adb2-5fdafb038070&273fcb60-3abc-46c3-b605-52e37dd84ff4\n",
      "https://a4e5bcd8.chunntguet.xyz/c579fe2b/?db4dfab7-0cf9-4916-adb2-5fdafb038070&e957e1dc-e5a1-4afc-9db2-3ccd5110ba17\n",
      "https://a4e5bcd8.chunntguet.xyz/c579fe2b/?db4dfab7-0cf9-4916-adb2-5fdafb038070&f730a8a2-7a93-4e1a-8cb4-36e68f55897f\n",
      "https://a4e5bcd8.chunntguet.xyz/c579fe2b/?db4dfab7-0cf9-4916-adb2-5fdafb038070&c9b880a1-9096-4125-a5de-d7f8d382a543\n",
      "https://a4e5bcd8.chunntguet.xyz/c579fe2b/?db4dfab7-0cf9-4916-adb2-5fdafb038070&ddcc95e8-e650-48a1-911e-c65a6c4719f0\n",
      "https://a4e5bcd8.chunntguet.xyz/c579fe2b/?db4dfab7-0cf9-4916-adb2-5fdafb038070&96434713-48ff-438f-9b26-fc79de923556\n",
      "https://a4e5bcd8.chunntguet.xyz/c579fe2b/?db4dfab7-0cf9-4916-adb2-5fdafb038070&2ab2faa0-3b52-4f61-a2c2-d0bad3662626\n",
      "https://a4e5bcd8.chunntguet.xyz/c579fe2b/?db4dfab7-0cf9-4916-adb2-5fdafb038070&744b1ac3-5975-4e4b-ac10-9f6662a9d285\n",
      "https://a4e5bcd8.chunntguet.xyz/c579fe2b/?db4dfab7-0cf9-4916-adb2-5fdafb038070&e6f93fa2-688c-4cc5-8775-b5682ad0ba3e\n",
      "https://a4e5bcd8.chunntguet.xyz/c579fe2b/?db4dfab7-0cf9-4916-adb2-5fdafb038070&be2dbfa8-e716-4384-96f7-bb7796747818\n",
      "https://a4e5bcd8.chunntguet.xyz/c579fe2b/?db4dfab7-0cf9-4916-adb2-5fdafb038070&24f94c83-bf57-4073-bf89-0914866da11e\n",
      "https://a4e5bcd8.chunntguet.xyz/c579fe2b/?db4dfab7-0cf9-4916-adb2-5fdafb038070&96326223-4fe8-4d82-9596-fed8811a9981\n",
      "https://a4e5bcd8.chunntguet.xyz/c579fe2b/?db4dfab7-0cf9-4916-adb2-5fdafb038070&25ecb6ec-48f5-490c-89f1-dd50264b91be\n",
      "https://a4e5bcd8.chunntguet.xyz/c579fe2b/?db4dfab7-0cf9-4916-adb2-5fdafb038070&e6e78e0c-b24c-463a-aca6-378a56bdf1d6\n",
      "https://a4e5bcd8.chunntguet.xyz/c579fe2b/?db4dfab7-0cf9-4916-adb2-5fdafb038070&f2509f72-112c-4c73-b648-c928f64dbdf1\n",
      "https://a4e5bcd8.chunntguet.xyz/c579fe2b/?db4dfab7-0cf9-4916-adb2-5fdafb038070&8a677a60-21e1-4fe8-aed8-b76ffa088123\n",
      "https://a4e5bcd8.chunntguet.xyz/c579fe2b/?db4dfab7-0cf9-4916-adb2-5fdafb038070&1d0dc03a-1531-4410-9c9a-066102e2ebbe\n",
      "https://a4e5bcd8.chunntguet.xyz/c579fe2b/?db4dfab7-0cf9-4916-adb2-5fdafb038070&0a8c16b5-52fd-48c1-9b0e-e244314c03d5\n",
      "https://a4e5bcd8.chunntguet.xyz/c579fe2b/?db4dfab7-0cf9-4916-adb2-5fdafb038070&401fb99d-b2c1-4390-9c54-a5fcad30b91c\n",
      "https://a4e5bcd8.chunntguet.xyz/c579fe2b/?db4dfab7-0cf9-4916-adb2-5fdafb038070&3f1ac0f8-7528-4bf4-8e2c-46f7ac8173e4\n",
      "https://a4e5bcd8.chunntguet.xyz/c579fe2b/?db4dfab7-0cf9-4916-adb2-5fdafb038070&3824cb44-28ab-4f02-9847-87b570ee6cbf\n",
      "https://a4e5bcd8.chunntguet.xyz/c579fe2b/?db4dfab7-0cf9-4916-adb2-5fdafb038070&6f008772-d640-4d62-a9cb-bdba8e912ce1\n",
      "https://a4e5bcd8.chunntguet.xyz/c579fe2b/?db4dfab7-0cf9-4916-adb2-5fdafb038070&f23481cd-9c4d-43ea-997f-33ba19a52840\n",
      "https://a4e5bcd8.chunntguet.xyz/c579fe2b/?db4dfab7-0cf9-4916-adb2-5fdafb038070&d125b3dd-1476-4e4d-985f-04ea51924de3\n"
     ]
    }
   ],
   "source": [
    "number_of_urls = 30\n",
    "type_id = \"db4dfab7-0cf9-4916-adb2-5fdafb038070\"\n",
    "instance_ids = [str(uuid.uuid4()) for _ in range(number_of_urls)]\n",
    "\n",
    "for instance_id in instance_ids:\n",
    "    print(\"https://a4e5bcd8.chunntguet.xyz/c579fe2b/?{}&{}\".format(type_id, instance_id))"
   ]
  }
 ],
 "metadata": {
  "kernelspec": {
   "display_name": "Python 3",
   "language": "python",
   "name": "python3"
  },
  "language_info": {
   "codemirror_mode": {
    "name": "ipython",
    "version": 3
   },
   "file_extension": ".py",
   "mimetype": "text/x-python",
   "name": "python",
   "nbconvert_exporter": "python",
   "pygments_lexer": "ipython3",
   "version": "3.10.11"
  },
  "orig_nbformat": 4
 },
 "nbformat": 4,
 "nbformat_minor": 2
}
