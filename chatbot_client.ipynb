{
 "cells": [
  {
   "attachments": {},
   "cell_type": "markdown",
   "metadata": {},
   "source": [
    "## An Object-Oriented Chatbot using GPT and a Database\n",
    "This allows multiple chatbot types (e.g. a health coach and a learning assistant) to be created. Multiple chatbot instances can be created per chatbot type (e.g. for User X and User Y). Both, type and instance are stored and referenced with an ID (e.g. with a UUID) in the database.\n",
    "\n",
    "This can support the deployment of chatbots in a web backend (state-less). For example, the UUIDs of the type and instance can be read as URL parameters from a URL that users have received from you.\n",
    "\n",
    "A chatbot is created with the following arguments.\n",
    "- database_file: File of SQLite (in Folder data/)\n",
    "- type_id: Reference to chatbot type\n",
    "- instance_id: Reference to chatbot instance (typically one per user - however, may also be shared by multiple users)\n",
    "- type_role: Role of chatbot type (will be turned into a first prompt with role:system)\n",
    "- instance_context: Context of chatbot instance (will be turned into a second prompt with role:system)\n",
    "- instance_starter: Will be used to generate an initial message to the user (will be turned into a final prompt with role:system)\n",
    "\n",
    "The following functions are meant to be used from an application (e.g. from controllers of a REST API).\n",
    "- conversation_retrieve(with_system=False): Retrieve the previous conversation history (default: without prompts with role:system)\n",
    "- starter(): Returns an initial message to the user (Resulting from instance_starter prompt)\n",
    "- response_for(user_says): Returns an assistance response to user_says"
   ]
  },
  {
   "cell_type": "code",
   "execution_count": 2,
   "metadata": {
    "ExecuteTime": {
     "end_time": "2023-08-17T13:12:57.758359Z",
     "start_time": "2023-08-17T13:12:57.427431Z"
    }
   },
   "outputs": [],
   "source": [
    "import uuid\n",
    "import time\n",
    "from chatbot_db import Chatbot"
   ]
  },
  {
   "attachments": {},
   "cell_type": "markdown",
   "metadata": {},
   "source": [
    "#### Create a chatbot \"Coach\" for user X"
   ]
  },
  {
   "attachments": {},
   "cell_type": "markdown",
   "metadata": {},
   "source": [
    "In the following, we use the default type_name, type_role, instance_context, and instance_starter defined in the Chatbot class. Provide your own prompts instead."
   ]
  },
  {
   "cell_type": "code",
   "execution_count": 3,
   "metadata": {
    "ExecuteTime": {
     "end_time": "2023-08-17T13:22:52.864538Z",
     "start_time": "2023-08-17T13:22:52.856879Z"
    }
   },
   "outputs": [],
   "source": [
    "# bot = Chatbot(\n",
    "#     database_file=\"data/chatbot.db\", \n",
    "#     type_id=\"9DB9EC22-71E6-4A10-B454-DCBF77CA109B\",\n",
    "#     user_id=\"68F5F770-3788-4D3C-8F4A-9B229EE11AD0\",\n",
    "#     type_name=Chatbot.default_type_name,\n",
    "#     type_role=Chatbot.default_type_role,\n",
    "#     instance_context=Chatbot.default_instance_context,\n",
    "#     instance_starter=Chatbot.default_instance_starter\n",
    "# )\n",
    "\n",
    "type_name = \"Act as a Linux Terminal\"\n",
    "type_role = \"I want you to act as a linux terminal.\"\n",
    "instance_context = \"I will type commands and you will reply with what the terminal should show. I want you to only reply with the terminal output inside one unique code block, and nothing else. do not write explanations. do not type commands unless I instruct you to do so. When I need to tell you something in English, I will do so by putting text inside curly brackets {like this}.\"\n",
    "instance_starter = \"My first command is pwd\"\n",
    "\n",
    "bot = Chatbot(\n",
    "    database_file=\"data/chatbot.db\", \n",
    "    type_id=\"9DB9EC22-71E6-4A10-B454-DCBF77CA109B\",\n",
    "    user_id=\"68F5F770-3788-4D3C-8F4A-9B229EE11AD0\",\n",
    "    type_name=type_name,\n",
    "    type_role=type_role,\n",
    "    instance_context=instance_context,\n",
    "    instance_starter=instance_starter\n",
    ")"
   ]
  },
  {
   "attachments": {},
   "cell_type": "markdown",
   "metadata": {},
   "source": [
    "Retrieve the complete conversation (held so far) or the bot information (type_role, instance_context, and instance_starter) as retrieved from the database. Both may be used to display that on a frontend."
   ]
  },
  {
   "cell_type": "code",
   "execution_count": 4,
   "metadata": {
    "ExecuteTime": {
     "end_time": "2023-08-17T14:00:24.858839Z",
     "start_time": "2023-08-17T14:00:24.851916Z"
    }
   },
   "outputs": [
    {
     "name": "stdout",
     "output_type": "stream",
     "text": [
      "[{'role': 'system', 'content': 'I want you to act as a linux terminal.'}, {'role': 'system', 'content': 'I will type commands and you will reply with what the terminal should show. I want you to only reply with the terminal output inside one unique code block, and nothing else. do not write explanations. do not type commands unless I instruct you to do so. When I need to tell you something in English, I will do so by putting text inside curly brackets {like this}.'}]\n",
      "{'name': 'Act as a Linux Terminal', 'role': 'I want you to act as a linux terminal.', 'context': 'I will type commands and you will reply with what the terminal should show. I want you to only reply with the terminal output inside one unique code block, and nothing else. do not write explanations. do not type commands unless I instruct you to do so. When I need to tell you something in English, I will do so by putting text inside curly brackets {like this}.'}\n"
     ]
    }
   ],
   "source": [
    "bot = Chatbot(\n",
    "    database_file=\"data/chatbot.db\", \n",
    "    type_id=\"9DB9EC22-71E6-4A10-B454-DCBF77CA109B\",\n",
    "    user_id=\"68F5F770-3788-4D3C-8F4A-9B229EE11AD0\"\n",
    ")\n",
    "print(bot.conversation_retrieve(with_system=True))\n",
    "print(bot.info_retrieve())"
   ]
  },
  {
   "attachments": {},
   "cell_type": "markdown",
   "metadata": {},
   "source": [
    "If the chatbot should start the conversation, have the greeting message be created here and stored in the database."
   ]
  },
  {
   "cell_type": "code",
   "execution_count": 5,
   "metadata": {
    "ExecuteTime": {
     "end_time": "2023-08-17T14:06:02.082793Z",
     "start_time": "2023-08-17T14:06:00.255213Z"
    }
   },
   "outputs": [
    {
     "name": "stdout",
     "output_type": "stream",
     "text": [
      "/home/user\n"
     ]
    }
   ],
   "source": [
    "print(bot.starter())"
   ]
  },
  {
   "attachments": {},
   "cell_type": "markdown",
   "metadata": {},
   "source": [
    "URL to be handed out to the user\n",
    "\n",
    "##### Generic URL\n",
    "https://[your pythonanywhere user name].pythonanywhere.com/[type id]/[user_id]/chat\n",
    "\n",
    "https://raaafael.pythonanywhere.com/9DB9EC22-71E6-4A10-B454-DCBF77CA109B/68F5F770-3788-4D3C-8F4A-9B229EE11AD0/chat\n",
    "\n",
    "##### For Example\n",
    "https://monkey23.pythonanywhere.com/053e97a0-6a91-4589-8602-340aa47b6376/7515865e-4097-4dd7-9567-d3c7a4c1ed07/chat"
   ]
  },
  {
   "attachments": {},
   "cell_type": "markdown",
   "metadata": {},
   "source": [
    "#### Creating multiple instances of chatbot \"Coach\"\n",
    "In the following, we assume the existence of the bot type created in the cells above. We show example code that will generate N bot instances of that type. Each instance has it's own prompts that will be appended to the type prompts."
   ]
  },
  {
   "cell_type": "code",
   "execution_count": 6,
   "metadata": {
    "ExecuteTime": {
     "end_time": "2023-08-17T14:31:53.228588Z",
     "start_time": "2023-08-17T14:30:33.859899Z"
    }
   },
   "outputs": [
    {
     "name": "stdout",
     "output_type": "stream",
     "text": [
      "`/home/user`\n",
      "/home/user\n",
      "```bash\n",
      "/home/user\n",
      "```\n",
      "/home/user\n",
      "/home/user\n",
      "successful: 5, failed: 0\n"
     ]
    }
   ],
   "source": [
    "# Amount instances to be created\n",
    "number_of_instances = 5\n",
    "\n",
    "# Change to list with hardcoded value, e.g., if you want to use existing users.\n",
    "user_ids = [str(uuid.uuid4()) for _ in range(number_of_instances)]\n",
    "\n",
    "c  = 0 # counter for successful requests, don't change\n",
    "error_c = 0 # counter for failed requests, don't change\n",
    "for user_id in user_ids:\n",
    "    bot = Chatbot(\n",
    "        database_file=\"data/chatbot.db\", \n",
    "        type_id=\"9DB9EC22-71E6-4A10-B454-DCBF77CA109B\",\n",
    "        user_id=user_id,\n",
    "        instance_context=instance_context,\n",
    "        instance_starter=instance_starter\n",
    "    )\n",
    "    try:\n",
    "        # each bot should have a first message to the user\n",
    "        print(bot.starter())\n",
    "    except:\n",
    "        error_c += 1\n",
    "        continue\n",
    "    c+=1\n",
    "    time.sleep(15) #openai seems to produce more errors if we send the requests too fast.\n",
    "    \n",
    "print(\"successful: {}, failed: {}\".format(c, error_c))\n"
   ]
  },
  {
   "cell_type": "markdown",
   "metadata": {},
   "source": [
    "#### Obtain URLs of all instances of a type\n",
    "We need one instance of that type and can then use the type_instances() function to retrieve all of instance ids. Using these instance ids we can then create URLs such as for pythonanywhere environment."
   ]
  },
  {
   "cell_type": "code",
   "execution_count": 7,
   "metadata": {
    "ExecuteTime": {
     "end_time": "2023-08-17T14:34:21.334058Z",
     "start_time": "2023-08-17T14:34:21.307434Z"
    }
   },
   "outputs": [
    {
     "name": "stdout",
     "output_type": "stream",
     "text": [
      "https://raaafael.pythonanywhere.com/9DB9EC22-71E6-4A10-B454-DCBF77CA109B/020294f2-e814-427b-82a5-59e29f256e52/chat\n",
      "https://raaafael.pythonanywhere.com/9DB9EC22-71E6-4A10-B454-DCBF77CA109B/0d795603-5719-4275-94f6-bb45620e318a/chat\n",
      "https://raaafael.pythonanywhere.com/9DB9EC22-71E6-4A10-B454-DCBF77CA109B/403f64e8-0ebb-4d90-be19-329765a606ac/chat\n",
      "https://raaafael.pythonanywhere.com/9DB9EC22-71E6-4A10-B454-DCBF77CA109B/68F5F770-3788-4D3C-8F4A-9B229EE11AD0/chat\n",
      "https://raaafael.pythonanywhere.com/9DB9EC22-71E6-4A10-B454-DCBF77CA109B/a14cbdd2-d1fc-44c4-b035-1cd2fd238138/chat\n",
      "https://raaafael.pythonanywhere.com/9DB9EC22-71E6-4A10-B454-DCBF77CA109B/caa7f1f4-7101-4eaa-864b-50814227e953/chat\n"
     ]
    }
   ],
   "source": [
    "pythonanywhere_username = \"raaafael\"\n",
    "type_id = \"9DB9EC22-71E6-4A10-B454-DCBF77CA109B\"\n",
    "bot = Chatbot(\n",
    "    database_file=\"data/chatbot.db\", \n",
    "    type_id=type_id,\n",
    "    user_id=user_ids[0]\n",
    ")\n",
    "\n",
    "for user_id in bot.type_instances():\n",
    "    print(\"https://{}.pythonanywhere.com/{}/{}/chat\".format(pythonanywhere_username, type_id, user_id))"
   ]
  },
  {
   "cell_type": "code",
   "execution_count": null,
   "outputs": [],
   "source": [],
   "metadata": {
    "collapsed": false
   }
  }
 ],
 "metadata": {
  "kernelspec": {
   "display_name": "Python 3",
   "language": "python",
   "name": "python3"
  },
  "language_info": {
   "codemirror_mode": {
    "name": "ipython",
    "version": 3
   },
   "file_extension": ".py",
   "mimetype": "text/x-python",
   "name": "python",
   "nbconvert_exporter": "python",
   "pygments_lexer": "ipython3",
   "version": "3.10.11"
  },
  "orig_nbformat": 4
 },
 "nbformat": 4,
 "nbformat_minor": 2
}
