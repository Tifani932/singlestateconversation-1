{
 "cells": [
  {
   "attachments": {},
   "cell_type": "markdown",
   "metadata": {},
   "source": [
    "## A Chatbot using GPT and a Database\n",
    "This allows multiple chatbot types (e.g. a health coach and a learning assistant) to be created. Multiple chatbot instances can be created per chatbot type (e.g. for User X and User Y). Both, type and instance are stored and referenced with an ID (e.g. with a UUID) in the database.\n",
    "\n",
    "This can support the deployment of chatbots in a web backend (state-less). For example, the UUIDs of the type and instance can be read as URL parameters from a URL that users have received from you.\n",
    "\n",
    "A chatbot is created with the following arguments.\n",
    "- database_file: File of SQLite (in Folder data/)\n",
    "- type_id: Reference to chatbot type\n",
    "- instance_id: Reference to chatbot instance (typically one per user - however, may also be shared by multiple users)\n",
    "- type_role: Role of chatbot type (will be turned into a first prompt with role:system)\n",
    "- instance_context: Context of chatbot instance (will be turned into a second prompt with role:system)\n",
    "- instance_starter: Will be used to generate an initial message to the user (will be turned into a final prompt with role:system)\n",
    "\n",
    "The following functions are meant to be used from an application (e.g. from controllers of a REST API).\n",
    "- conversation_retrieve(with_system=False): Retrieve the previous conversation history (default: without prompts with role:system)\n",
    "- start(): Returns an initial message to the user (Resulting from instance_starter prompt)\n",
    "- respond(user_says): Returns an assistance response to user_says\n",
    "- info_retrieve(): Returns the chatbot name, type role and instance context\n",
    "- reset(): Resets the conversation so far"
   ]
  },
  {
   "cell_type": "markdown",
   "metadata": {},
   "source": [
    "#### OpenAI API Key and Model\n",
    "\n",
    "Create file chatbot/openai.py with the following content\\\n",
    "    OPENAI_KEY = \"your OpenAI API key\"\\\n",
    "    OPENAI_MODEL = \"gpt-3.5-turbo-16k\"\\\n",
    "(You may rename the file chatbot/openai_template.py to openai.py and set the keys there)"
   ]
  },
  {
   "cell_type": "markdown",
   "metadata": {},
   "source": [
    "#### Google Colab Only: START\n",
    "\n",
    "You need a Google and Github account. Be prepared to authenticate yourself with both of these accounts."
   ]
  },
  {
   "cell_type": "markdown",
   "metadata": {},
   "source": [
    "#### Google Colab Only: END"
   ]
  },
  {
   "cell_type": "code",
   "execution_count": 1,
   "metadata": {},
   "outputs": [],
   "source": [
    "from chatbot.chatbot import Chatbot"
   ]
  },
  {
   "cell_type": "code",
   "execution_count": null,
   "metadata": {},
   "outputs": [],
   "source": [
    "role = \"\"\"\n",
    "Du bist ein Schriftsteller, der eine personalisierte Geschichte für einen Benutzer erstellen möchte. Dein Ziel ist es, in einem Gespräch mit dem Benutzer Antworten auf bestimmte Fragen zu erhalten, die dir helfen, die Geschichte auf seine Vorlieben abzustimmen. Stelle nicht alle Fragen auf einmal, sondern führe ein natürliches Gespräch, bei dem du schrittweise die benötigten Informationen erhältst. Die Person sollte sich nicht wie beim Ausfüllen eines Formulars fühlen. Erzeuge immer kurze, ansprechende Nachrichten an den Benutzer, um das Gespräch lebendig und interessant zu gestalten. Hier sind die Fragen, die du im Laufe des Gesprächs stellen sollst:\n",
    "\n",
    "1. Was sind deine Lieblingsbücher oder -autoren und was magst du besonders an ihnen?\n",
    "2. Welche Art von Genres gefällt dir am meisten, wie z.B. Fantasy, Science-Fiction, Krimis oder Abenteuer?\n",
    "3. Welche Arten von Charakteren findest du am interessantesten oder inspirierendsten?\n",
    "4. Gibt es bestimmte Themen oder Botschaften, die dich in Geschichten besonders ansprechen?\n",
    "5. Bevorzugst du Geschichten, die in der realen Welt, in einer fantastischen Welt, in der Zukunft oder in der Vergangenheit spielen?\n",
    "6. Welche Stimmung magst du in Geschichten am liebsten – spannend, lustig, gruselig, nachdenklich oder romantisch?\n",
    "7. Welche Filme oder Serien magst du und warum? Dies kann mir helfen, deinen Geschmack besser zu verstehen.\n",
    "8. Erzähle mir von deinen Hobbies oder Interessen. Vielleicht kann ich diese in die Geschichte einbauen.\n",
    "9. Gibt es spezielle Elemente, die du in einer Geschichte gerne sehen würdest, wie z.B. magische Fähigkeiten, Zeitreisen oder besondere Rätsel?\n",
    "10. Gibt es Dinge in Geschichten, die du nicht magst oder lieber vermeiden möchtest?\n",
    "\n",
    "Deine Aufgabe ist es, das Gespräch so zu führen, dass du am Ende alle notwendigen Informationen hast, um eine ansprechende und individuell zugeschnittene Geschichte zu schreiben.\n",
    "\"\"\"\n",
    "instance = \"\"\"\n",
    "Du führst nun ein Gespräch mit einer Benutzerin. Diese heisst Zoe und ist 13 Jahre alt. Führe das Gespräch auf eine motivierende, unterstützende und wohlwollende Art. Ermutige sie zur Beteiligung an das Gespräch und vermeide lange Antworten an Zoe.\n",
    "\n",
    "\"\"\"\n",
    "starter = \"\"\"\n",
    "\n",
    "\"\"\""
   ]
  },
  {
   "attachments": {},
   "cell_type": "markdown",
   "metadata": {},
   "source": [
    "#### Create a chatbot \"Coach\" for user X"
   ]
  },
  {
   "attachments": {},
   "cell_type": "markdown",
   "metadata": {},
   "source": [
    "In the following, we use the default type_name, type_role, instance_context, and instance_starter defined in the Chatbot class. Provide your own prompts instead."
   ]
  },
  {
   "cell_type": "code",
   "execution_count": null,
   "metadata": {},
   "outputs": [],
   "source": [
    "bot = Chatbot(\n",
    "    database_file=\"database/chatbot.db\", \n",
    "    type_id=\"5dbc5649-834c-44c4-9109-0567e183a2ec\",\n",
    "    user_id=\"43517942-1c16-4d41-86ff-5636d202b81d\",\n",
    "    type_name=Chatbot.default_type_name,\n",
    "    type_role=Chatbot.default_type_role,\n",
    "    instance_context=Chatbot.default_instance_context,\n",
    "    instance_starter=Chatbot.default_instance_starter\n",
    ")"
   ]
  },
  {
   "cell_type": "code",
   "execution_count": null,
   "metadata": {},
   "outputs": [],
   "source": [
    "print(bot.start())"
   ]
  },
  {
   "attachments": {},
   "cell_type": "markdown",
   "metadata": {},
   "source": [
    "#### Creating multiple instances of chatbot \"Coach\"\n",
    "In the following, we assume the existence of the bot type created in the cells above. We show example code that will generate N bot instances of that type. Each instance has it's own prompts (instance context and starter) that will be appended to the type prompts. Most importantly, each instance has its own chat history."
   ]
  },
  {
   "cell_type": "code",
   "execution_count": null,
   "metadata": {},
   "outputs": [],
   "source": [
    "import uuid\n",
    "import time"
   ]
  },
  {
   "cell_type": "code",
   "execution_count": null,
   "metadata": {},
   "outputs": [],
   "source": [
    "# Amount of instances to be created\n",
    "number_of_instances = 1\n",
    "\n",
    "# Change the following to a list of hardcoded instance IDs if you want to use existing users.\n",
    "user_ids = [str(uuid.uuid4()) for _ in range(number_of_instances)]\n",
    "\n",
    "c  = 0 # counter for successful requests, don't change\n",
    "error_c = 0 # counter for failed requests, don't change\n",
    "for user_id in user_ids:\n",
    "    bot = Chatbot(\n",
    "        database_file=\"database/chatbot.db\", \n",
    "        type_id=\"5dbc5649-834c-44c4-9109-0567e183a2ec\",\n",
    "        user_id=user_id,\n",
    "        instance_context=Chatbot.default_instance_context,\n",
    "        instance_starter=Chatbot.default_instance_starter\n",
    "    )\n",
    "    try:\n",
    "        # each bot should have a first message to the user\n",
    "        print(bot.start())\n",
    "    except:\n",
    "        error_c += 1\n",
    "        continue\n",
    "    c+=1\n",
    "    time.sleep(15) #openai seems to produce more errors if we send the requests too fast.\n",
    "    \n",
    "print(\"successful: {}, failed: {}\".format(c, error_c))\n"
   ]
  },
  {
   "cell_type": "markdown",
   "metadata": {},
   "source": [
    "#### Obtain URLs of all instances of a type\n",
    "We need one instance of that type and can then use the type_instances() function to retrieve all of instance ids. Using these instance ids we can then create URLs such as for pythonanywhere environment."
   ]
  },
  {
   "cell_type": "code",
   "execution_count": null,
   "metadata": {},
   "outputs": [],
   "source": [
    "pythonanywhere_username = \"<ENTER YOUR PYTHONANYWHERE USERNAME HERE>\"\n",
    "type_id = \"5dbc5649-834c-44c4-9109-0567e183a2ec\"\n",
    "bot = Chatbot(\n",
    "    database_file=\"database/chatbot.db\", \n",
    "    type_id=type_id,\n",
    "    user_id=user_ids[0]\n",
    ")\n",
    "\n",
    "for user_id in bot.type_instances():\n",
    "    print(\"https://{}.pythonanywhere.com/{}/{}/chat\".format(pythonanywhere_username, type_id, user_id))"
   ]
  }
 ],
 "metadata": {
  "kernelspec": {
   "display_name": "Python 3",
   "language": "python",
   "name": "python3"
  },
  "language_info": {
   "codemirror_mode": {
    "name": "ipython",
    "version": 3
   },
   "file_extension": ".py",
   "mimetype": "text/x-python",
   "name": "python",
   "nbconvert_exporter": "python",
   "pygments_lexer": "ipython3",
   "version": "3.11.6"
  },
  "orig_nbformat": 4
 },
 "nbformat": 4,
 "nbformat_minor": 2
}
